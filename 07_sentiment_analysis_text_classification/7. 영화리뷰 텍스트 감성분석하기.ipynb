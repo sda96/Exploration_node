{
 "cells": [
  {
   "cell_type": "markdown",
   "id": "gross-master",
   "metadata": {},
   "source": [
    "## 1. 필요한 패키지 불러오기"
   ]
  },
  {
   "cell_type": "code",
   "execution_count": 135,
   "id": "unnecessary-march",
   "metadata": {},
   "outputs": [],
   "source": [
    "import numpy as np\n",
    "import pandas as pd\n",
    "import tensorflow as tf\n",
    "from tensorflow.keras.preprocessing.sequence import pad_sequences\n",
    "from sklearn.model_selection import train_test_split\n",
    "from tensorflow import keras\n",
    "import re\n",
    "import matplotlib.pyplot as plt\n",
    "from tqdm import tqdm\n",
    "from konlpy.tag import Mecab\n",
    "from collections import defaultdict\n",
    "from tensorflow.keras.initializers import Constant\n",
    "import gensim"
   ]
  },
  {
   "cell_type": "markdown",
   "id": "based-palace",
   "metadata": {},
   "source": [
    "## 2. 데이터 가져오기"
   ]
  },
  {
   "cell_type": "code",
   "execution_count": 2,
   "id": "aggressive-shipping",
   "metadata": {},
   "outputs": [],
   "source": [
    "train_data = pd.read_table(\"./data/ratings_train.txt\")\n",
    "test_data = pd.read_table(\"./data/ratings_test.txt\")"
   ]
  },
  {
   "cell_type": "code",
   "execution_count": 3,
   "id": "suspended-poverty",
   "metadata": {},
   "outputs": [
    {
     "name": "stdout",
     "output_type": "stream",
     "text": [
      "훈련 데이터 개수 : 150000\n",
      "훈련 데이터셋 칼럼 : 3\n",
      "훈련 데이터 개수 : 50000\n",
      "훈련 데이터셋 칼럼 : 3\n",
      "칼럼명 : ['id', 'document', 'label']\n"
     ]
    },
    {
     "data": {
      "text/html": [
       "<div>\n",
       "<style scoped>\n",
       "    .dataframe tbody tr th:only-of-type {\n",
       "        vertical-align: middle;\n",
       "    }\n",
       "\n",
       "    .dataframe tbody tr th {\n",
       "        vertical-align: top;\n",
       "    }\n",
       "\n",
       "    .dataframe thead th {\n",
       "        text-align: right;\n",
       "    }\n",
       "</style>\n",
       "<table border=\"1\" class=\"dataframe\">\n",
       "  <thead>\n",
       "    <tr style=\"text-align: right;\">\n",
       "      <th></th>\n",
       "      <th>id</th>\n",
       "      <th>document</th>\n",
       "      <th>label</th>\n",
       "    </tr>\n",
       "  </thead>\n",
       "  <tbody>\n",
       "    <tr>\n",
       "      <th>0</th>\n",
       "      <td>9976970</td>\n",
       "      <td>아 더빙.. 진짜 짜증나네요 목소리</td>\n",
       "      <td>0</td>\n",
       "    </tr>\n",
       "    <tr>\n",
       "      <th>1</th>\n",
       "      <td>3819312</td>\n",
       "      <td>흠...포스터보고 초딩영화줄....오버연기조차 가볍지 않구나</td>\n",
       "      <td>1</td>\n",
       "    </tr>\n",
       "    <tr>\n",
       "      <th>2</th>\n",
       "      <td>10265843</td>\n",
       "      <td>너무재밓었다그래서보는것을추천한다</td>\n",
       "      <td>0</td>\n",
       "    </tr>\n",
       "    <tr>\n",
       "      <th>3</th>\n",
       "      <td>9045019</td>\n",
       "      <td>교도소 이야기구먼 ..솔직히 재미는 없다..평점 조정</td>\n",
       "      <td>0</td>\n",
       "    </tr>\n",
       "    <tr>\n",
       "      <th>4</th>\n",
       "      <td>6483659</td>\n",
       "      <td>사이몬페그의 익살스런 연기가 돋보였던 영화!스파이더맨에서 늙어보이기만 했던 커스틴 ...</td>\n",
       "      <td>1</td>\n",
       "    </tr>\n",
       "  </tbody>\n",
       "</table>\n",
       "</div>"
      ],
      "text/plain": [
       "         id                                           document  label\n",
       "0   9976970                                아 더빙.. 진짜 짜증나네요 목소리      0\n",
       "1   3819312                  흠...포스터보고 초딩영화줄....오버연기조차 가볍지 않구나      1\n",
       "2  10265843                                  너무재밓었다그래서보는것을추천한다      0\n",
       "3   9045019                      교도소 이야기구먼 ..솔직히 재미는 없다..평점 조정      0\n",
       "4   6483659  사이몬페그의 익살스런 연기가 돋보였던 영화!스파이더맨에서 늙어보이기만 했던 커스틴 ...      1"
      ]
     },
     "execution_count": 3,
     "metadata": {},
     "output_type": "execute_result"
    }
   ],
   "source": [
    "train_row = train_data.shape[0]\n",
    "train_col = train_data.shape[1]\n",
    "print(f\"훈련 데이터 개수 : {train_row}\\n훈련 데이터셋 칼럼 : {train_col}\")\n",
    "\n",
    "test_row = test_data.shape[0]\n",
    "test_col = test_data.shape[1]\n",
    "print(f\"훈련 데이터 개수 : {test_row}\\n훈련 데이터셋 칼럼 : {test_col}\")\n",
    "\n",
    "\n",
    "print(f\"칼럼명 : {list(train_data.columns)}\")\n",
    "train_data.head()"
   ]
  },
  {
   "cell_type": "markdown",
   "id": "proud-composite",
   "metadata": {},
   "source": [
    "## 3. 데이터 살펴보기 및 전처리 (1)"
   ]
  },
  {
   "cell_type": "markdown",
   "id": "interim-hammer",
   "metadata": {},
   "source": [
    "- 데이터 중복 제거\n",
    "- NaN 결측치 제거\n",
    "- 데이터 살펴보기\n",
    "- ~너무 긴 문장 제거하기~"
   ]
  },
  {
   "cell_type": "markdown",
   "id": "posted-procurement",
   "metadata": {},
   "source": [
    "### 중복 데이터 제거"
   ]
  },
  {
   "cell_type": "code",
   "execution_count": 4,
   "id": "dental-truck",
   "metadata": {},
   "outputs": [
    {
     "name": "stdout",
     "output_type": "stream",
     "text": [
      "중복 제거 후 훈련 데이터 개수 : 146183\n"
     ]
    }
   ],
   "source": [
    "# https://www.geeksforgeeks.org/python-pandas-dataframe-drop_duplicates/\n",
    "train_data = train_data.drop_duplicates(\"document\", keep=\"first\")\n",
    "print(f\"중복 제거 후 훈련 데이터 개수 : {len(train_data)}\")"
   ]
  },
  {
   "cell_type": "markdown",
   "id": "stable-albert",
   "metadata": {},
   "source": [
    "### 결측치 제거"
   ]
  },
  {
   "cell_type": "code",
   "execution_count": 5,
   "id": "static-curtis",
   "metadata": {},
   "outputs": [
    {
     "data": {
      "text/html": [
       "<div>\n",
       "<style scoped>\n",
       "    .dataframe tbody tr th:only-of-type {\n",
       "        vertical-align: middle;\n",
       "    }\n",
       "\n",
       "    .dataframe tbody tr th {\n",
       "        vertical-align: top;\n",
       "    }\n",
       "\n",
       "    .dataframe thead th {\n",
       "        text-align: right;\n",
       "    }\n",
       "</style>\n",
       "<table border=\"1\" class=\"dataframe\">\n",
       "  <thead>\n",
       "    <tr style=\"text-align: right;\">\n",
       "      <th></th>\n",
       "      <th>id</th>\n",
       "      <th>document</th>\n",
       "      <th>label</th>\n",
       "    </tr>\n",
       "  </thead>\n",
       "  <tbody>\n",
       "    <tr>\n",
       "      <th>25857</th>\n",
       "      <td>2172111</td>\n",
       "      <td>NaN</td>\n",
       "      <td>1</td>\n",
       "    </tr>\n",
       "  </tbody>\n",
       "</table>\n",
       "</div>"
      ],
      "text/plain": [
       "            id document  label\n",
       "25857  2172111      NaN      1"
      ]
     },
     "execution_count": 5,
     "metadata": {},
     "output_type": "execute_result"
    }
   ],
   "source": [
    "train_data[train_data[\"document\"].isnull()]"
   ]
  },
  {
   "cell_type": "code",
   "execution_count": 6,
   "id": "broad-breakdown",
   "metadata": {},
   "outputs": [
    {
     "name": "stdout",
     "output_type": "stream",
     "text": [
      "결측치 제거 후 훈련 데이터 개수 : 146182\n"
     ]
    }
   ],
   "source": [
    "train_data = train_data[train_data[\"document\"].isnull() == False]\n",
    "print(f\"결측치 제거 후 훈련 데이터 개수 : {len(train_data)}\")"
   ]
  },
  {
   "cell_type": "code",
   "execution_count": 7,
   "id": "eleven-artwork",
   "metadata": {},
   "outputs": [
    {
     "data": {
      "text/html": [
       "<div>\n",
       "<style scoped>\n",
       "    .dataframe tbody tr th:only-of-type {\n",
       "        vertical-align: middle;\n",
       "    }\n",
       "\n",
       "    .dataframe tbody tr th {\n",
       "        vertical-align: top;\n",
       "    }\n",
       "\n",
       "    .dataframe thead th {\n",
       "        text-align: right;\n",
       "    }\n",
       "</style>\n",
       "<table border=\"1\" class=\"dataframe\">\n",
       "  <thead>\n",
       "    <tr style=\"text-align: right;\">\n",
       "      <th></th>\n",
       "      <th>id</th>\n",
       "      <th>document</th>\n",
       "      <th>label</th>\n",
       "    </tr>\n",
       "  </thead>\n",
       "  <tbody>\n",
       "    <tr>\n",
       "      <th>0</th>\n",
       "      <td>9976970</td>\n",
       "      <td>아 더빙.. 진짜 짜증나네요 목소리</td>\n",
       "      <td>0</td>\n",
       "    </tr>\n",
       "    <tr>\n",
       "      <th>1</th>\n",
       "      <td>3819312</td>\n",
       "      <td>흠...포스터보고 초딩영화줄....오버연기조차 가볍지 않구나</td>\n",
       "      <td>1</td>\n",
       "    </tr>\n",
       "    <tr>\n",
       "      <th>2</th>\n",
       "      <td>10265843</td>\n",
       "      <td>너무재밓었다그래서보는것을추천한다</td>\n",
       "      <td>0</td>\n",
       "    </tr>\n",
       "    <tr>\n",
       "      <th>3</th>\n",
       "      <td>9045019</td>\n",
       "      <td>교도소 이야기구먼 ..솔직히 재미는 없다..평점 조정</td>\n",
       "      <td>0</td>\n",
       "    </tr>\n",
       "    <tr>\n",
       "      <th>4</th>\n",
       "      <td>6483659</td>\n",
       "      <td>사이몬페그의 익살스런 연기가 돋보였던 영화!스파이더맨에서 늙어보이기만 했던 커스틴 ...</td>\n",
       "      <td>1</td>\n",
       "    </tr>\n",
       "    <tr>\n",
       "      <th>...</th>\n",
       "      <td>...</td>\n",
       "      <td>...</td>\n",
       "      <td>...</td>\n",
       "    </tr>\n",
       "    <tr>\n",
       "      <th>146177</th>\n",
       "      <td>6222902</td>\n",
       "      <td>인간이 문제지.. 소는 뭔죄인가..</td>\n",
       "      <td>0</td>\n",
       "    </tr>\n",
       "    <tr>\n",
       "      <th>146178</th>\n",
       "      <td>8549745</td>\n",
       "      <td>평점이 너무 낮아서...</td>\n",
       "      <td>1</td>\n",
       "    </tr>\n",
       "    <tr>\n",
       "      <th>146179</th>\n",
       "      <td>9311800</td>\n",
       "      <td>이게 뭐요? 한국인은 거들먹거리고 필리핀 혼혈은 착하다?</td>\n",
       "      <td>0</td>\n",
       "    </tr>\n",
       "    <tr>\n",
       "      <th>146180</th>\n",
       "      <td>2376369</td>\n",
       "      <td>청춘 영화의 최고봉.방황과 우울했던 날들의 자화상</td>\n",
       "      <td>1</td>\n",
       "    </tr>\n",
       "    <tr>\n",
       "      <th>146181</th>\n",
       "      <td>9619869</td>\n",
       "      <td>한국 영화 최초로 수간하는 내용이 담긴 영화</td>\n",
       "      <td>0</td>\n",
       "    </tr>\n",
       "  </tbody>\n",
       "</table>\n",
       "<p>146182 rows × 3 columns</p>\n",
       "</div>"
      ],
      "text/plain": [
       "              id                                           document  label\n",
       "0        9976970                                아 더빙.. 진짜 짜증나네요 목소리      0\n",
       "1        3819312                  흠...포스터보고 초딩영화줄....오버연기조차 가볍지 않구나      1\n",
       "2       10265843                                  너무재밓었다그래서보는것을추천한다      0\n",
       "3        9045019                      교도소 이야기구먼 ..솔직히 재미는 없다..평점 조정      0\n",
       "4        6483659  사이몬페그의 익살스런 연기가 돋보였던 영화!스파이더맨에서 늙어보이기만 했던 커스틴 ...      1\n",
       "...          ...                                                ...    ...\n",
       "146177   6222902                                인간이 문제지.. 소는 뭔죄인가..      0\n",
       "146178   8549745                                      평점이 너무 낮아서...      1\n",
       "146179   9311800                    이게 뭐요? 한국인은 거들먹거리고 필리핀 혼혈은 착하다?      0\n",
       "146180   2376369                        청춘 영화의 최고봉.방황과 우울했던 날들의 자화상      1\n",
       "146181   9619869                           한국 영화 최초로 수간하는 내용이 담긴 영화      0\n",
       "\n",
       "[146182 rows x 3 columns]"
      ]
     },
     "execution_count": 7,
     "metadata": {},
     "output_type": "execute_result"
    }
   ],
   "source": [
    "train_data = train_data.reset_index().drop(columns = [\"index\"])\n",
    "train_data"
   ]
  },
  {
   "cell_type": "markdown",
   "id": "pediatric-bradley",
   "metadata": {},
   "source": [
    "### 데이터 살펴보기"
   ]
  },
  {
   "cell_type": "code",
   "execution_count": 8,
   "id": "polished-simon",
   "metadata": {},
   "outputs": [
    {
     "data": {
      "text/plain": [
       "label\n",
       "0    73342\n",
       "1    72840\n",
       "Name: id, dtype: int64"
      ]
     },
     "execution_count": 8,
     "metadata": {},
     "output_type": "execute_result"
    }
   ],
   "source": [
    "train_data.groupby(\"label\").count()[\"id\"]"
   ]
  },
  {
   "cell_type": "markdown",
   "id": "played-information",
   "metadata": {},
   "source": [
    "긍정 라벨인 1과 부정 라벨인 0의 개수는 서로 72000개 이상으로 비슷한 비율을 가지고 있습니다."
   ]
  },
  {
   "cell_type": "code",
   "execution_count": 9,
   "id": "optical-message",
   "metadata": {},
   "outputs": [
    {
     "data": {
      "text/plain": [
       "document    146182\n",
       "label       146182\n",
       "dtype: int64"
      ]
     },
     "execution_count": 9,
     "metadata": {},
     "output_type": "execute_result"
    }
   ],
   "source": [
    "train_data.groupby(\"id\").count().sum()"
   ]
  },
  {
   "cell_type": "code",
   "execution_count": 10,
   "id": "appointed-flush",
   "metadata": {},
   "outputs": [
    {
     "data": {
      "text/plain": [
       "True"
      ]
     },
     "execution_count": 10,
     "metadata": {},
     "output_type": "execute_result"
    }
   ],
   "source": [
    "train_data.groupby(\"id\").count().sum()[\"label\"] == len(train_data)"
   ]
  },
  {
   "cell_type": "markdown",
   "id": "earlier-infrastructure",
   "metadata": {},
   "source": [
    "전체 데이터의 개수와 id의 개수가 동일한 것으로 보아하니 해당 데이터셋의 모든 문장은 모두 다른 id가 작성한 것을 알 수가 있습니다.\n",
    "\n",
    "동일한 id가 서로 다른 문장을 작성한 경우는 없습니다."
   ]
  },
  {
   "cell_type": "code",
   "execution_count": 11,
   "id": "express-norfolk",
   "metadata": {},
   "outputs": [
    {
     "data": {
      "text/html": [
       "<div>\n",
       "<style scoped>\n",
       "    .dataframe tbody tr th:only-of-type {\n",
       "        vertical-align: middle;\n",
       "    }\n",
       "\n",
       "    .dataframe tbody tr th {\n",
       "        vertical-align: top;\n",
       "    }\n",
       "\n",
       "    .dataframe thead th {\n",
       "        text-align: right;\n",
       "    }\n",
       "</style>\n",
       "<table border=\"1\" class=\"dataframe\">\n",
       "  <thead>\n",
       "    <tr style=\"text-align: right;\">\n",
       "      <th></th>\n",
       "      <th>id</th>\n",
       "      <th>document</th>\n",
       "      <th>label</th>\n",
       "      <th>length</th>\n",
       "    </tr>\n",
       "  </thead>\n",
       "  <tbody>\n",
       "    <tr>\n",
       "      <th>0</th>\n",
       "      <td>9976970</td>\n",
       "      <td>아 더빙.. 진짜 짜증나네요 목소리</td>\n",
       "      <td>0</td>\n",
       "      <td>19</td>\n",
       "    </tr>\n",
       "    <tr>\n",
       "      <th>1</th>\n",
       "      <td>3819312</td>\n",
       "      <td>흠...포스터보고 초딩영화줄....오버연기조차 가볍지 않구나</td>\n",
       "      <td>1</td>\n",
       "      <td>33</td>\n",
       "    </tr>\n",
       "    <tr>\n",
       "      <th>2</th>\n",
       "      <td>10265843</td>\n",
       "      <td>너무재밓었다그래서보는것을추천한다</td>\n",
       "      <td>0</td>\n",
       "      <td>17</td>\n",
       "    </tr>\n",
       "    <tr>\n",
       "      <th>3</th>\n",
       "      <td>9045019</td>\n",
       "      <td>교도소 이야기구먼 ..솔직히 재미는 없다..평점 조정</td>\n",
       "      <td>0</td>\n",
       "      <td>29</td>\n",
       "    </tr>\n",
       "    <tr>\n",
       "      <th>4</th>\n",
       "      <td>6483659</td>\n",
       "      <td>사이몬페그의 익살스런 연기가 돋보였던 영화!스파이더맨에서 늙어보이기만 했던 커스틴 ...</td>\n",
       "      <td>1</td>\n",
       "      <td>61</td>\n",
       "    </tr>\n",
       "    <tr>\n",
       "      <th>...</th>\n",
       "      <td>...</td>\n",
       "      <td>...</td>\n",
       "      <td>...</td>\n",
       "      <td>...</td>\n",
       "    </tr>\n",
       "    <tr>\n",
       "      <th>146177</th>\n",
       "      <td>6222902</td>\n",
       "      <td>인간이 문제지.. 소는 뭔죄인가..</td>\n",
       "      <td>0</td>\n",
       "      <td>19</td>\n",
       "    </tr>\n",
       "    <tr>\n",
       "      <th>146178</th>\n",
       "      <td>8549745</td>\n",
       "      <td>평점이 너무 낮아서...</td>\n",
       "      <td>1</td>\n",
       "      <td>13</td>\n",
       "    </tr>\n",
       "    <tr>\n",
       "      <th>146179</th>\n",
       "      <td>9311800</td>\n",
       "      <td>이게 뭐요? 한국인은 거들먹거리고 필리핀 혼혈은 착하다?</td>\n",
       "      <td>0</td>\n",
       "      <td>31</td>\n",
       "    </tr>\n",
       "    <tr>\n",
       "      <th>146180</th>\n",
       "      <td>2376369</td>\n",
       "      <td>청춘 영화의 최고봉.방황과 우울했던 날들의 자화상</td>\n",
       "      <td>1</td>\n",
       "      <td>27</td>\n",
       "    </tr>\n",
       "    <tr>\n",
       "      <th>146181</th>\n",
       "      <td>9619869</td>\n",
       "      <td>한국 영화 최초로 수간하는 내용이 담긴 영화</td>\n",
       "      <td>0</td>\n",
       "      <td>24</td>\n",
       "    </tr>\n",
       "  </tbody>\n",
       "</table>\n",
       "<p>146182 rows × 4 columns</p>\n",
       "</div>"
      ],
      "text/plain": [
       "              id                                           document  label  \\\n",
       "0        9976970                                아 더빙.. 진짜 짜증나네요 목소리      0   \n",
       "1        3819312                  흠...포스터보고 초딩영화줄....오버연기조차 가볍지 않구나      1   \n",
       "2       10265843                                  너무재밓었다그래서보는것을추천한다      0   \n",
       "3        9045019                      교도소 이야기구먼 ..솔직히 재미는 없다..평점 조정      0   \n",
       "4        6483659  사이몬페그의 익살스런 연기가 돋보였던 영화!스파이더맨에서 늙어보이기만 했던 커스틴 ...      1   \n",
       "...          ...                                                ...    ...   \n",
       "146177   6222902                                인간이 문제지.. 소는 뭔죄인가..      0   \n",
       "146178   8549745                                      평점이 너무 낮아서...      1   \n",
       "146179   9311800                    이게 뭐요? 한국인은 거들먹거리고 필리핀 혼혈은 착하다?      0   \n",
       "146180   2376369                        청춘 영화의 최고봉.방황과 우울했던 날들의 자화상      1   \n",
       "146181   9619869                           한국 영화 최초로 수간하는 내용이 담긴 영화      0   \n",
       "\n",
       "        length  \n",
       "0           19  \n",
       "1           33  \n",
       "2           17  \n",
       "3           29  \n",
       "4           61  \n",
       "...        ...  \n",
       "146177      19  \n",
       "146178      13  \n",
       "146179      31  \n",
       "146180      27  \n",
       "146181      24  \n",
       "\n",
       "[146182 rows x 4 columns]"
      ]
     },
     "execution_count": 11,
     "metadata": {},
     "output_type": "execute_result"
    }
   ],
   "source": [
    "train_data[\"length\"] = train_data[\"document\"].apply(lambda x : len(x))\n",
    "train_data"
   ]
  },
  {
   "cell_type": "code",
   "execution_count": 12,
   "id": "french-double",
   "metadata": {
    "scrolled": true
   },
   "outputs": [
    {
     "data": {
      "image/png": "[encoded data removed]",
      "text/plain": [
       "<Figure size 432x288 with 1 Axes>"
      ]
     },
     "metadata": {
      "needs_background": "light"
     },
     "output_type": "display_data"
    }
   ],
   "source": [
    "train_data.groupby(\"length\").count()[\"id\"].plot()\n",
    "plt.title(\"Sentence length\")\n",
    "plt.show()"
   ]
  },
  {
   "cell_type": "code",
   "execution_count": 229,
   "id": "defensive-denial",
   "metadata": {},
   "outputs": [
    {
     "data": {
      "text/plain": [
       "22        재미없다 지루하고. 같은 음식 영화인데도 바베트의 만찬하고 넘 차이남....바베트의...\n",
       "46        리얼리티가 뛰어나긴 한데 큰 공감은 안간다. 이민기캐릭터는 정신의학상 분노조절장애 ...\n",
       "49        데너리스 타르 가르엔...나도 용의주인이 되고 싶다...누이랑,근친상간이나 하고 다...\n",
       "57        너무 충격적이엇다. 기분을 완전히 푹 꺼지게 하는 느낌... 활력이라고는 하나도 없...\n",
       "65        많은 사람들이 이 다큐를 보고 우리나라 슬픈 현대사의 한 단면에 대해 깊이 생각하고...\n",
       "                                ...                        \n",
       "146148    성룡의진중하고 무게있는 연기가 참좋다. 신주쿠-대병소장-베스트키드-스파이넥스트도어-...\n",
       "146159    일본은 한국전쟁에 참전한적도 없고 2차세계대전이후 완전 패망했다가 한국전쟁 때 군수...\n",
       "146161    그리 만족스럽진못했어도 7점은 나와야되는것같아 10점줌. 주인공들연기도 훌륭했고 내...\n",
       "146164    시간이 아깝다. 어린 여주의 연기는 인상적이었고 나중이 기대되어서 좋았고 남주 여주...\n",
       "146173    http://blog.naver.com/oroblast/220215679580 나쁜...\n",
       "Name: document, Length: 8684, dtype: object"
      ]
     },
     "execution_count": 229,
     "metadata": {},
     "output_type": "execute_result"
    }
   ],
   "source": [
    "train_data[train_data[\"length\"] > 100][\"document\"]"
   ]
  },
  {
   "cell_type": "markdown",
   "id": "wired-medium",
   "metadata": {},
   "source": [
    "주로 문장의 길이는 10~20 사이이며 140이상의 경우가 이상치라고 판단할 수 있을까 확인해본 결과 오히려 긴 문장에 담긴 단어들이 더 감정을 잘 표현한 경우가 많아서 모두 포함해도 괜찮다고 판단했습니다."
   ]
  },
  {
   "cell_type": "markdown",
   "id": "fiscal-class",
   "metadata": {},
   "source": [
    "### ~너무 긴 문장 제거하기~ - 사용가능한 아이디어지만 성능이 떨어지게됨"
   ]
  },
  {
   "cell_type": "markdown",
   "id": "casual-buyer",
   "metadata": {},
   "source": [
    "차라리 가징 긴 문장을 기준으로 패딩을 진행하겠습니다."
   ]
  },
  {
   "cell_type": "code",
   "execution_count": 13,
   "id": "flush-socket",
   "metadata": {},
   "outputs": [
    {
     "name": "stdout",
     "output_type": "stream",
     "text": [
      "가장 긴 문장의 길이 : 146\n"
     ]
    }
   ],
   "source": [
    "maxlen = max(train_data[\"length\"])\n",
    "print(f\"가장 긴 문장의 길이 : {maxlen}\")"
   ]
  },
  {
   "cell_type": "code",
   "execution_count": 105,
   "id": "possible-gnome",
   "metadata": {},
   "outputs": [],
   "source": [
    "# train_data[train_data[\"length\"] > 100]"
   ]
  },
  {
   "cell_type": "code",
   "execution_count": 106,
   "id": "monthly-buffer",
   "metadata": {},
   "outputs": [],
   "source": [
    "# maxlen = int(np.std(train_data.length) * 2 + np.mean(train_data.length))\n",
    "# print(f\"평균으로부터 2표준편차 이내의 문장 길이 : {maxlen}\")"
   ]
  },
  {
   "cell_type": "code",
   "execution_count": 107,
   "id": "powerful-upgrade",
   "metadata": {},
   "outputs": [],
   "source": [
    "# print(f\"긴 문장 제거 전 : {len(train_data)}\")\n",
    "# train_data = train_data.loc[train_data[\"length\"] <= maxlen, :]\n",
    "# train_data = train_data.reset_index().drop(columns=[\"index\"])\n",
    "# print(f\"긴 문장 제거 후 : {len(train_data)}\")"
   ]
  },
  {
   "cell_type": "markdown",
   "id": "killing-shadow",
   "metadata": {},
   "source": [
    "## 4. 텍스트 데이터 토큰화 및 임베딩 (2)"
   ]
  },
  {
   "cell_type": "markdown",
   "id": "celtic-mauritius",
   "metadata": {},
   "source": [
    "- 한국어 토크나이저로 토큰화\n",
    "- 불용어 제거\n",
    "- word_to_index 사전 구성\n",
    "- 텍스트를 라벨 인덱스로 변환"
   ]
  },
  {
   "cell_type": "markdown",
   "id": "every-satellite",
   "metadata": {},
   "source": [
    "### 한국어 토크나이저로 토큰화 & 불용어 제거"
   ]
  },
  {
   "cell_type": "code",
   "execution_count": 14,
   "id": "internal-communication",
   "metadata": {},
   "outputs": [],
   "source": [
    "def tokenization(corpus, tokenizer):\n",
    "    # https://pypi.org/project/python-mecab-ko/\n",
    "    \n",
    "    # 특수문자 제거\n",
    "    corpus = re.sub(\"[^ㄱ-ㅎ가-힣0-9A-Za-z]\", \" \", corpus)\n",
    "    corpus = re.sub(\"[ ]+\", \" \", corpus)\n",
    "    corpus = corpus.strip()\n",
    "    \n",
    "    # 토큰화\n",
    "    tokens = tokenizer.morphs(corpus)\n",
    "    \n",
    "    # 불용어 제거\n",
    "    stopwords = ['의','가','이','은','들','는','좀','잘','걍','과','도','를','으로','자','에','와','한','하다']\n",
    "    tokens = [word for word in tokens if word not in stopwords]\n",
    "    \n",
    "    return tokens        "
   ]
  },
  {
   "cell_type": "code",
   "execution_count": 15,
   "id": "trained-brighton",
   "metadata": {
    "scrolled": false
   },
   "outputs": [
    {
     "name": "stderr",
     "output_type": "stream",
     "text": [
      "100%|██████████| 146182/146182 [00:17<00:00, 8232.82it/s]\n"
     ]
    }
   ],
   "source": [
    "tokenizer = Mecab()\n",
    "\n",
    "tqdm.pandas()\n",
    "train_data[\"tokenization\"] = train_data[\"document\"].progress_apply(lambda x : tokenization(x, tokenizer))"
   ]
  },
  {
   "cell_type": "code",
   "execution_count": 16,
   "id": "pacific-suite",
   "metadata": {},
   "outputs": [
    {
     "name": "stdout",
     "output_type": "stream",
     "text": [
      "비어있는 데이터 제거 후 데이터 개수 : 146040\n"
     ]
    }
   ],
   "source": [
    "train_data[\"token_length\"] = train_data[\"tokenization\"].apply(lambda x: len(x))\n",
    "# https://www.kite.com/python/answers/how-to-select-rows-by-multiple-label-conditions-with-pandas-loc-in-python\n",
    "token_train_data = train_data.loc[(train_data[\"token_length\"] > 0), :]\n",
    "token_train_data = token_train_data.reset_index().drop(columns=[\"index\"])\n",
    "print(f\"비어있는 데이터 제거 후 데이터 개수 : {len(token_train_data)}\")"
   ]
  },
  {
   "cell_type": "markdown",
   "id": "surface-personal",
   "metadata": {},
   "source": [
    "### word_to_index 사전 구성"
   ]
  },
  {
   "cell_type": "code",
   "execution_count": 17,
   "id": "partial-record",
   "metadata": {},
   "outputs": [],
   "source": [
    "token_data = token_train_data[\"tokenization\"]\n",
    "word_num = defaultdict()\n",
    "\n",
    "for token_one in token_data:\n",
    "    for word in token_one:\n",
    "        if word in word_num:\n",
    "            word_num[word] += token_one.count(word)\n",
    "        else:\n",
    "            word_num[word] = token_one.count(word)\n",
    "\n",
    "word_num = sorted(dict(word_num).items(), key = lambda x: x[1], reverse = True)\n",
    "words = [i for i, j in word_num]"
   ]
  },
  {
   "cell_type": "code",
   "execution_count": 18,
   "id": "roman-night",
   "metadata": {},
   "outputs": [],
   "source": [
    "word_index = dict()\n",
    "index_word = dict()\n",
    "\n",
    "word_index[\"<pad>\"] = 0\n",
    "word_index[\"<bos>\"] = 1\n",
    "word_index[\"<unk>\"] = 2\n",
    "word_index[\"<unused>\"] = 3\n",
    "\n",
    "index_word[0] = \"<pad>\"\n",
    "index_word[1] = \"<bos>\"\n",
    "index_word[2] = \"<unk>\"\n",
    "index_word[3] = \"<unused>\"\n",
    "\n",
    "for ind, word in enumerate(words):\n",
    "    word_index[word] = ind + 4\n",
    "    index_word[ind + 4] = word"
   ]
  },
  {
   "cell_type": "markdown",
   "id": "atomic-happiness",
   "metadata": {},
   "source": [
    "### 텍스트를 라벨 인덱스로 변환"
   ]
  },
  {
   "cell_type": "code",
   "execution_count": 156,
   "id": "dutch-uncertainty",
   "metadata": {},
   "outputs": [
    {
     "data": {
      "text/plain": [
       "array([[    0,     0,     0, ...,    16,    30,   693],\n",
       "       [    0,     0,     0, ...,    12,    42,   385],\n",
       "       [    0,     0,     0, ...,    19,   206, 29321],\n",
       "       ...,\n",
       "       [    0,     0,     0, ..., 11828,  2889,     5],\n",
       "       [    0,     0,     0, ...,    56,   391,  8814],\n",
       "       [    0,     0,     0, ...,    84,  2858,     4]], dtype=int32)"
      ]
     },
     "execution_count": 156,
     "metadata": {},
     "output_type": "execute_result"
    }
   ],
   "source": [
    "def text_sequence(token_data, maxlen, num_word):\n",
    "    # 텍스트 데이터를 시퀀스 데이터로 변환\n",
    "    encode_data = []\n",
    "    dictionary = dict(list(word_index.items())[:num_word])\n",
    "    for data in token_data:\n",
    "        tmp = []\n",
    "        for word in data:\n",
    "            if word in dictionary:\n",
    "                tmp += [word_index[word]]\n",
    "            else:\n",
    "                tmp += [word_index[\"<unk>\"]]\n",
    "        encode_data += [tmp]\n",
    "    # 시퀀스 데이터 일정한 길이로 패딩\n",
    "    padded_data = pad_sequences(encode_data, value = word_index[\"<pad>\"], padding = \"pre\", maxlen = maxlen)\n",
    "    return padded_data\n",
    "\n",
    "padded_data = text_sequence(token_data, maxlen, len(word_index))\n",
    "padded_data"
   ]
  },
  {
   "cell_type": "code",
   "execution_count": 157,
   "id": "architectural-topic",
   "metadata": {},
   "outputs": [
    {
     "name": "stdout",
     "output_type": "stream",
     "text": [
      "전치리 완료된 문장의 개수 : 146040\n",
      "문장의 길이 : 146\n",
      "단어의 갯수 : 50763\n"
     ]
    }
   ],
   "source": [
    "print(f\"전치리 완료된 문장의 개수 : {padded_data.shape[0]}\")\n",
    "print(f\"문장의 길이 : {padded_data.shape[1]}\")\n",
    "print(f\"단어의 갯수 : {np.max(padded_data) + 1}\")"
   ]
  },
  {
   "cell_type": "markdown",
   "id": "discrete-housing",
   "metadata": {},
   "source": [
    "## 5. 긍정/부정 텍스트 분류모델 구축"
   ]
  },
  {
   "cell_type": "code",
   "execution_count": 164,
   "id": "impressive-stationery",
   "metadata": {},
   "outputs": [
    {
     "data": {
      "text/plain": [
       "((146040, 146), (146040,))"
      ]
     },
     "execution_count": 164,
     "metadata": {},
     "output_type": "execute_result"
    }
   ],
   "source": [
    "X = padded_data\n",
    "Y = np.array(token_train_data[\"label\"])\n",
    "X.shape, Y.shape"
   ]
  },
  {
   "cell_type": "code",
   "execution_count": 165,
   "id": "amazing-planet",
   "metadata": {},
   "outputs": [],
   "source": [
    "np.random.seed(200)\n",
    "random_index = np.random.choice(range(len(X)), 10000)\n",
    "mini_X = X[random_index]\n",
    "mini_Y = Y[random_index]"
   ]
  },
  {
   "cell_type": "code",
   "execution_count": 166,
   "id": "simplified-journal",
   "metadata": {},
   "outputs": [
    {
     "data": {
      "text/plain": [
       "((116832, 146), (116832,), (29208, 146), (29208,))"
      ]
     },
     "execution_count": 166,
     "metadata": {},
     "output_type": "execute_result"
    }
   ],
   "source": [
    "x_train, x_test, y_train, y_test = train_test_split(X, Y, test_size = 0.2, random_state = 300)\n",
    "#x_train, x_test, y_train, y_test = train_test_split(mini_X, mini_Y, test_size = 0.2, random_state = 300)\n",
    "x_train.shape, y_train.shape, x_test.shape, y_test.shape"
   ]
  },
  {
   "cell_type": "code",
   "execution_count": 167,
   "id": "checked-angle",
   "metadata": {},
   "outputs": [],
   "source": [
    "vocab_size = np.max(x_train) + 1\n",
    "word_vector_dim = 200\n",
    "hidden_size = 16\n",
    "es = tf.keras.callbacks.EarlyStopping(monitor=\"val_loss\", patience=1)\n",
    "epoch_num = 10"
   ]
  },
  {
   "cell_type": "markdown",
   "id": "statewide-projector",
   "metadata": {},
   "source": [
    "### simpleRNN model - Subclassing"
   ]
  },
  {
   "cell_type": "markdown",
   "id": "eight-excellence",
   "metadata": {},
   "source": [
    "[기본적인 SimpleRNN 구조 참고 사이트](https://aciddust.github.io/blog/post/Keras-%EC%88%9C%ED%99%98%EC%8B%A0%EA%B2%BD%EB%A7%9D-%EC%9D%B4%ED%95%B4/)"
   ]
  },
  {
   "cell_type": "code",
   "execution_count": 168,
   "id": "mature-hotel",
   "metadata": {},
   "outputs": [],
   "source": [
    "class TextGenerator(tf.keras.Model):\n",
    "    def __init__(self,vocab_size, embedding_size,hidden_size):\n",
    "        super().__init__()\n",
    "        self.embedding = tf.keras.layers.Embedding(vocab_size, embedding_size)\n",
    "        self.rnn_1 = tf.keras.layers.Bidirectional(tf.keras.layers.SimpleRNN(hidden_size, return_sequences = True))\n",
    "        self.rnn_2 = tf.keras.layers.Bidirectional(tf.keras.layers.SimpleRNN(hidden_size))\n",
    "        self.linear1 = tf.keras.layers.Dense(16, activation = \"relu\")\n",
    "        self.linear2 = tf.keras.layers.Dense(1, activation = \"sigmoid\")\n",
    "        \n",
    "    def call(self, x):\n",
    "        out = self.embedding(x)\n",
    "        out = self.rnn_1(out)\n",
    "        out = self.rnn_2(out)\n",
    "        out = self.linear1(out)\n",
    "        out = self.linear2(out)\n",
    "        \n",
    "        return out\n",
    "\n",
    "rnn_model = TextGenerator(vocab_size, word_vector_dim, hidden_size)"
   ]
  },
  {
   "cell_type": "code",
   "execution_count": 169,
   "id": "floppy-omaha",
   "metadata": {},
   "outputs": [
    {
     "name": "stdout",
     "output_type": "stream",
     "text": [
      "Epoch 1/10\n",
      "366/366 [==============================] - 113s 300ms/step - loss: 0.4724 - accuracy: 0.7759 - val_loss: 0.4153 - val_accuracy: 0.8179\n",
      "Epoch 2/10\n",
      "366/366 [==============================] - 109s 297ms/step - loss: 0.3019 - accuracy: 0.8771 - val_loss: 0.4043 - val_accuracy: 0.8303\n",
      "Epoch 3/10\n",
      "366/366 [==============================] - 107s 292ms/step - loss: 0.1813 - accuracy: 0.9327 - val_loss: 0.4542 - val_accuracy: 0.8235\n"
     ]
    }
   ],
   "source": [
    "rnn_model.compile(optimizer='adam',\n",
    "              loss='binary_crossentropy',\n",
    "              metrics=['accuracy'])\n",
    "rnn_history = rnn_model.fit(\n",
    "    x_train,\n",
    "    y_train,\n",
    "    validation_split = 0.2,\n",
    "    batch_size = 256,\n",
    "    callbacks = [es],\n",
    "    epochs = epoch_num)"
   ]
  },
  {
   "cell_type": "markdown",
   "id": "working-birthday",
   "metadata": {},
   "source": [
    "default - 문장 길이 146, 데이터 개수 10,000, 단어의 개수 20,000 은닉 사이즈 16, 임베딩 사이즈 200\n",
    "\n",
    "Epoch 5/10\n",
    "457/457 [==============================] - 89s 196ms/step - loss: 0.6539 - accuracy: 0.5347 - val_loss: 0.6815 - val_accuracy: 0.5236\n",
    "데이터 개수 full, 단어의 개수 full\n",
    "\n",
    "Epoch 4/10\n",
    "32/32 [==============================] - 5s 146ms/step - loss: 0.6683 - accuracy: 0.5341 - val_loss: 0.6730 - val_accuracy: 0.5237  \n",
    "문장길이 94 데이터 개수 10,000\n",
    "\n",
    "Epoch 3/5\n",
    "32/32 [==============================] - 5s 143ms/step - loss: 0.6877 - accuracy: 0.5097 - val_loss: 0.6901 - val_accuracy: 0.5148\n",
    "\n",
    "Epoch 1/5\n",
    "32/32 [==============================] - 7s 155ms/step - loss: 0.6929 - accuracy: 0.5040 - val_loss: 0.6918 - val_accuracy: 0.5024  \n",
    "rnn - activation relu\n",
    "\n",
    "Epoch 2/5\n",
    "25/25 [==============================] - 6s 244ms/step - loss: 0.4448 - accuracy: 0.8395 - val_loss: 0.4940 - val_accuracy: 0.7731  \n",
    "tf.keras.layers.Bidirectional"
   ]
  },
  {
   "cell_type": "markdown",
   "id": "prescribed-roberts",
   "metadata": {},
   "source": [
    "처음에는 Conv1D모델은 제대로 학습이 일어났지만 RNN모델과 LSTM모델이 제대로 학습이 진행되지 않는 문제가 발생하였습니다.  \n",
    "하지만 [텐서플로우 공식문서의 튜토리얼 예재](https://www.tensorflow.org/text/tutorials/text_classification_rnn)를 통하여 ```Bidirectional()```함수를 사용하면 학습이 진행되는 것을 확인하였습니다."
   ]
  },
  {
   "cell_type": "markdown",
   "id": "catholic-withdrawal",
   "metadata": {},
   "source": [
    "### 1-D conv1 model - Sequential API"
   ]
  },
  {
   "cell_type": "code",
   "execution_count": 170,
   "id": "reduced-young",
   "metadata": {
    "scrolled": false
   },
   "outputs": [
    {
     "name": "stdout",
     "output_type": "stream",
     "text": [
      "Model: \"sequential_4\"\n",
      "_________________________________________________________________\n",
      "Layer (type)                 Output Shape              Param #   \n",
      "=================================================================\n",
      "embedding_29 (Embedding)     (None, None, 200)         10152600  \n",
      "_________________________________________________________________\n",
      "conv1d_8 (Conv1D)            (None, None, 16)          22416     \n",
      "_________________________________________________________________\n",
      "max_pooling1d_4 (MaxPooling1 (None, None, 16)          0         \n",
      "_________________________________________________________________\n",
      "conv1d_9 (Conv1D)            (None, None, 16)          1808      \n",
      "_________________________________________________________________\n",
      "global_max_pooling1d_4 (Glob (None, 16)                0         \n",
      "_________________________________________________________________\n",
      "dense_62 (Dense)             (None, 8)                 136       \n",
      "_________________________________________________________________\n",
      "dense_63 (Dense)             (None, 1)                 9         \n",
      "=================================================================\n",
      "Total params: 10,176,969\n",
      "Trainable params: 10,176,969\n",
      "Non-trainable params: 0\n",
      "_________________________________________________________________\n"
     ]
    }
   ],
   "source": [
    "conv1_model = keras.Sequential()\n",
    "conv1_model.add(keras.layers.Embedding(vocab_size, word_vector_dim, input_shape=(None, )))\n",
    "conv1_model.add(keras.layers.Conv1D(16, 7, activation='relu'))\n",
    "conv1_model.add(keras.layers.MaxPooling1D(5))\n",
    "conv1_model.add(keras.layers.Conv1D(16, 7, activation='relu'))\n",
    "conv1_model.add(keras.layers.GlobalMaxPooling1D())\n",
    "conv1_model.add(keras.layers.Dense(8, activation='relu'))\n",
    "conv1_model.add(keras.layers.Dense(1, activation='sigmoid'))  # 최종 출력은 긍정/부정을 나타내는 1dim 입니다.\n",
    "conv1_model.summary()"
   ]
  },
  {
   "cell_type": "code",
   "execution_count": 171,
   "id": "recreational-triple",
   "metadata": {},
   "outputs": [
    {
     "name": "stdout",
     "output_type": "stream",
     "text": [
      "Epoch 1/10\n",
      "457/457 [==============================] - 139s 304ms/step - loss: 0.4170 - accuracy: 0.7940 - val_loss: 0.3381 - val_accuracy: 0.8528\n",
      "Epoch 2/10\n",
      "457/457 [==============================] - 131s 287ms/step - loss: 0.2532 - accuracy: 0.8992 - val_loss: 0.3402 - val_accuracy: 0.8549\n"
     ]
    }
   ],
   "source": [
    "conv1_model.compile(optimizer='adam',\n",
    "              loss='binary_crossentropy',\n",
    "              metrics=['accuracy'])\n",
    "conv1_history = conv1_model.fit(\n",
    "    x_train,\n",
    "    y_train,\n",
    "    validation_data = (x_test, y_test),\n",
    "    batch_size = 256,\n",
    "    callbacks = [es],\n",
    "    epochs = epoch_num)"
   ]
  },
  {
   "cell_type": "markdown",
   "id": "understood-carol",
   "metadata": {},
   "source": [
    "default - 문장 길이 146, 데이터 개수 10,000, 단어의 개수 20,000 은닉 사이즈 16, 임베딩 사이즈 200\n",
    "\n",
    "Epoch 1/10\n",
    "457/457 [==============================] - 61s 132ms/step - loss: 0.5016 - accuracy: 0.7401 - val_loss: 0.3371 - val_accuracy: 0.8527  \n",
    "데이터 개수 full, 단어의 개수 full\n",
    "\n",
    "Epoch 4/10\n",
    "32/32 [==============================] - 7s 221ms/step - loss: 0.5010 - accuracy: 0.7949 - val_loss: 0.5308 - val_accuracy: 0.7230  \n",
    "문장길이 94"
   ]
  },
  {
   "cell_type": "markdown",
   "id": "assigned-pierre",
   "metadata": {},
   "source": [
    "### LSTM model - 함수형 API"
   ]
  },
  {
   "cell_type": "code",
   "execution_count": 172,
   "id": "interim-village",
   "metadata": {},
   "outputs": [
    {
     "name": "stdout",
     "output_type": "stream",
     "text": [
      "Model: \"model_3\"\n",
      "_________________________________________________________________\n",
      "Layer (type)                 Output Shape              Param #   \n",
      "=================================================================\n",
      "input_6 (InputLayer)         [(None, 146)]             0         \n",
      "_________________________________________________________________\n",
      "embedding_30 (Embedding)     (None, 146, 200)          10152600  \n",
      "_________________________________________________________________\n",
      "bidirectional_25 (Bidirectio (None, 146, 32)           27776     \n",
      "_________________________________________________________________\n",
      "bidirectional_26 (Bidirectio (None, 146, 32)           6272      \n",
      "_________________________________________________________________\n",
      "dense_64 (Dense)             (None, 146, 16)           528       \n",
      "_________________________________________________________________\n",
      "dense_65 (Dense)             (None, 146, 1)            17        \n",
      "=================================================================\n",
      "Total params: 10,187,193\n",
      "Trainable params: 10,187,193\n",
      "Non-trainable params: 0\n",
      "_________________________________________________________________\n"
     ]
    }
   ],
   "source": [
    "inputs = tf.keras.layers.Input(shape=(x_train.shape[1]))\n",
    "layer = tf.keras.layers.Embedding(vocab_size, word_vector_dim)(inputs)\n",
    "layer = tf.keras.layers.Bidirectional(tf.keras.layers.LSTM(hidden_size, return_sequences=True))(layer)\n",
    "layer = tf.keras.layers.Bidirectional(tf.keras.layers.LSTM(hidden_size, return_sequences=True))(layer)\n",
    "layer = tf.keras.layers.Dense(16, activation = \"relu\")(layer)\n",
    "outputs = tf.keras.layers.Dense(1, activation = \"sigmoid\")(layer)\n",
    "lstm_model = tf.keras.Model(inputs, outputs)\n",
    "lstm_model.summary()"
   ]
  },
  {
   "cell_type": "code",
   "execution_count": 173,
   "id": "attempted-navigator",
   "metadata": {},
   "outputs": [
    {
     "name": "stdout",
     "output_type": "stream",
     "text": [
      "Epoch 1/10\n",
      "457/457 [==============================] - 242s 517ms/step - loss: 0.4981 - accuracy: 0.7656 - val_loss: 0.4167 - val_accuracy: 0.7984\n",
      "Epoch 2/10\n",
      "457/457 [==============================] - 234s 512ms/step - loss: 0.4051 - accuracy: 0.8317 - val_loss: 0.4589 - val_accuracy: 0.7472\n"
     ]
    }
   ],
   "source": [
    "lstm_model.compile(optimizer='adam',\n",
    "              loss='binary_crossentropy',\n",
    "              metrics=['accuracy'])\n",
    "lstm_history = lstm_model.fit(\n",
    "    x_train,\n",
    "    y_train,\n",
    "    validation_data = (x_test, y_test),\n",
    "    batch_size = 256,\n",
    "    callbacks = [es],\n",
    "    epochs = epoch_num)"
   ]
  },
  {
   "cell_type": "markdown",
   "id": "foster-swimming",
   "metadata": {},
   "source": [
    "default - 문장 길이 146, 데이터 개수 10,000, 단어의 개수 20,000 은닉 사이즈 16, 임베딩 사이즈 200\n",
    "\n",
    "\n",
    "Epoch 10/10\n",
    "457/457 [==============================] - 58s 127ms/step - loss: 0.6448 - accuracy: 0.5395 - val_loss: 0.7037 - val_accuracy: 0.5235  \n",
    "데이터 개수 full, 단어의 개수 full\n",
    "\n",
    "Epoch 5/10\n",
    "32/32 [==============================] - 9s 269ms/step - loss: 0.6591 - accuracy: 0.5447 - val_loss: 0.6793 - val_accuracy: 0.5226\n",
    "문장길이 94\n",
    "\n",
    "Epoch 3/5\n",
    "32/32 [==============================] - 15s 459ms/step - loss: 0.4638 - accuracy: 0.8195 - val_loss: 0.5224 - val_accuracy: 0.7887  \n",
    "tf.keras.layers.Bidirectional"
   ]
  },
  {
   "cell_type": "markdown",
   "id": "sweet-teach",
   "metadata": {},
   "source": [
    "## 6. 완성된 모델 성능 확인"
   ]
  },
  {
   "cell_type": "code",
   "execution_count": 174,
   "id": "substantial-details",
   "metadata": {},
   "outputs": [
    {
     "data": {
      "image/png": "[encoded data removed]",
      "text/plain": [
       "<Figure size 720x360 with 3 Axes>"
      ]
     },
     "metadata": {
      "needs_background": "light"
     },
     "output_type": "display_data"
    }
   ],
   "source": [
    "models = [rnn_history, conv1_history, lstm_history]\n",
    "names = [\"RNN\", \"Conv1D\", \"LSTM\"]\n",
    "\n",
    "fig, axes = plt.subplots(1, 3, figsize = (10, 5))\n",
    "axes = axes.ravel()\n",
    "\n",
    "for ind, axis in enumerate(axes):\n",
    "    tmp = models[ind].history\n",
    "    loss = tmp[\"loss\"]\n",
    "    val_loss = tmp[\"val_loss\"]\n",
    "    axis.plot(loss, label = \"train_loss\")\n",
    "    axis.plot(val_loss, label = \"val_loss\")\n",
    "    axis.set_title(names[ind])\n",
    "    axis.set_xlabel(\"epochs\")\n",
    "    axis.set_ylabel(\"loss\")\n",
    "\n",
    "    axis.legend(loc = \"lower left\")\n",
    "    \n",
    "plt.tight_layout()\n",
    "plt.show()"
   ]
  },
  {
   "cell_type": "markdown",
   "id": "mental-vietnamese",
   "metadata": {},
   "source": [
    "## 7. 임베딩 벡터 전이학습 적용"
   ]
  },
  {
   "cell_type": "code",
   "execution_count": 175,
   "id": "committed-watch",
   "metadata": {
    "scrolled": true
   },
   "outputs": [
    {
     "name": "stderr",
     "output_type": "stream",
     "text": [
      "/opt/conda/lib/python3.7/site-packages/ipykernel_launcher.py:3: DeprecationWarning: Call to deprecated `__getitem__` (Method will be removed in 4.0.0, use self.wv.__getitem__() instead).\n",
      "  This is separate from the ipykernel package so we can avoid doing imports until\n"
     ]
    },
    {
     "data": {
      "text/plain": [
       "(200,)"
      ]
     },
     "execution_count": 175,
     "metadata": {},
     "output_type": "execute_result"
    }
   ],
   "source": [
    "word2vec_path = './model/ko.bin'\n",
    "word2vec = gensim.models.Word2Vec.load(word2vec_path)\n",
    "vector = word2vec['사람']\n",
    "vector.shape     # 무려 300dim의 워드 벡터입니다."
   ]
  },
  {
   "cell_type": "code",
   "execution_count": 176,
   "id": "native-window",
   "metadata": {},
   "outputs": [
    {
     "name": "stderr",
     "output_type": "stream",
     "text": [
      "/opt/conda/lib/python3.7/site-packages/ipykernel_launcher.py:6: DeprecationWarning: Call to deprecated `__contains__` (Method will be removed in 4.0.0, use self.wv.__contains__() instead).\n",
      "  \n",
      "/opt/conda/lib/python3.7/site-packages/ipykernel_launcher.py:7: DeprecationWarning: Call to deprecated `__getitem__` (Method will be removed in 4.0.0, use self.wv.__getitem__() instead).\n",
      "  import sys\n"
     ]
    },
    {
     "data": {
      "text/plain": [
       "(50763, 200)"
      ]
     },
     "execution_count": 176,
     "metadata": {},
     "output_type": "execute_result"
    }
   ],
   "source": [
    "word_vector_dim = 200  # 워드 벡터의 차원수\n",
    "embedding_matrix = np.random.rand(vocab_size, word_vector_dim)\n",
    "\n",
    "# embedding_matrix에 Word2Vec 워드 벡터를 단어 하나씩마다 차례차례 카피한다.\n",
    "for i in range(4,vocab_size):\n",
    "    if index_word[i] in word2vec:\n",
    "        embedding_matrix[i] = word2vec[index_word[i]]\n",
    "embedding_matrix.shape"
   ]
  },
  {
   "cell_type": "markdown",
   "id": "scenic-correction",
   "metadata": {},
   "source": [
    "사전에 학습된 워드임베딩 모델를 gensim패키지로 불러오려고 하자 AttributeError: 'Word2Vec' object has no attribute 'vocabulary' 에러가 발생하였습니다. \n",
    "\n",
    "아지트에 올라와있는 [링크](https://iambeginnerdeveloper.tistory.com/41)를 참고하여 해결하였습니다."
   ]
  },
  {
   "cell_type": "markdown",
   "id": "legislative-efficiency",
   "metadata": {},
   "source": [
    "## 8. 전이학습 전과 후의 모델 비교"
   ]
  },
  {
   "cell_type": "markdown",
   "id": "compressed-spencer",
   "metadata": {},
   "source": [
    "### simpleRNN model - Subclassing"
   ]
  },
  {
   "cell_type": "code",
   "execution_count": 177,
   "id": "alike-count",
   "metadata": {},
   "outputs": [],
   "source": [
    "class TextGenerator(tf.keras.Model):\n",
    "    def __init__(self,vocab_size, embedding_size,hidden_size):\n",
    "        super().__init__()\n",
    "        self.embedding = tf.keras.layers.Embedding(vocab_size, \n",
    "                                                   embedding_size,\n",
    "                                                   embeddings_initializer=Constant(embedding_matrix),\n",
    "                                                   trainable=True,\n",
    "                                                   input_length=maxlen\n",
    "                                                  )\n",
    "        self.rnn_1 = tf.keras.layers.Bidirectional(tf.keras.layers.SimpleRNN(hidden_size, return_sequences = True))\n",
    "        self.rnn_2 = tf.keras.layers.Bidirectional(tf.keras.layers.SimpleRNN(hidden_size))\n",
    "        self.linear1 = tf.keras.layers.Dense(8, activation = \"relu\")\n",
    "        self.linear2 = tf.keras.layers.Dense(1, activation = \"sigmoid\")\n",
    "        \n",
    "    def call(self, x):\n",
    "        out = self.embedding(x)\n",
    "        out = self.rnn_1(out)\n",
    "        out = self.rnn_2(out)\n",
    "        out = self.linear1(out)\n",
    "        out = self.linear2(out)\n",
    "        \n",
    "        return out\n",
    "\n",
    "tuned_rnn_model = TextGenerator(vocab_size, word_vector_dim, hidden_size)"
   ]
  },
  {
   "cell_type": "code",
   "execution_count": 178,
   "id": "spatial-netherlands",
   "metadata": {
    "scrolled": true
   },
   "outputs": [
    {
     "name": "stdout",
     "output_type": "stream",
     "text": [
      "Epoch 1/10\n",
      "457/457 [==============================] - 141s 302ms/step - loss: 0.5153 - accuracy: 0.7369 - val_loss: 0.4187 - val_accuracy: 0.8122\n",
      "Epoch 2/10\n",
      "457/457 [==============================] - 137s 301ms/step - loss: 0.3593 - accuracy: 0.8484 - val_loss: 0.3834 - val_accuracy: 0.8350\n",
      "Epoch 3/10\n",
      "457/457 [==============================] - 137s 301ms/step - loss: 0.2913 - accuracy: 0.8839 - val_loss: 0.3744 - val_accuracy: 0.8402\n",
      "Epoch 4/10\n",
      "457/457 [==============================] - 137s 300ms/step - loss: 0.2423 - accuracy: 0.9078 - val_loss: 0.3989 - val_accuracy: 0.8407\n"
     ]
    }
   ],
   "source": [
    "tuned_rnn_model.compile(optimizer='adam',\n",
    "              loss='binary_crossentropy',\n",
    "              metrics=['accuracy'])\n",
    "tuned_rnn_history = tuned_rnn_model.fit(\n",
    "    x_train,\n",
    "    y_train,\n",
    "    validation_data = (x_test, y_test),\n",
    "    batch_size = 256,\n",
    "    callbacks = [es],\n",
    "    epochs = epoch_num)"
   ]
  },
  {
   "cell_type": "markdown",
   "id": "tender-scientist",
   "metadata": {},
   "source": [
    "Epoch 3/10\n",
    "457/457 [==============================] - 90s 196ms/step - loss: 0.6717 - accuracy: 0.5279 - val_loss: 0.6745 - val_accuracy: 0.5272\n",
    "\n",
    "Epoch 8/10\n",
    "32/32 [==============================] - 8s 262ms/step - loss: 0.2231 - accuracy: 0.9186 - val_loss: 0.6058 - val_accuracy: 0.7520  \n",
    "Bidirectional"
   ]
  },
  {
   "cell_type": "code",
   "execution_count": 179,
   "id": "european-contract",
   "metadata": {},
   "outputs": [
    {
     "data": {
      "image/png": "[encoded data removed]",
      "text/plain": [
       "<Figure size 720x360 with 1 Axes>"
      ]
     },
     "metadata": {
      "needs_background": "light"
     },
     "output_type": "display_data"
    }
   ],
   "source": [
    "plt.figure(figsize=(10,5))\n",
    "plt.plot(rnn_history.history[\"loss\"], label = \"train_loss\")\n",
    "plt.plot(rnn_history.history[\"val_loss\"], label = \"val_loss\")\n",
    "plt.plot(tuned_rnn_history.history[\"loss\"], label = \"tuned_train_loss\")\n",
    "plt.plot(tuned_rnn_history.history[\"val_loss\"], label = \"tuned_val_loss\")\n",
    "plt.xlabel(\"epochs\")\n",
    "plt.ylabel(\"loss\")\n",
    "plt.legend()\n",
    "plt.title(\"SimpleRNN\")\n",
    "plt.show()"
   ]
  },
  {
   "cell_type": "markdown",
   "id": "quality-forest",
   "metadata": {},
   "source": [
    "### 1-D conv1 model - Sequential API"
   ]
  },
  {
   "cell_type": "code",
   "execution_count": 180,
   "id": "incomplete-trauma",
   "metadata": {},
   "outputs": [
    {
     "name": "stdout",
     "output_type": "stream",
     "text": [
      "Model: \"sequential_5\"\n",
      "_________________________________________________________________\n",
      "Layer (type)                 Output Shape              Param #   \n",
      "=================================================================\n",
      "embedding_32 (Embedding)     (None, 146, 200)          10152600  \n",
      "_________________________________________________________________\n",
      "conv1d_10 (Conv1D)           (None, 140, 16)           22416     \n",
      "_________________________________________________________________\n",
      "max_pooling1d_5 (MaxPooling1 (None, 28, 16)            0         \n",
      "_________________________________________________________________\n",
      "conv1d_11 (Conv1D)           (None, 22, 16)            1808      \n",
      "_________________________________________________________________\n",
      "global_max_pooling1d_5 (Glob (None, 16)                0         \n",
      "_________________________________________________________________\n",
      "dense_68 (Dense)             (None, 8)                 136       \n",
      "_________________________________________________________________\n",
      "dense_69 (Dense)             (None, 1)                 9         \n",
      "=================================================================\n",
      "Total params: 10,176,969\n",
      "Trainable params: 10,176,969\n",
      "Non-trainable params: 0\n",
      "_________________________________________________________________\n"
     ]
    }
   ],
   "source": [
    "tuned_conv1_model = keras.Sequential()\n",
    "tuned_conv1_model.add(keras.layers.Embedding(vocab_size, \n",
    "                                       word_vector_dim, \n",
    "                                       embeddings_initializer=Constant(embedding_matrix), # 카피한 임베딩을 여기서 활용\n",
    "                                       trainable=True, # trainable을 True로 주면 Fine-tuning\n",
    "                                       input_length=maxlen))\n",
    "tuned_conv1_model.add(keras.layers.Conv1D(16, 7, activation='relu'))\n",
    "tuned_conv1_model.add(keras.layers.MaxPooling1D(5))\n",
    "tuned_conv1_model.add(keras.layers.Conv1D(16, 7, activation='relu'))\n",
    "tuned_conv1_model.add(keras.layers.GlobalMaxPooling1D())\n",
    "tuned_conv1_model.add(keras.layers.Dense(8, activation='relu'))\n",
    "tuned_conv1_model.add(keras.layers.Dense(1, activation='sigmoid'))  # 최종 출력은 긍정/부정을 나타내는 1dim 입니다.\n",
    "tuned_conv1_model.summary()"
   ]
  },
  {
   "cell_type": "code",
   "execution_count": 181,
   "id": "elder-marine",
   "metadata": {
    "scrolled": true
   },
   "outputs": [
    {
     "name": "stdout",
     "output_type": "stream",
     "text": [
      "Epoch 1/10\n",
      "457/457 [==============================] - 140s 304ms/step - loss: 0.5513 - accuracy: 0.6870 - val_loss: 0.4181 - val_accuracy: 0.8093\n",
      "Epoch 2/10\n",
      "457/457 [==============================] - 138s 302ms/step - loss: 0.3587 - accuracy: 0.8446 - val_loss: 0.3711 - val_accuracy: 0.8380\n",
      "Epoch 3/10\n",
      "457/457 [==============================] - 138s 303ms/step - loss: 0.2932 - accuracy: 0.8799 - val_loss: 0.3643 - val_accuracy: 0.8424\n",
      "Epoch 4/10\n",
      "457/457 [==============================] - 139s 303ms/step - loss: 0.2476 - accuracy: 0.9041 - val_loss: 0.3752 - val_accuracy: 0.8435\n"
     ]
    }
   ],
   "source": [
    "tuned_conv1_model.compile(optimizer='adam',\n",
    "              loss='binary_crossentropy',\n",
    "              metrics=['accuracy'])\n",
    "tuned_conv1_history = tuned_conv1_model.fit(\n",
    "    x_train,\n",
    "    y_train,\n",
    "    validation_data = (x_test, y_test),\n",
    "    batch_size = 256,\n",
    "    callbacks = [es],\n",
    "    epochs = epoch_num)"
   ]
  },
  {
   "cell_type": "markdown",
   "id": "opposed-maple",
   "metadata": {},
   "source": [
    "Epoch 4/10\n",
    "457/457 [==============================] - 55s 121ms/step - loss: 0.2466 - accuracy: 0.9042 - val_loss: 0.3738 - val_accuracy: 0.8434"
   ]
  },
  {
   "cell_type": "code",
   "execution_count": 182,
   "id": "democratic-charter",
   "metadata": {
    "scrolled": true
   },
   "outputs": [
    {
     "data": {
      "image/png": "[encoded data removed]",
      "text/plain": [
       "<Figure size 720x360 with 1 Axes>"
      ]
     },
     "metadata": {
      "needs_background": "light"
     },
     "output_type": "display_data"
    }
   ],
   "source": [
    "plt.figure(figsize=(10,5))\n",
    "plt.plot(conv1_history.history[\"loss\"], label = \"train_loss\")\n",
    "plt.plot(conv1_history.history[\"val_loss\"], label = \"val_loss\")\n",
    "plt.plot(tuned_conv1_history.history[\"loss\"], label = \"tuned_train_loss\")\n",
    "plt.plot(tuned_conv1_history.history[\"val_loss\"], label = \"tuned_val_loss\")\n",
    "plt.xlabel(\"epochs\")\n",
    "plt.ylabel(\"loss\")\n",
    "plt.legend()\n",
    "plt.title(\"Conv1D\")\n",
    "plt.show()"
   ]
  },
  {
   "cell_type": "markdown",
   "id": "revolutionary-highland",
   "metadata": {},
   "source": [
    "### LSTM model - 함수형 API"
   ]
  },
  {
   "cell_type": "code",
   "execution_count": 183,
   "id": "social-tennessee",
   "metadata": {},
   "outputs": [
    {
     "name": "stdout",
     "output_type": "stream",
     "text": [
      "Model: \"model_4\"\n",
      "_________________________________________________________________\n",
      "Layer (type)                 Output Shape              Param #   \n",
      "=================================================================\n",
      "input_7 (InputLayer)         [(None, 146)]             0         \n",
      "_________________________________________________________________\n",
      "embedding_33 (Embedding)     (None, 146, 200)          10152600  \n",
      "_________________________________________________________________\n",
      "bidirectional_29 (Bidirectio (None, 146, 32)           27776     \n",
      "_________________________________________________________________\n",
      "bidirectional_30 (Bidirectio (None, 32)                6272      \n",
      "_________________________________________________________________\n",
      "dense_70 (Dense)             (None, 16)                528       \n",
      "_________________________________________________________________\n",
      "dense_71 (Dense)             (None, 1)                 17        \n",
      "=================================================================\n",
      "Total params: 10,187,193\n",
      "Trainable params: 10,187,193\n",
      "Non-trainable params: 0\n",
      "_________________________________________________________________\n"
     ]
    }
   ],
   "source": [
    "inputs = tf.keras.layers.Input(shape=(x_train.shape[1]))\n",
    "layer = tf.keras.layers.Embedding(vocab_size, \n",
    "                                       word_vector_dim, \n",
    "                                       embeddings_initializer=Constant(embedding_matrix), # 카피한 임베딩을 여기서 활용\n",
    "                                       trainable=True, # trainable을 True로 주면 Fine-tuning\n",
    "                                       input_length=maxlen)(inputs)\n",
    "layer = tf.keras.layers.Bidirectional(tf.keras.layers.LSTM(hidden_size, return_sequences=True))(layer)\n",
    "layer = tf.keras.layers.Bidirectional(tf.keras.layers.LSTM(hidden_size))(layer)\n",
    "layer = tf.keras.layers.Dense(16, activation = \"relu\")(layer)\n",
    "outputs = tf.keras.layers.Dense(1, activation = \"sigmoid\")(layer)\n",
    "tuned_lstm_model = tf.keras.Model(inputs, outputs)\n",
    "tuned_lstm_model.summary()"
   ]
  },
  {
   "cell_type": "code",
   "execution_count": 184,
   "id": "approved-basics",
   "metadata": {},
   "outputs": [
    {
     "name": "stdout",
     "output_type": "stream",
     "text": [
      "Epoch 1/10\n",
      "457/457 [==============================] - 256s 548ms/step - loss: 0.4406 - accuracy: 0.7910 - val_loss: 0.3638 - val_accuracy: 0.8366\n",
      "Epoch 2/10\n",
      "457/457 [==============================] - 230s 504ms/step - loss: 0.3027 - accuracy: 0.8730 - val_loss: 0.3505 - val_accuracy: 0.8452\n",
      "Epoch 3/10\n",
      "457/457 [==============================] - 231s 506ms/step - loss: 0.2448 - accuracy: 0.9020 - val_loss: 0.3618 - val_accuracy: 0.8510\n"
     ]
    }
   ],
   "source": [
    "tuned_lstm_model.compile(optimizer='adam',\n",
    "              loss='binary_crossentropy',\n",
    "              metrics=['accuracy'])\n",
    "tuned_lstm_history = tuned_lstm_model.fit(\n",
    "    x_train,\n",
    "    y_train,\n",
    "    validation_data = (x_test, y_test),\n",
    "    batch_size = 256,\n",
    "    callbacks = [es],\n",
    "    epochs = epoch_num)"
   ]
  },
  {
   "cell_type": "markdown",
   "id": "postal-grenada",
   "metadata": {},
   "source": [
    "Epoch 4/10\n",
    "457/457 [==============================] - 59s 129ms/step - loss: 0.6622 - accuracy: 0.5324 - val_loss: 0.6724 - val_accuracy: 0.5240\n",
    "\n",
    "Epoch 5/5\n",
    "32/32 [==============================] - 15s 465ms/step - loss: 0.3135 - accuracy: 0.8719 - val_loss: 0.4756 - val_accuracy: 0.7860  \n",
    "Bidirectional"
   ]
  },
  {
   "cell_type": "code",
   "execution_count": 185,
   "id": "adapted-spoke",
   "metadata": {
    "scrolled": true
   },
   "outputs": [
    {
     "data": {
      "image/png": "[encoded data removed]",
      "text/plain": [
       "<Figure size 720x360 with 1 Axes>"
      ]
     },
     "metadata": {
      "needs_background": "light"
     },
     "output_type": "display_data"
    }
   ],
   "source": [
    "plt.figure(figsize=(10,5))\n",
    "plt.plot(lstm_history.history[\"loss\"], label = \"train_loss\")\n",
    "plt.plot(lstm_history.history[\"val_loss\"], label = \"val_loss\")\n",
    "plt.plot(tuned_lstm_history.history[\"loss\"], label = \"tuned_train_loss\")\n",
    "plt.plot(tuned_lstm_history.history[\"val_loss\"], label = \"tuned_val_loss\")\n",
    "plt.xlabel(\"epochs\")\n",
    "plt.ylabel(\"loss\")\n",
    "plt.legend()\n",
    "plt.title(\"LSTM\")\n",
    "plt.show()"
   ]
  },
  {
   "cell_type": "markdown",
   "id": "settled-might",
   "metadata": {},
   "source": [
    "사전에 학습돤 word2vec모델을 가지고 현재 데이터에 Fine-tuning을 한 결과 RNN, LSTM, Conv1D 3가지 모델 모두 val_loss값이 어느정도 감소하였으며 그 중에서 가장 val_loss값이 가장 작은 모델은 Fine-tuning이 완료된 LSTM모델이었습니다.\n",
    "\n",
    "가장 성능이 좋게 나온 LSTM모델을 가지고 실제 테스트 데이터를 예측하여 보겠습니다."
   ]
  },
  {
   "cell_type": "markdown",
   "id": "coated-microphone",
   "metadata": {},
   "source": [
    "## 9. 최적의 모델로 테스트셋 예측하기"
   ]
  },
  {
   "cell_type": "markdown",
   "id": "federal-bahrain",
   "metadata": {},
   "source": [
    "우선 훈련 데이터셋에 적용하였던 전처리 과정을 테스트 데이터셋에도 적용하겠습니다."
   ]
  },
  {
   "cell_type": "code",
   "execution_count": 206,
   "id": "sealed-recovery",
   "metadata": {},
   "outputs": [
    {
     "name": "stderr",
     "output_type": "stream",
     "text": [
      "/opt/conda/lib/python3.7/site-packages/ipykernel_launcher.py:3: UserWarning: Boolean Series key will be reindexed to match DataFrame index.\n",
      "  This is separate from the ipykernel package so we can avoid doing imports until\n"
     ]
    }
   ],
   "source": [
    "test_data = pd.read_table(\"./data/ratings_test.txt\")\n",
    "test_data = test_data.drop_duplicates(\"document\", keep=\"first\")\n",
    "test_data = test_data[train_data[\"document\"].isnull() == False]\n",
    "test_data = test_data.dropna()\n",
    "test_data = test_data.reset_index().drop(columns = [\"index\"])"
   ]
  },
  {
   "cell_type": "code",
   "execution_count": 207,
   "id": "understanding-madagascar",
   "metadata": {},
   "outputs": [
    {
     "name": "stderr",
     "output_type": "stream",
     "text": [
      "100%|██████████| 49157/49157 [00:05<00:00, 8286.07it/s]\n"
     ]
    }
   ],
   "source": [
    "tqdm.pandas()\n",
    "test_data[\"tokenization\"] = test_data[\"document\"].progress_apply(lambda x : tokenization(x, tokenizer))"
   ]
  },
  {
   "cell_type": "code",
   "execution_count": 208,
   "id": "incorrect-lingerie",
   "metadata": {},
   "outputs": [
    {
     "name": "stdout",
     "output_type": "stream",
     "text": [
      "비어있는 데이터 제거 후 데이터 개수 : 49104\n"
     ]
    }
   ],
   "source": [
    "test_data[\"token_length\"] = test_data[\"tokenization\"].apply(lambda x: len(x))\n",
    "\n",
    "token_test_data = test_data.loc[(test_data[\"token_length\"] > 0), :]\n",
    "token_test_data = token_test_data.reset_index().drop(columns=[\"index\"])\n",
    "print(f\"비어있는 데이터 제거 후 데이터 개수 : {len(token_test_data)}\")"
   ]
  },
  {
   "cell_type": "code",
   "execution_count": 211,
   "id": "civilian-wilderness",
   "metadata": {},
   "outputs": [
    {
     "data": {
      "text/plain": [
       "array([[   0,    0,    0, ...,    0,  480,   77],\n",
       "       [   0,    0,    0, ...,    0,    0,    2],\n",
       "       [   0,    0,    0, ..., 3687,   66,  896],\n",
       "       ...,\n",
       "       [   0,    0,    0, ...,    7,   11, 1509],\n",
       "       [   0,    0,    0, ...,   64,  303,   41],\n",
       "       [   0,    0,    0, ...,  166,   63, 1061]], dtype=int32)"
      ]
     },
     "execution_count": 211,
     "metadata": {},
     "output_type": "execute_result"
    }
   ],
   "source": [
    "test_token = token_test_data[\"tokenization\"] \n",
    "padded_test_data = text_sequence(test_token, maxlen, len(word_index))\n",
    "padded_test_data"
   ]
  },
  {
   "cell_type": "markdown",
   "id": "personalized-scotland",
   "metadata": {},
   "source": [
    "전처리가 완료된 테스트셋을 가장 성능이 좋게 나온 LSTM모델에 넣어서 결과를 확인하겠습니다."
   ]
  },
  {
   "cell_type": "code",
   "execution_count": 219,
   "id": "facial-print",
   "metadata": {},
   "outputs": [
    {
     "name": "stdout",
     "output_type": "stream",
     "text": [
      "1535/1535 [==============================] - 49s 32ms/step - loss: 0.4605 - accuracy: 0.7513\n",
      "1535/1535 [==============================] - 48s 31ms/step - loss: 0.3537 - accuracy: 0.8541\n"
     ]
    }
   ],
   "source": [
    "test_x = padded_test_data\n",
    "test_y = token_test_data[\"label\"].to_numpy()\n",
    "\n",
    "test_loss, test_accuracy = lstm_model.evaluate(test_x, test_y)\n",
    "tuned_test_loss, tuned_test_accuracy = tuned_lstm_model.evaluate(test_x, test_y)"
   ]
  },
  {
   "cell_type": "code",
   "execution_count": 226,
   "id": "aerial-albania",
   "metadata": {},
   "outputs": [
    {
     "name": "stdout",
     "output_type": "stream",
     "text": [
      "전이학습 전 테스트셋 정확도 : 75.13%\n",
      "전이학습 전 테스트셋 loss : 0.46054524183273315\n",
      "전이학습 후 테스트셋 정확도 : 85.41%\n",
      "전이학습 후 테스트셋 loss : 0.3537302613258362\n"
     ]
    }
   ],
   "source": [
    "print(f\"전이학습 전 테스트셋 정확도 : {round(test_accuracy * 100, 2)}%\")\n",
    "print(f\"전이학습 전 테스트셋 loss : {test_loss}\")\n",
    "print(f\"전이학습 후 테스트셋 정확도 : {round(tuned_test_accuracy * 100, 2)}%\")\n",
    "print(f\"전이학습 후 테스트셋 loss : {tuned_test_loss}\")"
   ]
  },
  {
   "cell_type": "markdown",
   "id": "incredible-fitting",
   "metadata": {},
   "source": [
    "LSTM모델로 테스트셋을 예측한 결과 전이학습을 적용하기전에는 약 75%였지만 word2vec로 사전에 학습이 완료된 모델을 Embedding층에 Fine-tuning을 한 결과 약 85%의 정확도를 보였으며 10%정도 성능이 향상되었습니다."
   ]
  }
 ],
 "metadata": {
  "kernelspec": {
   "display_name": "Python 3",
   "language": "python",
   "name": "python3"
  },
  "language_info": {
   "codemirror_mode": {
    "name": "ipython",
    "version": 3
   },
   "file_extension": ".py",
   "mimetype": "text/x-python",
   "name": "python",
   "nbconvert_exporter": "python",
   "pygments_lexer": "ipython3",
   "version": "3.7.9"
  }
 },
 "nbformat": 4,
 "nbformat_minor": 5
}
