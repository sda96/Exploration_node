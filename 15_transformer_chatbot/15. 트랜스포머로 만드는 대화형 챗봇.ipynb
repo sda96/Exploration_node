{
 "cells": [
  {
   "cell_type": "markdown",
   "id": "civilian-welsh",
   "metadata": {},
   "source": [
    "## 1. 필요한 패키지 불러오기"
   ]
  },
  {
   "cell_type": "code",
   "execution_count": 1,
   "id": "honest-honolulu",
   "metadata": {},
   "outputs": [],
   "source": [
    "import numpy as np\n",
    "import pandas as pd\n",
    "import matplotlib.pyplot as plt\n",
    "from tqdm import tqdm\n",
    "from collections import defaultdict\n",
    "\n",
    "import re\n",
    "import gensim\n",
    "from konlpy.tag import Mecab\n",
    "\n",
    "import tensorflow as tf\n",
    "import tensorflow_datasets as tfds\n",
    "from tensorflow.keras.initializers import Constant"
   ]
  },
  {
   "cell_type": "markdown",
   "id": "reduced-administrator",
   "metadata": {},
   "source": [
    "mecab이 사용되지 않은 오류가 발생하면 다시 설치해주어야 합니다.  \n",
    "!bash <(curl -s https://raw.githubusercontent.com/konlpy/konlpy/master/scripts/mecab.sh)\n",
    "\n",
    "word2vec gensim을 사용하기 위해서 버전 다운그레이드가 필요햡니다.  \n",
    "!pip install --upgrade gensim==3.8.3"
   ]
  },
  {
   "cell_type": "markdown",
   "id": "recorded-savings",
   "metadata": {},
   "source": [
    "## 2. 데이터 불러오기"
   ]
  },
  {
   "cell_type": "code",
   "execution_count": 2,
   "id": "buried-charm",
   "metadata": {
    "scrolled": false
   },
   "outputs": [
    {
     "name": "stdout",
     "output_type": "stream",
     "text": [
      "데이터 개수 : 11823\n"
     ]
    },
    {
     "data": {
      "text/html": [
       "<div>\n",
       "<style scoped>\n",
       "    .dataframe tbody tr th:only-of-type {\n",
       "        vertical-align: middle;\n",
       "    }\n",
       "\n",
       "    .dataframe tbody tr th {\n",
       "        vertical-align: top;\n",
       "    }\n",
       "\n",
       "    .dataframe thead th {\n",
       "        text-align: right;\n",
       "    }\n",
       "</style>\n",
       "<table border=\"1\" class=\"dataframe\">\n",
       "  <thead>\n",
       "    <tr style=\"text-align: right;\">\n",
       "      <th></th>\n",
       "      <th>Q</th>\n",
       "      <th>A</th>\n",
       "      <th>label</th>\n",
       "    </tr>\n",
       "  </thead>\n",
       "  <tbody>\n",
       "    <tr>\n",
       "      <th>0</th>\n",
       "      <td>12시 땡!</td>\n",
       "      <td>하루가 또 가네요.</td>\n",
       "      <td>0</td>\n",
       "    </tr>\n",
       "    <tr>\n",
       "      <th>1</th>\n",
       "      <td>1지망 학교 떨어졌어</td>\n",
       "      <td>위로해 드립니다.</td>\n",
       "      <td>0</td>\n",
       "    </tr>\n",
       "    <tr>\n",
       "      <th>2</th>\n",
       "      <td>3박4일 놀러가고 싶다</td>\n",
       "      <td>여행은 언제나 좋죠.</td>\n",
       "      <td>0</td>\n",
       "    </tr>\n",
       "    <tr>\n",
       "      <th>3</th>\n",
       "      <td>3박4일 정도 놀러가고 싶다</td>\n",
       "      <td>여행은 언제나 좋죠.</td>\n",
       "      <td>0</td>\n",
       "    </tr>\n",
       "    <tr>\n",
       "      <th>4</th>\n",
       "      <td>PPL 심하네</td>\n",
       "      <td>눈살이 찌푸려지죠.</td>\n",
       "      <td>0</td>\n",
       "    </tr>\n",
       "  </tbody>\n",
       "</table>\n",
       "</div>"
      ],
      "text/plain": [
       "                 Q            A  label\n",
       "0           12시 땡!   하루가 또 가네요.      0\n",
       "1      1지망 학교 떨어졌어    위로해 드립니다.      0\n",
       "2     3박4일 놀러가고 싶다  여행은 언제나 좋죠.      0\n",
       "3  3박4일 정도 놀러가고 싶다  여행은 언제나 좋죠.      0\n",
       "4          PPL 심하네   눈살이 찌푸려지죠.      0"
      ]
     },
     "execution_count": 2,
     "metadata": {},
     "output_type": "execute_result"
    }
   ],
   "source": [
    "data = pd.read_csv(\"./data/ChatbotData.csv\")\n",
    "print(f\"데이터 개수 : {data.shape[0]}\")\n",
    "data.head()"
   ]
  },
  {
   "cell_type": "markdown",
   "id": "alert-bicycle",
   "metadata": {},
   "source": [
    "## 3. 데이터 전처리 및 시각화"
   ]
  },
  {
   "cell_type": "markdown",
   "id": "electronic-chambers",
   "metadata": {},
   "source": [
    "#### 결측치 확인"
   ]
  },
  {
   "cell_type": "code",
   "execution_count": 3,
   "id": "curious-budget",
   "metadata": {},
   "outputs": [
    {
     "data": {
      "text/plain": [
       "Q        0\n",
       "A        0\n",
       "label    0\n",
       "dtype: int64"
      ]
     },
     "execution_count": 3,
     "metadata": {},
     "output_type": "execute_result"
    }
   ],
   "source": [
    "data.isna().sum()"
   ]
  },
  {
   "cell_type": "markdown",
   "id": "sealed-annotation",
   "metadata": {},
   "source": [
    "결측값은 존재하지 않는 것으로 보입니다."
   ]
  },
  {
   "cell_type": "markdown",
   "id": "structured-threat",
   "metadata": {},
   "source": [
    "#### 형태소 분석기 Mecab으로 토큰화하는 경우"
   ]
  },
  {
   "cell_type": "code",
   "execution_count": 4,
   "id": "restricted-gregory",
   "metadata": {},
   "outputs": [],
   "source": [
    "def mecab_tokenization(corpus, tokenizer):\n",
    "    # https://pypi.org/project/python-mecab-ko/\n",
    "    \n",
    "    # 특수문자 제거\n",
    "    corpus = re.sub(\"[^ㄱ-ㅎ가-힣0-9A-Za-z?!.,]\", \" \", corpus)\n",
    "    corpus = re.sub(\"[ ]+\", \" \", corpus)\n",
    "    corpus = corpus.strip()\n",
    "    \n",
    "    # 토큰화\n",
    "    corpus = mecab.morphs(corpus)\n",
    "\n",
    "    # 불용어 제거\n",
    "    stopwords = ['의','가','이','은','들','는','좀','잘','걍','과','도','를','으로','자','에','와','한','하다']\n",
    "    corpus = [word for word in corpus if word not in stopwords]    \n",
    "    \n",
    "    return corpus"
   ]
  },
  {
   "cell_type": "code",
   "execution_count": 5,
   "id": "major-bargain",
   "metadata": {},
   "outputs": [
    {
     "name": "stderr",
     "output_type": "stream",
     "text": [
      "100%|██████████| 11823/11823 [00:00<00:00, 19514.44it/s]\n",
      "100%|██████████| 11823/11823 [00:00<00:00, 16385.02it/s]\n"
     ]
    }
   ],
   "source": [
    "mecab = Mecab()\n",
    "\n",
    "tqdm.pandas()\n",
    "data[\"pre_Q\"] = data[\"Q\"].progress_apply(lambda x : mecab_tokenization(x, mecab))\n",
    "data[\"pre_A\"] = data[\"A\"].progress_apply(lambda x : mecab_tokenization(x, mecab))"
   ]
  },
  {
   "cell_type": "markdown",
   "id": "alternate-tract",
   "metadata": {},
   "source": [
    "#### 문장별 단어의 개수 히스토그램"
   ]
  },
  {
   "cell_type": "code",
   "execution_count": 6,
   "id": "tutorial-prevention",
   "metadata": {},
   "outputs": [],
   "source": [
    "data[\"len_Q\"] = data[\"pre_Q\"].apply(lambda x: len(x))\n",
    "data[\"len_A\"] = data[\"pre_A\"].apply(lambda x: len(x))"
   ]
  },
  {
   "cell_type": "code",
   "execution_count": 7,
   "id": "stable-novelty",
   "metadata": {},
   "outputs": [
    {
     "data": {
      "image/png": "[encoded data removed]",
      "text/plain": [
       "<Figure size 720x216 with 2 Axes>"
      ]
     },
     "metadata": {
      "needs_background": "light"
     },
     "output_type": "display_data"
    }
   ],
   "source": [
    "plt.figure(figsize = (10, 3))\n",
    "plt.subplot(1,2,1)\n",
    "plt.hist(data[\"len_Q\"])\n",
    "plt.title(\"Number of words by sentences in Q\")\n",
    "plt.xlabel(\"Number of words\")\n",
    "\n",
    "plt.subplot(1,2,2)\n",
    "plt.hist(data[\"len_A\"])\n",
    "plt.title(\"Number of words by sentences in A\")\n",
    "plt.xlabel(\"Number of words\")\n",
    "\n",
    "plt.tight_layout()\n",
    "plt.show()"
   ]
  },
  {
   "cell_type": "markdown",
   "id": "intense-scanning",
   "metadata": {},
   "source": [
    "#### subword로 토큰화 하는 경우"
   ]
  },
  {
   "cell_type": "markdown",
   "id": "individual-progress",
   "metadata": {},
   "source": [
    "#### 텍스트 전처리"
   ]
  },
  {
   "cell_type": "code",
   "execution_count": 8,
   "id": "laughing-honolulu",
   "metadata": {},
   "outputs": [],
   "source": [
    "def encoder_preprocessing(corpus):\n",
    "    # https://pypi.org/project/python-mecab-ko/\n",
    "    \n",
    "    # 특수문자 제거\n",
    "    corpus = re.sub(\"[^ㄱ-ㅎ가-힣0-9]\", \" \", corpus)\n",
    "    corpus = re.sub(\" [.]|[.] | [.] \", \".\", corpus)\n",
    "    corpus = re.sub(\" [,]|[,] | [,] \", \",\", corpus)\n",
    "    corpus = re.sub(\" [?]|[?] | [?] \", \"?\", corpus)\n",
    "    corpus = re.sub(\" [!]|[!] | [!] \", \"!\", corpus)\n",
    "    # 형태소 분석\n",
    "    split_corpus = mecab.morphs(corpus)\n",
    "    \n",
    "    # 불용어 제거\n",
    "    stopwords = ['의','가','이','은','들','는','좀','잘','걍','과','도','를','으로','자','에','와','한','하다']\n",
    "    corpus = [word for word in split_corpus if word not in stopwords]    \n",
    "    corpus = \" \".join(corpus)\n",
    "    corpus = re.sub(\"[ ]+\", \" \", corpus)\n",
    "    corpus = corpus.strip()\n",
    "    \n",
    "    return corpus\n",
    "\n",
    "\n",
    "def decoder_preprocessing(corpus):\n",
    "    # https://pypi.org/project/python-mecab-ko/\n",
    "    \n",
    "    # 특수문자 제거\n",
    "    corpus = re.sub(\"[^ㄱ-ㅎ가-힣0-9A-Za-z?!.,]\", \" \", corpus)\n",
    "    corpus = re.sub(\" [.]|[.] | [.] \", \".\", corpus)\n",
    "    corpus = re.sub(\" [,]|[,] | [,] \", \",\", corpus)\n",
    "    corpus = re.sub(\" [?]|[?] | [?] \", \"?\", corpus)\n",
    "    corpus = re.sub(\" [!]|[!] | [!] \", \"!\", corpus)\n",
    "    \n",
    "    corpus = re.sub(\"[ ]+\", \" \", corpus)\n",
    "    corpus = corpus.strip()\n",
    "    return corpus"
   ]
  },
  {
   "cell_type": "code",
   "execution_count": 9,
   "id": "former-booking",
   "metadata": {},
   "outputs": [
    {
     "data": {
      "text/plain": [
       "(23640,)"
      ]
     },
     "execution_count": 9,
     "metadata": {},
     "output_type": "execute_result"
    }
   ],
   "source": [
    "mecab = Mecab()\n",
    "\n",
    "# encoder 문자 전처리\n",
    "Q = data[\"Q\"].apply(lambda x: encoder_preprocessing(x))\n",
    "# 전처리 후 길이가 0인 데이터 제거\n",
    "remove_index_Q = [ind for ind, q in enumerate(Q) if len(q) == 0]\n",
    "\n",
    "\n",
    "# decoder 문자 전처리\n",
    "A = data[\"A\"].apply(lambda x: decoder_preprocessing(x))\n",
    "# 전처리 후 길이가 0인 데이터 제거\n",
    "remove_index_A = [ind for ind, a in enumerate(A) if len(a) == 0]\n",
    "\n",
    "remove_index = remove_index_Q + remove_index_A\n",
    "\n",
    "Q, A = np.array(Q), np.array(A)\n",
    "Q = np.delete(Q, remove_index)\n",
    "A = np.delete(A, remove_index)\n",
    "\n",
    "\n",
    "q_and_a = np.concatenate([Q, A])\n",
    "q_and_a.shape"
   ]
  },
  {
   "cell_type": "markdown",
   "id": "international-iraqi",
   "metadata": {},
   "source": [
    "TensorFlow Datasets SubwordTextEncoder를 토크나이저로 사용한다.  단어보다 더 작은 단위인 Subword를 기준으로 토크나이징하고,  각 토큰을 고유한 정수로 인코딩한다.\n"
   ]
  },
  {
   "cell_type": "code",
   "execution_count": 213,
   "id": "brazilian-albuquerque",
   "metadata": {},
   "outputs": [
    {
     "name": "stdout",
     "output_type": "stream",
     "text": [
      "[8118] [8119]\n",
      "8120\n",
      "정수 인코딩 후의 21번째 질문 샘플: [223, 728, 241, 1052, 3114]\n",
      "정수 인코딩 후의 21번째 답변 샘플: [1028, 5471, 22, 3003, 499, 7908]\n"
     ]
    }
   ],
   "source": [
    "# 질문과 답변 데이터셋에 대해서 Vocabulary 생성. (Tensorflow 2.3.0 이상) (클라우드는 2.4 입니다)\n",
    "tokenizer = tfds.deprecated.text.SubwordTextEncoder.build_from_corpus(q_and_a, target_vocab_size=2**13)\n",
    "\n",
    "# 시작 토큰과 종료 토큰에 고유한 정수를 부여합니다.\n",
    "START_TOKEN, END_TOKEN = [tokenizer.vocab_size], [tokenizer.vocab_size + 1]\n",
    "print(START_TOKEN, END_TOKEN)\n",
    "# 시작 토큰과 종료 토큰을 고려하여 +2를 하여 단어장의 크기를 산정합니다.\n",
    "VOCAB_SIZE = tokenizer.vocab_size + 2\n",
    "print(VOCAB_SIZE)\n",
    "\n",
    "# 임의의 22번째 샘플에 대해서 정수 인코딩 작업을 수행.\n",
    "# 각 토큰을 고유한 정수로 변환\n",
    "print('정수 인코딩 후의 21번째 질문 샘플: {}'.format(tokenizer.encode(data[\"Q\"][21])))\n",
    "print('정수 인코딩 후의 21번째 답변 샘플: {}'.format(tokenizer.encode(data[\"A\"][21])))"
   ]
  },
  {
   "cell_type": "code",
   "execution_count": 215,
   "id": "known-terror",
   "metadata": {
    "scrolled": true
   },
   "outputs": [
    {
     "name": "stdout",
     "output_type": "stream",
     "text": [
      "\n",
      "하 \n",
      "어\n",
      "고 \n",
      "좋 \n",
      "거예요\n",
      "게 \n",
      "을 \n",
      "나 \n",
      "아 \n"
     ]
    }
   ],
   "source": [
    "# 0 ~ 8117 = 8118개\n",
    "for i in range(tokenizer.vocab_size)[:10]:\n",
    "    print(tokenizer.decode([i]))"
   ]
  },
  {
   "cell_type": "code",
   "execution_count": 216,
   "id": "harmful-lyric",
   "metadata": {},
   "outputs": [],
   "source": [
    "# 최대 문장에 들어가는 단어의 개수\n",
    "MAX_LENGTH = 35\n",
    "\n",
    "# 정수 인코딩, 최대 길이를 초과하는 샘플 제거, 패딩\n",
    "def tokenize_and_filter(inputs, outputs):\n",
    "    tokenized_inputs, tokenized_outputs = [], []\n",
    "    \n",
    "    for (sentence1, sentence2) in zip(inputs, outputs):\n",
    "        # 정수 인코딩 과정에서 시작 토큰과 종료 토큰을 추가\n",
    "        sentence1 = START_TOKEN + tokenizer.encode(sentence1) + END_TOKEN\n",
    "        sentence2 = START_TOKEN + tokenizer.encode(sentence2) + END_TOKEN\n",
    "\n",
    "        # 최대 길이 40 이하인 경우에만 데이터셋으로 허용\n",
    "        if len(sentence1) <= MAX_LENGTH and len(sentence2) <= MAX_LENGTH:\n",
    "            tokenized_inputs.append(sentence1)\n",
    "            tokenized_outputs.append(sentence2)\n",
    "  \n",
    "  # 최대 길이 40으로 모든 데이터셋을 패딩\n",
    "    tokenized_inputs = tf.keras.preprocessing.sequence.pad_sequences(tokenized_inputs, \n",
    "                                                                     maxlen=MAX_LENGTH, \n",
    "                                                                     padding='pre')\n",
    "    tokenized_outputs = tf.keras.preprocessing.sequence.pad_sequences(tokenized_outputs, \n",
    "                                                                      maxlen=MAX_LENGTH, \n",
    "                                                                      padding='pre')\n",
    "  \n",
    "    return tokenized_inputs, tokenized_outputs"
   ]
  },
  {
   "cell_type": "code",
   "execution_count": 217,
   "id": "champion-render",
   "metadata": {
    "scrolled": false
   },
   "outputs": [
    {
     "name": "stdout",
     "output_type": "stream",
     "text": [
      "단어장의 크기 : 8120\n",
      "필터링 후의 질문 샘플 개수: 11820\n",
      "필터링 후의 답변 샘플 개수: 11820\n"
     ]
    }
   ],
   "source": [
    "questions, answers = tokenize_and_filter(Q, A)\n",
    "print('단어장의 크기 :',(VOCAB_SIZE))\n",
    "print('필터링 후의 질문 샘플 개수: {}'.format(len(questions)))\n",
    "print('필터링 후의 답변 샘플 개수: {}'.format(len(answers)))"
   ]
  },
  {
   "cell_type": "code",
   "execution_count": 16,
   "id": "announced-creek",
   "metadata": {},
   "outputs": [],
   "source": [
    "BATCH_SIZE = 128\n",
    "BUFFER_SIZE = len(questions)\n",
    "\n",
    "# 디코더는 이전의 target을 다음의 input으로 사용합니다.\n",
    "# 이에 따라 outputs에서는 START_TOKEN을 제거하겠습니다.\n",
    "dataset = tf.data.Dataset.from_tensor_slices((\n",
    "    {\n",
    "        'inputs': questions,\n",
    "        'dec_inputs': answers[:, :-1]\n",
    "    },\n",
    "    {\n",
    "        'outputs': answers[:, 1:]\n",
    "    },\n",
    "))\n",
    "\n",
    "dataset = dataset.cache()\n",
    "dataset = dataset.shuffle(BUFFER_SIZE)\n",
    "dataset = dataset.batch(BATCH_SIZE)\n",
    "dataset = dataset.prefetch(tf.data.experimental.AUTOTUNE)"
   ]
  },
  {
   "cell_type": "markdown",
   "id": "flexible-distinction",
   "metadata": {},
   "source": [
    "#### 임베딩 벡터 전이학습 적용"
   ]
  },
  {
   "cell_type": "code",
   "execution_count": 17,
   "id": "organizational-certificate",
   "metadata": {},
   "outputs": [
    {
     "name": "stderr",
     "output_type": "stream",
     "text": [
      "/opt/conda/lib/python3.7/site-packages/ipykernel_launcher.py:3: DeprecationWarning: Call to deprecated `__getitem__` (Method will be removed in 4.0.0, use self.wv.__getitem__() instead).\n",
      "  This is separate from the ipykernel package so we can avoid doing imports until\n"
     ]
    },
    {
     "data": {
      "text/plain": [
       "(200,)"
      ]
     },
     "execution_count": 17,
     "metadata": {},
     "output_type": "execute_result"
    }
   ],
   "source": [
    "word2vec_path = './ko.bin'\n",
    "word2vec = gensim.models.Word2Vec.load(word2vec_path)\n",
    "word_vector_dim = 200  # 워드 벡터의 차원수\n",
    "embedding_matrix = np.random.rand(VOCAB_SIZE, word_vector_dim)\n",
    "\n",
    "tmp = []\n",
    "# embedding_matrix에 Word2Vec 워드 벡터를 단어 하나씩마다 차례차례 카피한다.\n",
    "for i in range(tokenizer.vocab_size):\n",
    "    if tokenizer.decode([i]) in word2vec:\n",
    "        tmp += [tokenizer.decode([i])]\n",
    "        embedding_matrix[i] = word2vec[tokenizer.decode([i])]\n",
    "embedding_matrix.shape"
   ]
  },
  {
   "cell_type": "code",
   "execution_count": 19,
   "id": "sorted-constant",
   "metadata": {},
   "outputs": [
    {
     "name": "stdout",
     "output_type": "stream",
     "text": [
      "임베딩 벡터를 사용하는 단어의 개수 : 1629\n"
     ]
    }
   ],
   "source": [
    "print(f\"임베딩 벡터를 사용하는 단어의 개수 : {len(tmp)}\")"
   ]
  },
  {
   "cell_type": "markdown",
   "id": "horizontal-synthetic",
   "metadata": {},
   "source": [
    "## 4. Transformer 구조 구현하기"
   ]
  },
  {
   "cell_type": "markdown",
   "id": "negative-faculty",
   "metadata": {},
   "source": [
    "### 4.1 Postional encoding layer"
   ]
  },
  {
   "cell_type": "code",
   "execution_count": 10,
   "id": "distinct-exclusion",
   "metadata": {},
   "outputs": [],
   "source": [
    "# 포지셔널 인코딩 레이어\n",
    "class PositionalEncoding(tf.keras.layers.Layer):\n",
    "\n",
    "    def __init__(self, position, d_model):\n",
    "        super(PositionalEncoding, self).__init__()\n",
    "        self.pos_encoding = self.positional_encoding(position, d_model)\n",
    "\n",
    "    def get_angles(self, position, i, d_model):\n",
    "        angles = 1 / tf.pow(10000, (2 * (i // 2)) / tf.cast(d_model, tf.float32))\n",
    "        return position * angles\n",
    "\n",
    "    def positional_encoding(self, position, d_model):\n",
    "        # 각도 배열 생성\n",
    "        angle_rads = self.get_angles(\n",
    "            position=tf.range(position, dtype=tf.float32)[:, tf.newaxis],\n",
    "            i=tf.range(d_model, dtype=tf.float32)[tf.newaxis, :],\n",
    "            d_model=d_model)\n",
    "\n",
    "        # 배열의 짝수 인덱스에는 sin 함수 적용\n",
    "        sines = tf.math.sin(angle_rads[:, 0::2])\n",
    "        # 배열의 홀수 인덱스에는 cosine 함수 적용\n",
    "        cosines = tf.math.cos(angle_rads[:, 1::2])\n",
    "\n",
    "        # sin과 cosine이 교차되도록 재배열\n",
    "        pos_encoding = tf.stack([sines, cosines], axis=0)\n",
    "        pos_encoding = tf.transpose(pos_encoding,[1, 2, 0]) \n",
    "        pos_encoding = tf.reshape(pos_encoding, [position, d_model])\n",
    "\n",
    "        pos_encoding = pos_encoding[tf.newaxis, ...]\n",
    "        return tf.cast(pos_encoding, tf.float32)\n",
    "\n",
    "    def call(self, inputs):\n",
    "        return inputs + self.pos_encoding[:, :tf.shape(inputs)[1], :]"
   ]
  },
  {
   "cell_type": "markdown",
   "id": "bottom-prompt",
   "metadata": {},
   "source": [
    "### 4.2 Scaled dot product attention"
   ]
  },
  {
   "cell_type": "code",
   "execution_count": 11,
   "id": "golden-sense",
   "metadata": {},
   "outputs": [],
   "source": [
    "# 스케일드 닷 프로덕트 어텐션 함수\n",
    "def scaled_dot_product_attention(query, key, value, mask):\n",
    "    # 어텐션 가중치는 Q와 K의 닷 프로덕트\n",
    "    matmul_qk = tf.matmul(query, key, transpose_b=True)\n",
    "\n",
    "    # 가중치를 정규화\n",
    "    depth = tf.cast(tf.shape(key)[-1], tf.float32)\n",
    "    logits = matmul_qk / tf.math.sqrt(depth)\n",
    "    # 패딩에 마스크 추가\n",
    "    if mask is not None:\n",
    "        logits += (mask * -1e9)\n",
    "\n",
    "    # softmax적용\n",
    "    attention_weights = tf.nn.softmax(logits, axis=-1)\n",
    "\n",
    "    # 최종 어텐션은 가중치와 V의 닷 프로덕트\n",
    "    output = tf.matmul(attention_weights, value)\n",
    "    return output"
   ]
  },
  {
   "cell_type": "markdown",
   "id": "ceramic-jersey",
   "metadata": {},
   "source": [
    "### 4.3 Multi-head attention layer"
   ]
  },
  {
   "cell_type": "code",
   "execution_count": 12,
   "id": "palestinian-sleep",
   "metadata": {},
   "outputs": [],
   "source": [
    "class MultiHeadAttention(tf.keras.layers.Layer):\n",
    "    \n",
    "    def __init__(self, d_model, num_heads, name=\"multi_head_attention\"):\n",
    "        super(MultiHeadAttention, self).__init__(name=name)\n",
    "        self.num_heads = num_heads\n",
    "        self.d_model = d_model\n",
    "\n",
    "        assert d_model % self.num_heads == 0\n",
    "\n",
    "        self.depth = d_model // self.num_heads\n",
    "\n",
    "        self.query_dense = tf.keras.layers.Dense(units=d_model)\n",
    "        self.key_dense = tf.keras.layers.Dense(units=d_model)\n",
    "        self.value_dense = tf.keras.layers.Dense(units=d_model)\n",
    "\n",
    "        self.dense = tf.keras.layers.Dense(units=d_model)\n",
    "\n",
    "        \n",
    "    def split_heads(self, inputs, batch_size):\n",
    "        inputs = tf.reshape(\n",
    "            inputs, shape=(batch_size, -1, self.num_heads, self.depth))\n",
    "        return tf.transpose(inputs, perm=[0, 2, 1, 3])\n",
    "\n",
    "    \n",
    "    def call(self, inputs):\n",
    "        query, key, value, mask = inputs['query'], inputs['key'], inputs[\n",
    "            'value'], inputs['mask']\n",
    "        batch_size = tf.shape(query)[0]\n",
    "\n",
    "        # Q, K, V에 각각 Dense를 적용합니다\n",
    "        query = self.query_dense(query)\n",
    "        key = self.key_dense(key)\n",
    "        value = self.value_dense(value)\n",
    "\n",
    "        # 병렬 연산을 위한 머리를 여러 개 만듭니다\n",
    "        query = self.split_heads(query, batch_size)\n",
    "        key = self.split_heads(key, batch_size)\n",
    "        value = self.split_heads(value, batch_size)\n",
    "\n",
    "        # 스케일드 닷 프로덕트 어텐션 함수\n",
    "        scaled_attention = scaled_dot_product_attention(query, key, value, mask)\n",
    "\n",
    "        scaled_attention = tf.transpose(scaled_attention, perm=[0, 2, 1, 3])\n",
    "\n",
    "        # 어텐션 연산 후에 각 결과를 다시 연결(concatenate)합니다\n",
    "        concat_attention = tf.reshape(scaled_attention,\n",
    "                                      (batch_size, -1, self.d_model))\n",
    "\n",
    "        # 최종 결과에도 Dense를 한 번 더 적용합니다\n",
    "        outputs = self.dense(concat_attention)\n",
    "\n",
    "        return outputs"
   ]
  },
  {
   "cell_type": "markdown",
   "id": "imported-minute",
   "metadata": {},
   "source": [
    "### 4.4 Masking"
   ]
  },
  {
   "cell_type": "markdown",
   "id": "dated-poison",
   "metadata": {},
   "source": [
    "#### 4.4.1 Padding masking"
   ]
  },
  {
   "cell_type": "code",
   "execution_count": 13,
   "id": "little-modem",
   "metadata": {},
   "outputs": [],
   "source": [
    "def create_padding_mask(x):\n",
    "    mask = tf.cast(tf.math.equal(x, 0), tf.float32)\n",
    "    # (batch_size, 1, 1, sequence length)\n",
    "    return mask[:, tf.newaxis, tf.newaxis, :]"
   ]
  },
  {
   "cell_type": "code",
   "execution_count": 14,
   "id": "legitimate-stuff",
   "metadata": {},
   "outputs": [
    {
     "name": "stdout",
     "output_type": "stream",
     "text": [
      "tf.Tensor(\n",
      "[[[[0. 0. 1. 0. 1.]]]\n",
      "\n",
      "\n",
      " [[[1. 1. 1. 0. 0.]]]], shape=(2, 1, 1, 5), dtype=float32)\n"
     ]
    }
   ],
   "source": [
    "print(create_padding_mask(tf.constant([[1, 2, 0, 3, 0], [0, 0, 0, 4, 5]])))"
   ]
  },
  {
   "cell_type": "markdown",
   "id": "sharp-receptor",
   "metadata": {},
   "source": [
    "#### 4.4.2 Look ahead masking"
   ]
  },
  {
   "cell_type": "code",
   "execution_count": 15,
   "id": "blank-briefing",
   "metadata": {},
   "outputs": [],
   "source": [
    "def create_look_ahead_mask(x):\n",
    "    seq_len = tf.shape(x)[1]\n",
    "    look_ahead_mask = 1 - tf.linalg.band_part(tf.ones((seq_len, seq_len)), -1, 0)\n",
    "    padding_mask = create_padding_mask(x)\n",
    "    return tf.maximum(look_ahead_mask, padding_mask)"
   ]
  },
  {
   "cell_type": "code",
   "execution_count": 16,
   "id": "diverse-secretariat",
   "metadata": {},
   "outputs": [
    {
     "name": "stdout",
     "output_type": "stream",
     "text": [
      "tf.Tensor(\n",
      "[[[[0. 1. 1. 1. 1.]\n",
      "   [0. 0. 1. 1. 1.]\n",
      "   [0. 0. 0. 1. 1.]\n",
      "   [0. 0. 0. 0. 1.]\n",
      "   [0. 0. 0. 0. 0.]]]], shape=(1, 1, 5, 5), dtype=float32)\n"
     ]
    }
   ],
   "source": [
    "print(create_look_ahead_mask(tf.constant([[1, 2, 3, 4, 5]])))"
   ]
  },
  {
   "cell_type": "markdown",
   "id": "atlantic-warner",
   "metadata": {},
   "source": [
    "### 4.5 Encoder"
   ]
  },
  {
   "cell_type": "code",
   "execution_count": 17,
   "id": "systematic-building",
   "metadata": {},
   "outputs": [],
   "source": [
    "# 인코더 하나의 레이어를 함수로 구현.\n",
    "# 이 하나의 레이어 안에는 두 개의 서브 레이어가 존재합니다.\n",
    "def encoder_layer(units, d_model, num_heads, dropout, name=\"encoder_layer\"):\n",
    "    inputs = tf.keras.Input(shape=(None, d_model), name=\"inputs\")\n",
    "\n",
    "    # 패딩 마스크 사용\n",
    "    padding_mask = tf.keras.Input(shape=(1, 1, None), name=\"padding_mask\")\n",
    "\n",
    "    # 첫 번째 서브 레이어 : 멀티 헤드 어텐션 수행 (셀프 어텐션)\n",
    "    attention = MultiHeadAttention(\n",
    "        d_model, num_heads, name=\"attention\")({\n",
    "        'query': inputs,\n",
    "        'key': inputs,\n",
    "        'value': inputs,\n",
    "        'mask': padding_mask\n",
    "    })\n",
    "\n",
    "    # 어텐션의 결과는 Dropout과 Layer Normalization이라는 훈련을 돕는 테크닉을 수행\n",
    "    attention = tf.keras.layers.Dropout(rate=dropout)(attention)\n",
    "    attention = tf.keras.layers.LayerNormalization(\n",
    "      epsilon=1e-6)(inputs + attention)\n",
    "\n",
    "    # 두 번째 서브 레이어 : 2개의 완전연결층\n",
    "    outputs = tf.keras.layers.Dense(units=units, activation='relu')(attention)\n",
    "    outputs = tf.keras.layers.Dense(units=d_model)(outputs)\n",
    "\n",
    "    # 완전연결층의 결과는 Dropout과 LayerNormalization이라는 훈련을 돕는 테크닉을 수행\n",
    "    outputs = tf.keras.layers.Dropout(rate=dropout)(outputs)\n",
    "    outputs = tf.keras.layers.LayerNormalization(\n",
    "        epsilon=1e-6)(attention + outputs)\n",
    "\n",
    "    return tf.keras.Model(\n",
    "        inputs=[inputs, padding_mask], outputs=outputs, name=name)"
   ]
  },
  {
   "cell_type": "code",
   "execution_count": 37,
   "id": "adopted-cleveland",
   "metadata": {},
   "outputs": [],
   "source": [
    "def encoder(vocab_size,\n",
    "            num_layers,\n",
    "            units,\n",
    "            d_model,\n",
    "            num_heads,\n",
    "            dropout,\n",
    "            name=\"encoder\"):\n",
    "    inputs = tf.keras.Input(shape=(None,), name=\"inputs\")\n",
    "\n",
    "    # 패딩 마스크 사용\n",
    "    padding_mask = tf.keras.Input(shape=(1, 1, None), name=\"padding_mask\")\n",
    "\n",
    "    # 임베딩 레이어\n",
    "    embeddings = tf.keras.layers.Embedding(\n",
    "        vocab_size, \n",
    "        d_model,\n",
    "        embeddings_initializer=Constant(embedding_matrix),\n",
    "        trainable=True\n",
    "    )(inputs)\n",
    "    embeddings *= tf.math.sqrt(tf.cast(d_model, tf.float32))\n",
    "\n",
    "    # 포지셔널 인코딩\n",
    "    embeddings = PositionalEncoding(vocab_size, d_model)(embeddings)\n",
    "\n",
    "    outputs = tf.keras.layers.Dropout(rate=dropout)(embeddings)\n",
    "\n",
    "    # num_layers만큼 쌓아올린 인코더의 층.\n",
    "    for i in range(num_layers):\n",
    "        outputs = encoder_layer(\n",
    "        units=units,\n",
    "        d_model=d_model,\n",
    "        num_heads=num_heads,\n",
    "        dropout=dropout,\n",
    "        name=\"encoder_layer_{}\".format(i),\n",
    "        )([outputs, padding_mask])\n",
    "\n",
    "    return tf.keras.Model(\n",
    "        inputs=[inputs, padding_mask], outputs=outputs, name=name)"
   ]
  },
  {
   "cell_type": "markdown",
   "id": "responsible-problem",
   "metadata": {},
   "source": [
    "### 4.6 Decoder"
   ]
  },
  {
   "cell_type": "code",
   "execution_count": 18,
   "id": "compliant-contamination",
   "metadata": {},
   "outputs": [],
   "source": [
    "# 디코더 하나의 레이어를 함수로 구현.\n",
    "# 이 하나의 레이어 안에는 세 개의 서브 레이어가 존재합니다.\n",
    "def decoder_layer(units, d_model, num_heads, dropout, name=\"decoder_layer\"):\n",
    "    inputs = tf.keras.Input(shape=(None, d_model), name=\"inputs\")\n",
    "    enc_outputs = tf.keras.Input(shape=(None, d_model), name=\"encoder_outputs\")\n",
    "    look_ahead_mask = tf.keras.Input(\n",
    "        shape=(1, None, None), name=\"look_ahead_mask\")\n",
    "    padding_mask = tf.keras.Input(shape=(1, 1, None), name='padding_mask')\n",
    "\n",
    "    # 첫 번째 서브 레이어 : 멀티 헤드 어텐션 수행 (셀프 어텐션)\n",
    "    attention1 = MultiHeadAttention(\n",
    "        d_model, num_heads, name=\"attention_1\")(inputs={\n",
    "        'query': inputs,\n",
    "        'key': inputs,\n",
    "        'value': inputs,\n",
    "        'mask': look_ahead_mask\n",
    "    })\n",
    "\n",
    "    # 멀티 헤드 어텐션의 결과는 LayerNormalization이라는 훈련을 돕는 테크닉을 수행\n",
    "    attention1 = tf.keras.layers.LayerNormalization(\n",
    "        epsilon=1e-6)(attention1 + inputs)\n",
    "\n",
    "    # 두 번째 서브 레이어 : 마스크드 멀티 헤드 어텐션 수행 (인코더-디코더 어텐션)\n",
    "    attention2 = MultiHeadAttention(\n",
    "        d_model, num_heads, name=\"attention_2\")(inputs={\n",
    "        'query': attention1,\n",
    "        'key': enc_outputs,\n",
    "        'value': enc_outputs,\n",
    "        'mask': padding_mask\n",
    "    })\n",
    "\n",
    "    # 마스크드 멀티 헤드 어텐션의 결과는\n",
    "    # Dropout과 LayerNormalization이라는 훈련을 돕는 테크닉을 수행\n",
    "    attention2 = tf.keras.layers.Dropout(rate=dropout)(attention2)\n",
    "    attention2 = tf.keras.layers.LayerNormalization(\n",
    "        epsilon=1e-6)(attention2 + attention1)\n",
    "\n",
    "    # 세 번째 서브 레이어 : 2개의 완전연결층\n",
    "    outputs = tf.keras.layers.Dense(units=units, activation='relu')(attention2)\n",
    "    outputs = tf.keras.layers.Dense(units=d_model)(outputs)\n",
    "\n",
    "    # 완전연결층의 결과는 Dropout과 LayerNormalization 수행\n",
    "    outputs = tf.keras.layers.Dropout(rate=dropout)(outputs)\n",
    "    outputs = tf.keras.layers.LayerNormalization(\n",
    "        epsilon=1e-6)(outputs + attention2)\n",
    "\n",
    "    return tf.keras.Model(\n",
    "        inputs=[inputs, enc_outputs, look_ahead_mask, padding_mask],\n",
    "        outputs=outputs,\n",
    "        name=name)"
   ]
  },
  {
   "cell_type": "code",
   "execution_count": 39,
   "id": "conditional-support",
   "metadata": {},
   "outputs": [],
   "source": [
    "def decoder(vocab_size,\n",
    "            num_layers,\n",
    "            units,\n",
    "            d_model,\n",
    "            num_heads,\n",
    "            dropout,\n",
    "            name='decoder'):\n",
    "    inputs = tf.keras.Input(shape=(None,), name='inputs')\n",
    "    enc_outputs = tf.keras.Input(shape=(None, d_model), name='encoder_outputs')\n",
    "    look_ahead_mask = tf.keras.Input(\n",
    "        shape=(1, None, None), name='look_ahead_mask')\n",
    "\n",
    "    # 패딩 마스크\n",
    "    padding_mask = tf.keras.Input(shape=(1, 1, None), name='padding_mask')\n",
    "  \n",
    "    # 임베딩 레이어\n",
    "    embeddings = tf.keras.layers.Embedding(\n",
    "        vocab_size, \n",
    "        d_model,\n",
    "        embeddings_initializer=Constant(embedding_matrix),\n",
    "        trainable=True\n",
    "    )(inputs)\n",
    "    embeddings *= tf.math.sqrt(tf.cast(d_model, tf.float32))\n",
    "\n",
    "    # 포지셔널 인코딩\n",
    "    embeddings = PositionalEncoding(vocab_size, d_model)(embeddings)\n",
    "\n",
    "    # Dropout이라는 훈련을 돕는 테크닉을 수행\n",
    "    outputs = tf.keras.layers.Dropout(rate=dropout)(embeddings)\n",
    "\n",
    "    for i in range(num_layers):\n",
    "        outputs = decoder_layer(\n",
    "        units=units,\n",
    "        d_model=d_model,\n",
    "        num_heads=num_heads,\n",
    "        dropout=dropout,\n",
    "        name='decoder_layer_{}'.format(i),\n",
    "        )(inputs=[outputs, enc_outputs, look_ahead_mask, padding_mask])\n",
    "\n",
    "    return tf.keras.Model(\n",
    "        inputs=[inputs, enc_outputs, look_ahead_mask, padding_mask],\n",
    "        outputs=outputs,\n",
    "        name=name)"
   ]
  },
  {
   "cell_type": "markdown",
   "id": "infinite-surrey",
   "metadata": {},
   "source": [
    "## 5. 모델 정의 및 학습하기"
   ]
  },
  {
   "cell_type": "markdown",
   "id": "pretty-victim",
   "metadata": {},
   "source": [
    "### 5.1 Transformer 모델 구조 정의"
   ]
  },
  {
   "cell_type": "code",
   "execution_count": 40,
   "id": "altered-manual",
   "metadata": {},
   "outputs": [],
   "source": [
    "def transformer(vocab_size,\n",
    "                num_layers,\n",
    "                units,\n",
    "                d_model,\n",
    "                num_heads,\n",
    "                dropout,\n",
    "                name=\"transformer\"):\n",
    "    inputs = tf.keras.Input(shape=(None,), name=\"inputs\")\n",
    "    dec_inputs = tf.keras.Input(shape=(None,), name=\"dec_inputs\")\n",
    "\n",
    "    # 인코더에서 패딩을 위한 마스크\n",
    "    enc_padding_mask = tf.keras.layers.Lambda(\n",
    "        create_padding_mask, output_shape=(1, 1, None),\n",
    "        name='enc_padding_mask')(inputs)\n",
    "\n",
    "    # 디코더에서 미래의 토큰을 마스크 하기 위해서 사용합니다.\n",
    "    # 내부적으로 패딩 마스크도 포함되어져 있습니다.\n",
    "    look_ahead_mask = tf.keras.layers.Lambda(\n",
    "        create_look_ahead_mask,\n",
    "        output_shape=(1, None, None),\n",
    "        name='look_ahead_mask')(dec_inputs)\n",
    "\n",
    "    # 두 번째 어텐션 블록에서 인코더의 벡터들을 마스킹\n",
    "    # 디코더에서 패딩을 위한 마스크\n",
    "    dec_padding_mask = tf.keras.layers.Lambda(\n",
    "        create_padding_mask, output_shape=(1, 1, None),\n",
    "        name='dec_padding_mask')(inputs)\n",
    "\n",
    "    # 인코더\n",
    "    enc_outputs = encoder(\n",
    "        vocab_size=vocab_size,\n",
    "        num_layers=num_layers,\n",
    "        units=units,\n",
    "        d_model=d_model,\n",
    "        num_heads=num_heads,\n",
    "        dropout=dropout,\n",
    "    )(inputs=[inputs, enc_padding_mask])\n",
    "\n",
    "    # 디코더\n",
    "    dec_outputs = decoder(\n",
    "        vocab_size=vocab_size,\n",
    "        num_layers=num_layers,\n",
    "        units=units,\n",
    "        d_model=d_model,\n",
    "        num_heads=num_heads,\n",
    "        dropout=dropout,\n",
    "    )(inputs=[dec_inputs, enc_outputs, look_ahead_mask, dec_padding_mask])\n",
    "\n",
    "    # 완전연결층\n",
    "    outputs = tf.keras.layers.Dense(units=vocab_size, name=\"outputs\")(dec_outputs)\n",
    "\n",
    "    return tf.keras.Model(inputs=[inputs, dec_inputs], outputs=outputs, name=name)"
   ]
  },
  {
   "cell_type": "markdown",
   "id": "helpful-triple",
   "metadata": {},
   "source": [
    "### 5.2 모델 하이퍼 파라미터 지정"
   ]
  },
  {
   "cell_type": "code",
   "execution_count": 90,
   "id": "gothic-adelaide",
   "metadata": {},
   "outputs": [
    {
     "name": "stdout",
     "output_type": "stream",
     "text": [
      "Model: \"transformer\"\n",
      "__________________________________________________________________________________________________\n",
      "Layer (type)                    Output Shape         Param #     Connected to                     \n",
      "==================================================================================================\n",
      "inputs (InputLayer)             [(None, None)]       0                                            \n",
      "__________________________________________________________________________________________________\n",
      "dec_inputs (InputLayer)         [(None, None)]       0                                            \n",
      "__________________________________________________________________________________________________\n",
      "enc_padding_mask (Lambda)       (None, 1, 1, None)   0           inputs[0][0]                     \n",
      "__________________________________________________________________________________________________\n",
      "encoder (Functional)            (None, None, 200)    2358224     inputs[0][0]                     \n",
      "                                                                 enc_padding_mask[0][0]           \n",
      "__________________________________________________________________________________________________\n",
      "look_ahead_mask (Lambda)        (None, 1, None, None 0           dec_inputs[0][0]                 \n",
      "__________________________________________________________________________________________________\n",
      "dec_padding_mask (Lambda)       (None, 1, 1, None)   0           inputs[0][0]                     \n",
      "__________________________________________________________________________________________________\n",
      "decoder (Functional)            (None, None, 200)    2680624     dec_inputs[0][0]                 \n",
      "                                                                 encoder[0][0]                    \n",
      "                                                                 look_ahead_mask[0][0]            \n",
      "                                                                 dec_padding_mask[0][0]           \n",
      "__________________________________________________________________________________________________\n",
      "outputs (Dense)                 (None, None, 8120)   1632120     decoder[0][0]                    \n",
      "==================================================================================================\n",
      "Total params: 6,670,968\n",
      "Trainable params: 6,670,968\n",
      "Non-trainable params: 0\n",
      "__________________________________________________________________________________________________\n"
     ]
    }
   ],
   "source": [
    "tf.keras.backend.clear_session()\n",
    "\n",
    "# 하이퍼파라미터\n",
    "NUM_LAYERS = 2 # 인코더와 디코더의 층의 개수\n",
    "D_MODEL = word_vector_dim # 인코더와 디코더 내부의 입, 출력의 고정 차원\n",
    "NUM_HEADS = 8 # 멀티 헤드 어텐션에서의 헤드 수 \n",
    "UNITS = 512 # 피드 포워드 신경망의 은닉층의 크기\n",
    "DROPOUT = 0.1 # 드롭아웃의 비율\n",
    "\n",
    "model = transformer(\n",
    "    vocab_size=VOCAB_SIZE,\n",
    "    num_layers=NUM_LAYERS,\n",
    "    units=UNITS,\n",
    "    d_model=D_MODEL,\n",
    "    num_heads=NUM_HEADS,\n",
    "    dropout=DROPOUT)\n",
    "\n",
    "model.summary()"
   ]
  },
  {
   "cell_type": "markdown",
   "id": "unlike-david",
   "metadata": {},
   "source": [
    "### 5.3 손실함수 설정"
   ]
  },
  {
   "cell_type": "code",
   "execution_count": 35,
   "id": "tight-desert",
   "metadata": {},
   "outputs": [],
   "source": [
    "def loss_function(y_true, y_pred):\n",
    "    y_true = tf.reshape(y_true, shape=(-1, MAX_LENGTH - 1))\n",
    "  \n",
    "    loss = tf.keras.losses.SparseCategoricalCrossentropy(\n",
    "        from_logits=True, reduction='none')(y_true, y_pred)\n",
    "\n",
    "    mask = tf.cast(tf.not_equal(y_true, 0), tf.float32)\n",
    "    loss = tf.multiply(loss, mask)\n",
    "\n",
    "    return tf.reduce_mean(loss)"
   ]
  },
  {
   "cell_type": "markdown",
   "id": "confused-platinum",
   "metadata": {},
   "source": [
    "### 5.4 학습률 커스텀"
   ]
  },
  {
   "cell_type": "code",
   "execution_count": 34,
   "id": "south-newfoundland",
   "metadata": {},
   "outputs": [],
   "source": [
    "class CustomSchedule(tf.keras.optimizers.schedules.LearningRateSchedule):\n",
    "\n",
    "    def __init__(self, d_model, warmup_steps=4000):\n",
    "        super(CustomSchedule, self).__init__()\n",
    "\n",
    "        self.d_model = d_model\n",
    "        self.d_model = tf.cast(self.d_model, tf.float32)\n",
    "\n",
    "        self.warmup_steps = warmup_steps\n",
    "\n",
    "    def __call__(self, step):\n",
    "        arg1 = tf.math.rsqrt(step)\n",
    "        arg2 = step * (self.warmup_steps**-1.5)\n",
    "\n",
    "        return tf.math.rsqrt(self.d_model) * tf.math.minimum(arg1, arg2)"
   ]
  },
  {
   "cell_type": "code",
   "execution_count": 93,
   "id": "polished-wisconsin",
   "metadata": {},
   "outputs": [
    {
     "data": {
      "text/plain": [
       "Text(0.5, 0, 'Train Step')"
      ]
     },
     "execution_count": 93,
     "metadata": {},
     "output_type": "execute_result"
    },
    {
     "data": {
      "image/png": "[encoded data removed]",
      "text/plain": [
       "<Figure size 432x288 with 1 Axes>"
      ]
     },
     "metadata": {
      "needs_background": "light"
     },
     "output_type": "display_data"
    }
   ],
   "source": [
    "sample_learning_rate = CustomSchedule(d_model=128)\n",
    "\n",
    "plt.plot(sample_learning_rate(tf.range(200000, dtype=tf.float32)))\n",
    "plt.ylabel(\"Learning Rate\")\n",
    "plt.xlabel(\"Train Step\")"
   ]
  },
  {
   "cell_type": "markdown",
   "id": "driving-analyst",
   "metadata": {},
   "source": [
    "### 5.5 모델 컴파일"
   ]
  },
  {
   "cell_type": "code",
   "execution_count": 94,
   "id": "narrow-minneapolis",
   "metadata": {},
   "outputs": [],
   "source": [
    "learning_rate = CustomSchedule(D_MODEL)\n",
    "\n",
    "optimizer = tf.keras.optimizers.Adam(\n",
    "    learning_rate, beta_1=0.9, beta_2=0.98, epsilon=1e-9)\n",
    "\n",
    "def accuracy(y_true, y_pred):\n",
    "    y_true = tf.reshape(y_true, shape=(-1, MAX_LENGTH - 1))\n",
    "    return tf.keras.metrics.sparse_categorical_accuracy(y_true, y_pred)\n",
    "\n",
    "model.compile(optimizer=optimizer, loss=loss_function, metrics=[accuracy])"
   ]
  },
  {
   "cell_type": "markdown",
   "id": "controlled-breakfast",
   "metadata": {},
   "source": [
    "### 5.6 모델 훈련하기"
   ]
  },
  {
   "cell_type": "code",
   "execution_count": 95,
   "id": "governing-operations",
   "metadata": {},
   "outputs": [
    {
     "name": "stdout",
     "output_type": "stream",
     "text": [
      "Epoch 1/100\n",
      "93/93 [==============================] - 22s 160ms/step - loss: 2.0078 - accuracy: 0.0066\n",
      "Epoch 2/100\n",
      "93/93 [==============================] - 15s 160ms/step - loss: 1.8151 - accuracy: 0.0658\n",
      "Epoch 3/100\n",
      "93/93 [==============================] - 15s 160ms/step - loss: 1.6087 - accuracy: 0.0844\n",
      "Epoch 4/100\n",
      "93/93 [==============================] - 15s 160ms/step - loss: 1.4218 - accuracy: 0.0860\n",
      "Epoch 5/100\n",
      "93/93 [==============================] - 15s 160ms/step - loss: 1.2472 - accuracy: 0.0873\n",
      "Epoch 6/100\n",
      "93/93 [==============================] - 15s 160ms/step - loss: 1.1612 - accuracy: 0.0876\n",
      "Epoch 7/100\n",
      "93/93 [==============================] - 15s 160ms/step - loss: 1.1249 - accuracy: 0.0880\n",
      "Epoch 8/100\n",
      "93/93 [==============================] - 15s 160ms/step - loss: 1.0872 - accuracy: 0.0883\n",
      "Epoch 9/100\n",
      "93/93 [==============================] - 15s 161ms/step - loss: 1.0574 - accuracy: 0.0887\n",
      "Epoch 10/100\n",
      "93/93 [==============================] - 15s 161ms/step - loss: 1.0301 - accuracy: 0.0902\n",
      "Epoch 11/100\n",
      "93/93 [==============================] - 15s 161ms/step - loss: 1.0073 - accuracy: 0.0913\n",
      "Epoch 12/100\n",
      "93/93 [==============================] - 15s 161ms/step - loss: 0.9744 - accuracy: 0.0924\n",
      "Epoch 13/100\n",
      "93/93 [==============================] - 15s 161ms/step - loss: 0.9528 - accuracy: 0.0935\n",
      "Epoch 14/100\n",
      "93/93 [==============================] - 15s 161ms/step - loss: 0.9145 - accuracy: 0.0948\n",
      "Epoch 15/100\n",
      "93/93 [==============================] - 15s 161ms/step - loss: 0.8987 - accuracy: 0.0961\n",
      "Epoch 16/100\n",
      "93/93 [==============================] - 15s 161ms/step - loss: 0.8614 - accuracy: 0.0984\n",
      "Epoch 17/100\n",
      "93/93 [==============================] - 15s 161ms/step - loss: 0.8228 - accuracy: 0.1004\n",
      "Epoch 18/100\n",
      "93/93 [==============================] - 15s 161ms/step - loss: 0.7871 - accuracy: 0.1037\n",
      "Epoch 19/100\n",
      "93/93 [==============================] - 15s 161ms/step - loss: 0.7549 - accuracy: 0.1067\n",
      "Epoch 20/100\n",
      "93/93 [==============================] - 15s 161ms/step - loss: 0.7240 - accuracy: 0.1104\n",
      "Epoch 21/100\n",
      "93/93 [==============================] - 15s 161ms/step - loss: 0.6820 - accuracy: 0.1141\n",
      "Epoch 22/100\n",
      "93/93 [==============================] - 15s 161ms/step - loss: 0.6458 - accuracy: 0.1188\n",
      "Epoch 23/100\n",
      "93/93 [==============================] - 15s 161ms/step - loss: 0.6127 - accuracy: 0.1234\n",
      "Epoch 24/100\n",
      "93/93 [==============================] - 15s 161ms/step - loss: 0.5726 - accuracy: 0.1286\n",
      "Epoch 25/100\n",
      "93/93 [==============================] - 15s 161ms/step - loss: 0.5431 - accuracy: 0.1312\n",
      "Epoch 26/100\n",
      "93/93 [==============================] - 15s 161ms/step - loss: 0.5067 - accuracy: 0.1365\n",
      "Epoch 27/100\n",
      "93/93 [==============================] - 15s 161ms/step - loss: 0.4804 - accuracy: 0.1409\n",
      "Epoch 28/100\n",
      "93/93 [==============================] - 15s 161ms/step - loss: 0.4480 - accuracy: 0.1443\n",
      "Epoch 29/100\n",
      "93/93 [==============================] - 15s 161ms/step - loss: 0.4221 - accuracy: 0.1480\n",
      "Epoch 30/100\n",
      "93/93 [==============================] - 15s 161ms/step - loss: 0.3909 - accuracy: 0.1522\n",
      "Epoch 31/100\n",
      "93/93 [==============================] - 15s 161ms/step - loss: 0.3706 - accuracy: 0.1562\n",
      "Epoch 32/100\n",
      "93/93 [==============================] - 15s 161ms/step - loss: 0.3445 - accuracy: 0.1594\n",
      "Epoch 33/100\n",
      "93/93 [==============================] - 15s 161ms/step - loss: 0.3250 - accuracy: 0.1628\n",
      "Epoch 34/100\n",
      "93/93 [==============================] - 15s 161ms/step - loss: 0.3062 - accuracy: 0.1662\n",
      "Epoch 35/100\n",
      "93/93 [==============================] - 15s 161ms/step - loss: 0.2854 - accuracy: 0.1686\n",
      "Epoch 36/100\n",
      "93/93 [==============================] - 15s 161ms/step - loss: 0.2670 - accuracy: 0.1720\n",
      "Epoch 37/100\n",
      "93/93 [==============================] - 15s 161ms/step - loss: 0.2533 - accuracy: 0.1750\n",
      "Epoch 38/100\n",
      "93/93 [==============================] - 15s 161ms/step - loss: 0.2405 - accuracy: 0.1764\n",
      "Epoch 39/100\n",
      "93/93 [==============================] - 15s 161ms/step - loss: 0.2284 - accuracy: 0.1783\n",
      "Epoch 40/100\n",
      "93/93 [==============================] - 15s 161ms/step - loss: 0.2182 - accuracy: 0.1820\n",
      "Epoch 41/100\n",
      "93/93 [==============================] - 15s 161ms/step - loss: 0.2039 - accuracy: 0.1828\n",
      "Epoch 42/100\n",
      "93/93 [==============================] - 15s 161ms/step - loss: 0.1980 - accuracy: 0.1837\n",
      "Epoch 43/100\n",
      "93/93 [==============================] - 15s 161ms/step - loss: 0.1903 - accuracy: 0.1862\n",
      "Epoch 44/100\n",
      "93/93 [==============================] - 15s 161ms/step - loss: 0.1808 - accuracy: 0.1868\n",
      "Epoch 45/100\n",
      "93/93 [==============================] - 15s 161ms/step - loss: 0.1711 - accuracy: 0.1888\n",
      "Epoch 46/100\n",
      "93/93 [==============================] - 15s 161ms/step - loss: 0.1605 - accuracy: 0.1908\n",
      "Epoch 47/100\n",
      "93/93 [==============================] - 15s 161ms/step - loss: 0.1530 - accuracy: 0.1920\n",
      "Epoch 48/100\n",
      "93/93 [==============================] - 15s 161ms/step - loss: 0.1444 - accuracy: 0.1929\n",
      "Epoch 49/100\n",
      "93/93 [==============================] - 15s 161ms/step - loss: 0.1379 - accuracy: 0.1946\n",
      "Epoch 50/100\n",
      "93/93 [==============================] - 15s 161ms/step - loss: 0.1299 - accuracy: 0.1956\n",
      "Epoch 51/100\n",
      "93/93 [==============================] - 15s 161ms/step - loss: 0.1246 - accuracy: 0.1963\n",
      "Epoch 52/100\n",
      "93/93 [==============================] - 15s 161ms/step - loss: 0.1183 - accuracy: 0.1991\n",
      "Epoch 53/100\n",
      "93/93 [==============================] - 15s 161ms/step - loss: 0.1110 - accuracy: 0.1997\n",
      "Epoch 54/100\n",
      "93/93 [==============================] - 15s 161ms/step - loss: 0.1079 - accuracy: 0.2016\n",
      "Epoch 55/100\n",
      "93/93 [==============================] - 15s 161ms/step - loss: 0.1026 - accuracy: 0.2020\n",
      "Epoch 56/100\n",
      "93/93 [==============================] - 15s 161ms/step - loss: 0.0977 - accuracy: 0.2030\n",
      "Epoch 57/100\n",
      "93/93 [==============================] - 15s 161ms/step - loss: 0.0928 - accuracy: 0.2036\n",
      "Epoch 58/100\n",
      "93/93 [==============================] - 15s 161ms/step - loss: 0.0863 - accuracy: 0.2057\n",
      "Epoch 59/100\n",
      "93/93 [==============================] - 15s 161ms/step - loss: 0.0829 - accuracy: 0.2048\n",
      "Epoch 60/100\n",
      "93/93 [==============================] - 15s 161ms/step - loss: 0.0805 - accuracy: 0.2065\n",
      "Epoch 61/100\n",
      "93/93 [==============================] - 15s 161ms/step - loss: 0.0770 - accuracy: 0.2071\n",
      "Epoch 62/100\n",
      "93/93 [==============================] - 15s 161ms/step - loss: 0.0728 - accuracy: 0.2090\n",
      "Epoch 63/100\n",
      "93/93 [==============================] - 15s 161ms/step - loss: 0.0699 - accuracy: 0.2094\n",
      "Epoch 64/100\n",
      "93/93 [==============================] - 15s 161ms/step - loss: 0.0656 - accuracy: 0.2105\n",
      "Epoch 65/100\n",
      "93/93 [==============================] - 15s 161ms/step - loss: 0.0640 - accuracy: 0.2100\n",
      "Epoch 66/100\n",
      "93/93 [==============================] - 15s 161ms/step - loss: 0.0596 - accuracy: 0.2113\n",
      "Epoch 67/100\n",
      "93/93 [==============================] - 15s 161ms/step - loss: 0.0562 - accuracy: 0.2116\n",
      "Epoch 68/100\n",
      "93/93 [==============================] - 15s 161ms/step - loss: 0.0547 - accuracy: 0.2117\n",
      "Epoch 69/100\n",
      "93/93 [==============================] - 15s 161ms/step - loss: 0.0509 - accuracy: 0.2128\n",
      "Epoch 70/100\n",
      "93/93 [==============================] - 15s 161ms/step - loss: 0.0489 - accuracy: 0.2133\n",
      "Epoch 71/100\n",
      "93/93 [==============================] - 15s 161ms/step - loss: 0.0474 - accuracy: 0.2143\n",
      "Epoch 72/100\n",
      "93/93 [==============================] - 15s 161ms/step - loss: 0.0459 - accuracy: 0.2148\n",
      "Epoch 73/100\n",
      "93/93 [==============================] - 15s 161ms/step - loss: 0.0454 - accuracy: 0.2148\n",
      "Epoch 74/100\n",
      "93/93 [==============================] - 15s 161ms/step - loss: 0.0421 - accuracy: 0.2150\n",
      "Epoch 75/100\n",
      "93/93 [==============================] - 15s 161ms/step - loss: 0.0404 - accuracy: 0.2155\n",
      "Epoch 76/100\n",
      "93/93 [==============================] - 15s 161ms/step - loss: 0.0411 - accuracy: 0.2161\n",
      "Epoch 77/100\n",
      "93/93 [==============================] - 15s 161ms/step - loss: 0.0378 - accuracy: 0.2151\n",
      "Epoch 78/100\n",
      "93/93 [==============================] - 15s 161ms/step - loss: 0.0373 - accuracy: 0.2173\n",
      "Epoch 79/100\n",
      "93/93 [==============================] - 15s 161ms/step - loss: 0.0353 - accuracy: 0.2177\n",
      "Epoch 80/100\n",
      "93/93 [==============================] - 15s 161ms/step - loss: 0.0341 - accuracy: 0.2166\n",
      "Epoch 81/100\n",
      "93/93 [==============================] - 15s 161ms/step - loss: 0.0330 - accuracy: 0.2169\n",
      "Epoch 82/100\n",
      "93/93 [==============================] - 15s 161ms/step - loss: 0.0324 - accuracy: 0.2177\n",
      "Epoch 83/100\n",
      "93/93 [==============================] - 15s 161ms/step - loss: 0.0308 - accuracy: 0.2177\n",
      "Epoch 84/100\n",
      "93/93 [==============================] - 15s 161ms/step - loss: 0.0288 - accuracy: 0.2180\n",
      "Epoch 85/100\n",
      "93/93 [==============================] - 15s 161ms/step - loss: 0.0277 - accuracy: 0.2200\n",
      "Epoch 86/100\n",
      "93/93 [==============================] - 15s 161ms/step - loss: 0.0282 - accuracy: 0.2181\n",
      "Epoch 87/100\n",
      "93/93 [==============================] - 15s 161ms/step - loss: 0.0259 - accuracy: 0.2195\n",
      "Epoch 88/100\n",
      "93/93 [==============================] - 15s 161ms/step - loss: 0.0256 - accuracy: 0.2197\n",
      "Epoch 89/100\n",
      "93/93 [==============================] - 15s 161ms/step - loss: 0.0255 - accuracy: 0.2192\n",
      "Epoch 90/100\n",
      "93/93 [==============================] - 15s 161ms/step - loss: 0.0260 - accuracy: 0.2203\n",
      "Epoch 91/100\n",
      "93/93 [==============================] - 15s 161ms/step - loss: 0.0237 - accuracy: 0.2203\n",
      "Epoch 92/100\n",
      "93/93 [==============================] - 15s 161ms/step - loss: 0.0228 - accuracy: 0.2197\n",
      "Epoch 93/100\n",
      "93/93 [==============================] - 15s 161ms/step - loss: 0.0230 - accuracy: 0.2200\n",
      "Epoch 94/100\n",
      "93/93 [==============================] - 15s 161ms/step - loss: 0.0216 - accuracy: 0.2198\n",
      "Epoch 95/100\n",
      "93/93 [==============================] - 15s 161ms/step - loss: 0.0224 - accuracy: 0.2200\n",
      "Epoch 96/100\n",
      "93/93 [==============================] - 15s 161ms/step - loss: 0.0220 - accuracy: 0.2202\n",
      "Epoch 97/100\n",
      "93/93 [==============================] - 15s 161ms/step - loss: 0.0207 - accuracy: 0.2215\n",
      "Epoch 98/100\n",
      "93/93 [==============================] - 15s 161ms/step - loss: 0.0205 - accuracy: 0.2215\n",
      "Epoch 99/100\n",
      "93/93 [==============================] - 15s 161ms/step - loss: 0.0200 - accuracy: 0.2207\n",
      "Epoch 100/100\n",
      "93/93 [==============================] - 15s 161ms/step - loss: 0.0188 - accuracy: 0.2208\n"
     ]
    },
    {
     "data": {
      "text/plain": [
       "<tensorflow.python.keras.callbacks.History at 0x7f1fb02c1b10>"
      ]
     },
     "execution_count": 95,
     "metadata": {},
     "output_type": "execute_result"
    }
   ],
   "source": [
    "EPOCHS = 100 # dropout 0.5 100epochs 동문서답\n",
    "model.fit(dataset, epochs=EPOCHS, verbose=1)"
   ]
  },
  {
   "cell_type": "markdown",
   "id": "initial-contract",
   "metadata": {},
   "source": [
    "## 6. 모델 평가하기"
   ]
  },
  {
   "cell_type": "code",
   "execution_count": 119,
   "id": "broken-rover",
   "metadata": {},
   "outputs": [],
   "source": [
    "def decoder_inference(sentence, prob = False):\n",
    "    sentence = encoder_preprocessing(sentence)\n",
    "    # 입력된 문장을 정수 인코딩 후, 시작 토큰과 종료 토큰을 앞뒤로 추가.\n",
    "    # ex) Where have you been? → [[8331   86   30    5 1059    7 8332]]\n",
    "    sentence = tf.expand_dims(\n",
    "      START_TOKEN + tokenizer.encode(sentence) + END_TOKEN, axis=0)\n",
    "\n",
    "    # 디코더의 현재까지의 예측한 출력 시퀀스가 지속적으로 저장되는 변수.\n",
    "    # 처음에는 예측한 내용이 없음으로 시작 토큰만 별도 저장. ex) 8331\n",
    "    output_sequence = tf.expand_dims(START_TOKEN, 0)\n",
    "\n",
    "    # 디코더의 인퍼런스 단계\n",
    "    for i in range(MAX_LENGTH):\n",
    "        # 디코더는 최대 MAX_LENGTH의 길이만큼 다음 단어 예측을 반복합니다.\n",
    "        predictions = model(inputs=[sentence, output_sequence], training=False)\n",
    "        \n",
    "        # 다양한 답변을 출력하기 위해서 첫 단어는 확률적으로 선택\n",
    "        if prob == True:\n",
    "            predictions = (tf.exp(predictions[0,0]) / tf.math.reduce_sum(tf.exp(predictions[0,0]))).numpy()\n",
    "            predicted_id = np.random.choice(range(VOCAB_SIZE), p = predictions, replace = False)\n",
    "            predicted_id =  np.expand_dims(predicted_id, [0, 1]) \n",
    "            predicted_id = tf.cast(predicted_id, tf.int32)\n",
    "        # 첫 단어 이후는 가장 점수가 높은 단어 선택\n",
    "        else:\n",
    "            predictions = model(inputs=[sentence, output_sequence], training=False)\n",
    "            predictions = predictions[:, -1:, :]\n",
    "            predicted_id = tf.cast(tf.argmax(predictions, axis=-1), tf.int32)\n",
    "        # 만약 현재 예측한 단어가 종료 토큰이라면 for문을 종료\n",
    "        if tf.equal(predicted_id, END_TOKEN[0]):\n",
    "            break\n",
    "        \n",
    "        # 예측한 단어들은 지속적으로 output_sequence에 추가됩니다.\n",
    "        # 이 output_sequence는 다시 디코더의 입력이 됩니다.\n",
    "        output_sequence = tf.concat([output_sequence, predicted_id], axis=-1)\n",
    "\n",
    "    return tf.squeeze(output_sequence, axis=0)"
   ]
  },
  {
   "cell_type": "code",
   "execution_count": 120,
   "id": "activated-withdrawal",
   "metadata": {},
   "outputs": [],
   "source": [
    "def sentence_generation(sentence, prob):\n",
    "    # 입력 문장에 대해서 디코더를 동작 시켜 예측된 정수 시퀀스를 리턴받습니다.\n",
    "    prediction = decoder_inference(sentence, prob = prob)\n",
    "\n",
    "    # 정수 시퀀스를 다시 텍스트 시퀀스로 변환합니다.\n",
    "    predicted_sentence = tokenizer.decode(\n",
    "      [i for i in prediction if i < tokenizer.vocab_size])\n",
    "\n",
    "    print('입력 : {}'.format(sentence))\n",
    "    print('출력 : {}'.format(predicted_sentence))\n",
    "\n",
    "    return predicted_sentence"
   ]
  },
  {
   "cell_type": "code",
   "execution_count": 130,
   "id": "dominican-elder",
   "metadata": {},
   "outputs": [
    {
     "name": "stdout",
     "output_type": "stream",
     "text": [
      "입력 : 기분이 이상해\n",
      "출력 : 무슨 이유인지 생각해보세요.\n"
     ]
    }
   ],
   "source": [
    "input_sentence = '기분이 이상해'\n",
    "result = sentence_generation(input_sentence, prob = False)"
   ]
  },
  {
   "cell_type": "code",
   "execution_count": 132,
   "id": "binary-baking",
   "metadata": {},
   "outputs": [
    {
     "name": "stdout",
     "output_type": "stream",
     "text": [
      "안녕\n",
      "입력 : 안녕\n",
      "출력 : 안녕하세요.\n"
     ]
    }
   ],
   "source": [
    "input_sentence = '안녕'\n",
    "print(encoder_preprocessing(input_sentence))\n",
    "result = sentence_generation(input_sentence, prob = False)"
   ]
  },
  {
   "cell_type": "code",
   "execution_count": 137,
   "id": "virtual-affair",
   "metadata": {},
   "outputs": [
    {
     "name": "stdout",
     "output_type": "stream",
     "text": [
      "월요일 라 힘들 어 위 로 해 줘\n",
      "입력 : 월요일이라 힘들어 위로 해줘\n",
      "출력 : �피드조심하세요.\n"
     ]
    }
   ],
   "source": [
    "input_sentence = '월요일이라 힘들어 위로 해줘'\n",
    "print(encoder_preprocessing(input_sentence))\n",
    "result = sentence_generation(input_sentence, prob = False)"
   ]
  },
  {
   "cell_type": "markdown",
   "id": "recorded-eagle",
   "metadata": {},
   "source": [
    "## 7. Subwordencoding에서 Mecab을 사용한 벡터화"
   ]
  },
  {
   "cell_type": "markdown",
   "id": "played-diabetes",
   "metadata": {},
   "source": [
    "기존에는 subwordencoding 방법을 사용하여 단어를 벡터화 시켜주었습니다.  \n",
    "지금부터는 기존에 형태소 분석기인 mecab을 사용하여 단어를 분리하고 분리된 단어들을 따로 인덱스를 부여하여 새로운 벡터화를 진행하겠습니다."
   ]
  },
  {
   "cell_type": "code",
   "execution_count": 91,
   "id": "healthy-neutral",
   "metadata": {},
   "outputs": [
    {
     "data": {
      "text/plain": [
       "[['12', '시', '땡'],\n",
       " ['1', '지망', '학교', '떨어졌', '어'],\n",
       " ['3', '박', '4', '일', '놀', '러', '고', '싶', '다'],\n",
       " ['3', '박', '4', '일', '정도', '놀', '러', '고', '싶', '다'],\n",
       " ['심하', '네']]"
      ]
     },
     "execution_count": 91,
     "metadata": {},
     "output_type": "execute_result"
    }
   ],
   "source": [
    "mecab_q_and_a = list(map(lambda x : mecab.morphs(x), q_and_a))\n",
    "mecab_q_and_a[:5]"
   ]
  },
  {
   "cell_type": "markdown",
   "id": "driven-publicity",
   "metadata": {},
   "source": [
    "mecab이 나눈 단위대로 단어 행렬을 만들어 줍니다."
   ]
  },
  {
   "cell_type": "code",
   "execution_count": 92,
   "id": "caring-marine",
   "metadata": {},
   "outputs": [
    {
     "name": "stdout",
     "output_type": "stream",
     "text": [
      "총 단어의 개수 : 6797\n"
     ]
    }
   ],
   "source": [
    "word_dict = defaultdict()\n",
    "for sentence in mecab_q_and_a:\n",
    "    for word in sentence:\n",
    "        if word in word_dict:\n",
    "            word_dict[word] += 1\n",
    "        else:\n",
    "            word_dict[word] = 1\n",
    "word_dict = dict(word_dict)\n",
    "print(f\"총 단어의 개수 : {len(word_dict)}\")"
   ]
  },
  {
   "cell_type": "markdown",
   "id": "senior-beginning",
   "metadata": {},
   "source": [
    "새로 만들어진 단어의 개수는 총 6797개가 나왔습니다.  \n",
    "해당 단어들을 기반으로 단어들을 빈도를 기반으로 정렬을 한 뒤, 인덱스를 부여하여 단어 벡터화를 진행하겠습니다."
   ]
  },
  {
   "cell_type": "code",
   "execution_count": 93,
   "id": "intensive-windows",
   "metadata": {},
   "outputs": [],
   "source": [
    "sorted_word = sorted(word_dict.items(), key = lambda x: x[1], reverse = True)\n",
    "\n",
    "word_index = dict()\n",
    "for i in range(len(word_dict)):\n",
    "    word_index[sorted_word[i][0]] = i + 3    \n",
    "word_index[\"<start>\"] = 0\n",
    "word_index[\"<end>\"] = 1\n",
    "word_index[\"<pad>\"] = 2\n",
    "\n",
    "\n",
    "index_word = dict()\n",
    "for i in range(len(word_dict)):\n",
    "    index_word[i + 3] = sorted_word[i][0]\n",
    "index_word[0] = \"<start>\"\n",
    "index_word[1] = \"<end>\"\n",
    "index_word[2] = \"<pad>\""
   ]
  },
  {
   "cell_type": "code",
   "execution_count": 94,
   "id": "embedded-essex",
   "metadata": {},
   "outputs": [],
   "source": [
    "# 최대 문장에 들어가는 단어의 개수\n",
    "MAX_LENGTH = 35\n",
    "\n",
    "token_Q = list(map(lambda x: [0] + [word_index[i] for i in mecab.morphs(x)] + [1] ,Q))\n",
    "token_Q = tf.keras.preprocessing.sequence.pad_sequences(token_Q,\n",
    "                                                        maxlen=MAX_LENGTH, \n",
    "                                                        padding='post',\n",
    "                                                        value = word_index[\"<pad>\"]\n",
    "                                                       )\n",
    "token_A = list(map(lambda x: [0] + [word_index[i] for i in mecab.morphs(x)] + [1] ,A))\n",
    "token_A = tf.keras.preprocessing.sequence.pad_sequences(token_A,\n",
    "                                                        maxlen=MAX_LENGTH, \n",
    "                                                        padding='post',\n",
    "                                                        value = word_index[\"<pad>\"]\n",
    "                                                       )"
   ]
  },
  {
   "cell_type": "markdown",
   "id": "measured-wallace",
   "metadata": {},
   "source": [
    "단어에서 인덱스로, 인덱스에서 단어로 가는 dictionary를 만든 뒤, 질문 데이터와 답변 데이터들의 단어들을 모두 벡터화 시키고 post padding을 적용시켜주겠습니다.\n",
    "\n",
    "dictionary에는 start, end, padding 토큰을 추가해주겠습니다."
   ]
  },
  {
   "cell_type": "code",
   "execution_count": 96,
   "id": "stylish-residence",
   "metadata": {},
   "outputs": [],
   "source": [
    "BATCH_SIZE = 128\n",
    "BUFFER_SIZE = len(token_Q)\n",
    "\n",
    "# 디코더는 이전의 target을 다음의 input으로 사용합니다.\n",
    "# 이에 따라 outputs에서는 START_TOKEN을 제거하겠습니다.\n",
    "mecab_dataset = tf.data.Dataset.from_tensor_slices((\n",
    "    {\n",
    "        'inputs': token_Q,\n",
    "        'dec_inputs': token_A[:, :-1]\n",
    "    },\n",
    "    {\n",
    "        'outputs': token_A[:, 1:]\n",
    "    },\n",
    "))\n",
    "\n",
    "mecab_dataset = mecab_dataset.cache()\n",
    "mecab_dataset = mecab_dataset.shuffle(BUFFER_SIZE)\n",
    "mecab_dataset = mecab_dataset.batch(BATCH_SIZE)\n",
    "mecab_dataset = mecab_dataset.prefetch(tf.data.experimental.AUTOTUNE)"
   ]
  },
  {
   "cell_type": "code",
   "execution_count": 97,
   "id": "fantastic-democracy",
   "metadata": {},
   "outputs": [
    {
     "data": {
      "text/plain": [
       "{'inputs': <tf.Tensor: shape=(128, 35), dtype=int32, numpy=\n",
       " array([[   0,  502,   81, ...,    2,    2,    2],\n",
       "        [   0,  207, 1408, ...,    2,    2,    2],\n",
       "        [   0,   55,    4, ...,    2,    2,    2],\n",
       "        ...,\n",
       "        [   0, 1172,  377, ...,    2,    2,    2],\n",
       "        [   0,  196,  279, ...,    2,    2,    2],\n",
       "        [   0,  180,   97, ...,    2,    2,    2]], dtype=int32)>,\n",
       " 'dec_inputs': <tf.Tensor: shape=(128, 34), dtype=int32, numpy=\n",
       " array([[   0,  385,  229, ...,    2,    2,    2],\n",
       "        [   0,  207,   26, ...,    2,    2,    2],\n",
       "        [   0,   85,   24, ...,    2,    2,    2],\n",
       "        ...,\n",
       "        [   0,  166,   15, ...,    2,    2,    2],\n",
       "        [   0,  185,    4, ...,    2,    2,    2],\n",
       "        [   0, 1033,  356, ...,    2,    2,    2]], dtype=int32)>}"
      ]
     },
     "execution_count": 97,
     "metadata": {},
     "output_type": "execute_result"
    }
   ],
   "source": [
    "next(iter(mecab_dataset))[0]"
   ]
  },
  {
   "cell_type": "markdown",
   "id": "strategic-appendix",
   "metadata": {},
   "source": [
    "전처리와 벡터화가 완료된 데이터셋을 텐서플로우 데이터셋으로 바꾸면서 모델의 입력과 출력으로 들어가는 구조를 설계합니다.\n",
    "\n",
    "모델의 입력 변수는 input_encoder, input_decoder를 만들고 출력 변수는 output_decoder의 형태로 만들겠습니다."
   ]
  },
  {
   "cell_type": "code",
   "execution_count": 98,
   "id": "understood-visit",
   "metadata": {},
   "outputs": [
    {
     "name": "stdout",
     "output_type": "stream",
     "text": [
      "사전 학습된 임베딩 벡터를 사용할 수 있는 단어의 개수 : 3637\n"
     ]
    },
    {
     "name": "stderr",
     "output_type": "stream",
     "text": [
      "/opt/conda/lib/python3.7/site-packages/ipykernel_launcher.py:10: DeprecationWarning: Call to deprecated `__contains__` (Method will be removed in 4.0.0, use self.wv.__contains__() instead).\n",
      "  # Remove the CWD from sys.path while we load stuff.\n",
      "/opt/conda/lib/python3.7/site-packages/ipykernel_launcher.py:12: DeprecationWarning: Call to deprecated `__getitem__` (Method will be removed in 4.0.0, use self.wv.__getitem__() instead).\n",
      "  if sys.path[0] == '':\n"
     ]
    },
    {
     "data": {
      "text/plain": [
       "(6800, 200)"
      ]
     },
     "execution_count": 98,
     "metadata": {},
     "output_type": "execute_result"
    }
   ],
   "source": [
    "word2vec_path = './ko.bin'\n",
    "mecab_word2vec = gensim.models.Word2Vec.load(word2vec_path)\n",
    "word_vector_dim = 200  # 워드 벡터의 차원수\n",
    "vocab_size = len(word_dict) + 3\n",
    "mecab_embedding_matrix = np.random.rand(vocab_size, word_vector_dim)\n",
    "\n",
    "tmp = 0\n",
    "# embedding_matrix에 Word2Vec 워드 벡터를 단어 하나씩마다 차례차례 카피한다.\n",
    "for i in range(vocab_size):\n",
    "    if index_word[i] in mecab_word2vec:\n",
    "        tmp += 1\n",
    "        mecab_embedding_matrix[i] = mecab_word2vec[index_word[i]]\n",
    "print(f\"사전 학습된 임베딩 벡터를 사용할 수 있는 단어의 개수 : {tmp}\")\n",
    "mecab_embedding_matrix.shape"
   ]
  },
  {
   "cell_type": "markdown",
   "id": "eight-whale",
   "metadata": {},
   "source": [
    "사전에 학습되어진 임베딩 벡터를 불러와서 임베딩 층은 전이학습을 적용하겠습니다.\n",
    "\n",
    "총 단어의 개수는 6800개이고 200 차원이며 사용 가능한 사전 학습 단어의 개수는 3637개입니다."
   ]
  },
  {
   "cell_type": "code",
   "execution_count": 99,
   "id": "equivalent-briefing",
   "metadata": {},
   "outputs": [],
   "source": [
    "def encoder(vocab_size,\n",
    "            num_layers,\n",
    "            units,\n",
    "            d_model,\n",
    "            num_heads,\n",
    "            dropout,\n",
    "            name=\"encoder\"):\n",
    "    inputs = tf.keras.Input(shape=(None,), name=\"inputs\")\n",
    "\n",
    "    # 패딩 마스크 사용\n",
    "    padding_mask = tf.keras.Input(shape=(1, 1, None), name=\"padding_mask\")\n",
    "\n",
    "    # 임베딩 레이어\n",
    "    embeddings = tf.keras.layers.Embedding(\n",
    "        vocab_size, \n",
    "        d_model,\n",
    "        embeddings_initializer=Constant(mecab_embedding_matrix),\n",
    "        trainable=True\n",
    "    )(inputs)\n",
    "    #embeddings *= tf.math.sqrt(tf.cast(d_model, tf.float32))\n",
    "\n",
    "    # 포지셔널 인코딩\n",
    "    embeddings = PositionalEncoding(vocab_size, d_model)(embeddings)\n",
    "\n",
    "    outputs = tf.keras.layers.Dropout(rate=dropout)(embeddings)\n",
    "\n",
    "    # num_layers만큼 쌓아올린 인코더의 층.\n",
    "    for i in range(num_layers):\n",
    "        outputs = encoder_layer(\n",
    "        units=units,\n",
    "        d_model=d_model,\n",
    "        num_heads=num_heads,\n",
    "        dropout=dropout,\n",
    "        name=\"encoder_layer_{}\".format(i),\n",
    "        )([outputs, padding_mask])\n",
    "\n",
    "    return tf.keras.Model(\n",
    "        inputs=[inputs, padding_mask], outputs=outputs, name=name)\n",
    "\n",
    "def decoder(vocab_size,\n",
    "            num_layers,\n",
    "            units,\n",
    "            d_model,\n",
    "            num_heads,\n",
    "            dropout,\n",
    "            name='decoder'):\n",
    "    inputs = tf.keras.Input(shape=(None,), name='inputs')\n",
    "    enc_outputs = tf.keras.Input(shape=(None, d_model), name='encoder_outputs')\n",
    "    look_ahead_mask = tf.keras.Input(\n",
    "        shape=(1, None, None), name='look_ahead_mask')\n",
    "\n",
    "    # 패딩 마스크\n",
    "    padding_mask = tf.keras.Input(shape=(1, 1, None), name='padding_mask')\n",
    "  \n",
    "    # 임베딩 레이어\n",
    "    embeddings = tf.keras.layers.Embedding(\n",
    "        vocab_size, \n",
    "        d_model,\n",
    "        embeddings_initializer=Constant(mecab_embedding_matrix),\n",
    "        trainable=True\n",
    "    )(inputs)\n",
    "    #embeddings *= tf.math.sqrt(tf.cast(d_model, tf.float32))\n",
    "\n",
    "    # 포지셔널 인코딩\n",
    "    embeddings = PositionalEncoding(vocab_size, d_model)(embeddings)\n",
    "\n",
    "    # Dropout이라는 훈련을 돕는 테크닉을 수행\n",
    "    outputs = tf.keras.layers.Dropout(rate=dropout)(embeddings)\n",
    "\n",
    "    for i in range(num_layers):\n",
    "        outputs = decoder_layer(\n",
    "        units=units,\n",
    "        d_model=d_model,\n",
    "        num_heads=num_heads,\n",
    "        dropout=dropout,\n",
    "        name='decoder_layer_{}'.format(i),\n",
    "        )(inputs=[outputs, enc_outputs, look_ahead_mask, padding_mask])\n",
    "\n",
    "    return tf.keras.Model(\n",
    "        inputs=[inputs, enc_outputs, look_ahead_mask, padding_mask],\n",
    "        outputs=outputs,\n",
    "        name=name)\n",
    "\n",
    "def transformer(vocab_size,\n",
    "                num_layers,\n",
    "                units,\n",
    "                d_model,\n",
    "                num_heads,\n",
    "                dropout,\n",
    "                name=\"transformer\"):\n",
    "    inputs = tf.keras.Input(shape=(None,), name=\"inputs\")\n",
    "    dec_inputs = tf.keras.Input(shape=(None,), name=\"dec_inputs\")\n",
    "\n",
    "    # 인코더에서 패딩을 위한 마스크\n",
    "    enc_padding_mask = tf.keras.layers.Lambda(\n",
    "        create_padding_mask, output_shape=(1, 1, None),\n",
    "        name='enc_padding_mask')(inputs)\n",
    "\n",
    "    # 디코더에서 미래의 토큰을 마스크 하기 위해서 사용합니다.\n",
    "    # 내부적으로 패딩 마스크도 포함되어져 있습니다.\n",
    "    look_ahead_mask = tf.keras.layers.Lambda(\n",
    "        create_look_ahead_mask,\n",
    "        output_shape=(1, None, None),\n",
    "        name='look_ahead_mask')(dec_inputs)\n",
    "\n",
    "    # 두 번째 어텐션 블록에서 인코더의 벡터들을 마스킹\n",
    "    # 디코더에서 패딩을 위한 마스크\n",
    "    dec_padding_mask = tf.keras.layers.Lambda(\n",
    "        create_padding_mask, output_shape=(1, 1, None),\n",
    "        name='dec_padding_mask')(inputs)\n",
    "\n",
    "    # 인코더\n",
    "    enc_outputs = encoder(\n",
    "        vocab_size=vocab_size,\n",
    "        num_layers=num_layers,\n",
    "        units=units,\n",
    "        d_model=d_model,\n",
    "        num_heads=num_heads,\n",
    "        dropout=dropout,\n",
    "    )(inputs=[inputs, enc_padding_mask])\n",
    "\n",
    "    # 디코더\n",
    "    dec_outputs = decoder(\n",
    "        vocab_size=vocab_size,\n",
    "        num_layers=num_layers,\n",
    "        units=units,\n",
    "        d_model=d_model,\n",
    "        num_heads=num_heads,\n",
    "        dropout=dropout,\n",
    "    )(inputs=[dec_inputs, enc_outputs, look_ahead_mask, dec_padding_mask])\n",
    "\n",
    "    # 완전연결층\n",
    "    outputs = tf.keras.layers.Dense(units=vocab_size, name=\"outputs\")(dec_outputs)\n",
    "\n",
    "    return tf.keras.Model(inputs=[inputs, dec_inputs], outputs=outputs, name=name)"
   ]
  },
  {
   "cell_type": "markdown",
   "id": "defensive-understanding",
   "metadata": {},
   "source": [
    "기존에 사용하던 임베딩 벡터가 아닌 새로운 임베딩 벡터를 사용하기에 다시 함수를 호출하여 현재 사용하는 임베딩 벡터로 바꿔주어야 합니다."
   ]
  },
  {
   "cell_type": "code",
   "execution_count": 109,
   "id": "micro-looking",
   "metadata": {},
   "outputs": [
    {
     "name": "stdout",
     "output_type": "stream",
     "text": [
      "Model: \"transformer\"\n",
      "__________________________________________________________________________________________________\n",
      "Layer (type)                    Output Shape         Param #     Connected to                     \n",
      "==================================================================================================\n",
      "inputs (InputLayer)             [(None, None)]       0                                            \n",
      "__________________________________________________________________________________________________\n",
      "dec_inputs (InputLayer)         [(None, None)]       0                                            \n",
      "__________________________________________________________________________________________________\n",
      "enc_padding_mask (Lambda)       (None, 1, 1, None)   0           inputs[0][0]                     \n",
      "__________________________________________________________________________________________________\n",
      "encoder (Functional)            (None, None, 200)    2094224     inputs[0][0]                     \n",
      "                                                                 enc_padding_mask[0][0]           \n",
      "__________________________________________________________________________________________________\n",
      "look_ahead_mask (Lambda)        (None, 1, None, None 0           dec_inputs[0][0]                 \n",
      "__________________________________________________________________________________________________\n",
      "dec_padding_mask (Lambda)       (None, 1, 1, None)   0           inputs[0][0]                     \n",
      "__________________________________________________________________________________________________\n",
      "decoder (Functional)            (None, None, 200)    2416624     dec_inputs[0][0]                 \n",
      "                                                                 encoder[0][0]                    \n",
      "                                                                 look_ahead_mask[0][0]            \n",
      "                                                                 dec_padding_mask[0][0]           \n",
      "__________________________________________________________________________________________________\n",
      "outputs (Dense)                 (None, None, 6800)   1366800     decoder[0][0]                    \n",
      "==================================================================================================\n",
      "Total params: 5,877,648\n",
      "Trainable params: 5,877,648\n",
      "Non-trainable params: 0\n",
      "__________________________________________________________________________________________________\n"
     ]
    }
   ],
   "source": [
    "tf.keras.backend.clear_session()\n",
    "\n",
    "# 하이퍼파라미터\n",
    "NUM_LAYERS = 2 # 인코더와 디코더의 층의 개수\n",
    "D_MODEL = word_vector_dim # 인코더와 디코더 내부의 입, 출력의 고정 차원\n",
    "NUM_HEADS = 8 # 멀티 헤드 어텐션에서의 헤드 수 \n",
    "UNITS = 512 # 피드 포워드 신경망의 은닉층의 크기\n",
    "DROPOUT = 0.7 # 드롭아웃의 비율\n",
    "\n",
    "mecab_model = transformer(\n",
    "    vocab_size=vocab_size,\n",
    "    num_layers=NUM_LAYERS,\n",
    "    units=UNITS,\n",
    "    d_model=D_MODEL,\n",
    "    num_heads=NUM_HEADS,\n",
    "    dropout=DROPOUT)\n",
    "\n",
    "mecab_model.summary()\n",
    "\n",
    "learning_rate = CustomSchedule(D_MODEL)\n",
    "\n",
    "optimizer = tf.keras.optimizers.Adam(\n",
    "    learning_rate, beta_1=0.9, beta_2=0.98, epsilon=1e-9)\n",
    "\n",
    "def accuracy(y_true, y_pred):\n",
    "    y_true = tf.reshape(y_true, shape=(-1, MAX_LENGTH - 1))\n",
    "    return tf.keras.metrics.sparse_categorical_accuracy(y_true, y_pred)\n",
    "\n",
    "mecab_model.compile(optimizer=optimizer, loss=loss_function, metrics=[accuracy])"
   ]
  },
  {
   "cell_type": "markdown",
   "id": "broad-selection",
   "metadata": {},
   "source": [
    "지금까지 설정한 모델의 구조를 compile 시켜줌으로써 새로운 모델을 만들 준비가 완료되었습니다."
   ]
  },
  {
   "cell_type": "code",
   "execution_count": 110,
   "id": "induced-chamber",
   "metadata": {},
   "outputs": [],
   "source": [
    "def mecab_decoder_inference(sentence, prob = False):\n",
    "    sentence = encoder_preprocessing(sentence)\n",
    "    # 입력된 문장을 정수 인코딩 후, 시작 토큰과 종료 토큰을 앞뒤로 추가.\n",
    "    # ex) Where have you been? → [[8331   86   30    5 1059    7 8332]]\n",
    "    sentence = tf.expand_dims([0] + [word_index[word] for word in mecab.morphs(sentence)] + [1], axis=0)\n",
    "    # 디코더의 현재까지의 예측한 출력 시퀀스가 지속적으로 저장되는 변수.\n",
    "    # 처음에는 예측한 내용이 없음으로 시작 토큰만 별도 저장. ex) 8331\n",
    "\n",
    "    sentence = tf.keras.preprocessing.sequence.pad_sequences(sentence,\n",
    "                                                            maxlen=MAX_LENGTH, \n",
    "                                                            padding='post',\n",
    "                                                            value = word_index[\"<pad>\"]\n",
    "                                                           )\n",
    "    \n",
    "    output_sequence = tf.expand_dims([0], 0)\n",
    "\n",
    "    # 디코더의 인퍼런스 단계\n",
    "    for i in range(MAX_LENGTH):\n",
    "        # 디코더는 최대 MAX_LENGTH의 길이만큼 다음 단어 예측을 반복합니다.\n",
    "        predictions = mecab_model(inputs=[sentence, output_sequence], training = False)\n",
    "        \n",
    "        # 다양한 답변을 출력하기 위해서 첫 단어는 확률적으로 선택\n",
    "        if prob == True:\n",
    "            predictions = (tf.exp(predictions[0,0]) / tf.math.reduce_sum(tf.exp(predictions[0,0]))).numpy()\n",
    "            predicted_id = np.random.choice(range(vocab_size), p = predictions, replace = False)\n",
    "            predicted_id =  np.expand_dims(predicted_id, [0, 1]) \n",
    "            predicted_id = tf.cast(predicted_id, tf.int32)\n",
    "        # 첫 단어 이후는 가장 점수가 높은 단어 선택\n",
    "        else:\n",
    "            predictions = mecab_model(inputs=[sentence, output_sequence], training=False)\n",
    "            predictions = predictions[:, -1:, :]\n",
    "            predicted_id = tf.cast(tf.argmax(predictions, axis = -1), tf.int32)\n",
    "        # 만약 현재 예측한 단어가 종료 토큰이라면 for문을 종료\n",
    "        if tf.equal(predicted_id, [1]):\n",
    "            break\n",
    "        \n",
    "        # 예측한 단어들은 지속적으로 output_sequence에 추가됩니다.\n",
    "        # 이 output_sequence는 다시 디코더의 입력이 됩니다.\n",
    "        output_sequence = tf.concat([output_sequence, predicted_id], axis = -1)\n",
    "\n",
    "    return tf.squeeze(output_sequence, axis=0)\n",
    "\n",
    "def mecab_sentence_generation(sentence, prob):\n",
    "    # 입력 문장에 대해서 디코더를 동작 시켜 예측된 정수 시퀀스를 리턴받습니다.\n",
    "    prediction = mecab_decoder_inference(sentence, prob = prob)\n",
    "\n",
    "    # 정수 시퀀스를 다시 텍스트 시퀀스로 변환합니다.\n",
    "    predicted_sentence = [index_word[i] for i in prediction.numpy()]\n",
    "    predicted_sentence = \" \".join(predicted_sentence[1:])\n",
    "    print('입력 : {}'.format(sentence))\n",
    "    print('출력 : {}'.format(predicted_sentence))\n",
    "\n",
    "    return predicted_sentence"
   ]
  },
  {
   "cell_type": "markdown",
   "id": "ambient-floating",
   "metadata": {},
   "source": [
    "모델이 학습을 하는 동안 예제의 결과가 어떻게 나오는지 중간중간 확인하기 위해서 모델의 테스트 함수를 미리 호출시켜놓습니다."
   ]
  },
  {
   "cell_type": "code",
   "execution_count": 111,
   "id": "infinite-aspect",
   "metadata": {
    "scrolled": false
   },
   "outputs": [
    {
     "name": "stdout",
     "output_type": "stream",
     "text": [
      "93/93 [==============================] - 21s 152ms/step - loss: 8.7631 - accuracy: 0.0495\n",
      "입력 : 안녕하세요\n",
      "출력 : <pad> <pad> <pad> <pad> <pad> <pad> <pad> <pad> <pad> <pad> <pad> <pad> <pad> <pad> <pad> <pad> <pad> <pad> <pad> <pad> <pad> <pad> <pad> <pad> <pad> <pad> <pad> <pad> <pad> <pad> <pad> <pad> <pad> <pad> <pad>\n",
      "\n",
      "\n",
      "93/93 [==============================] - 14s 152ms/step - loss: 6.6262 - accuracy: 0.7242\n",
      "93/93 [==============================] - 14s 152ms/step - loss: 4.4533 - accuracy: 0.7242\n",
      "93/93 [==============================] - 14s 153ms/step - loss: 2.6080 - accuracy: 0.7242\n",
      "입력 : 안녕하세요\n",
      "출력 : <pad> <pad> <pad> <pad> <pad> <pad> <pad> <pad> <pad> <pad> <pad> <pad> <pad> <pad> <pad> <pad> <pad> <pad> <pad> <pad> <pad> <pad> <pad> <pad> <pad> <pad> <pad> <pad> <pad> <pad> <pad> <pad> <pad> <pad> <pad>\n",
      "\n",
      "\n",
      "93/93 [==============================] - 14s 153ms/step - loss: 1.9691 - accuracy: 0.7244\n",
      "93/93 [==============================] - 14s 153ms/step - loss: 1.6783 - accuracy: 0.7424\n",
      "93/93 [==============================] - 14s 153ms/step - loss: 1.4987 - accuracy: 0.7616\n",
      "입력 : 안녕하세요\n",
      "출력 : .\n",
      "\n",
      "\n",
      "93/93 [==============================] - 14s 153ms/step - loss: 1.3797 - accuracy: 0.7779\n",
      "93/93 [==============================] - 14s 153ms/step - loss: 1.3152 - accuracy: 0.7864\n",
      "93/93 [==============================] - 14s 153ms/step - loss: 1.2620 - accuracy: 0.7929\n",
      "입력 : 안녕하세요\n",
      "출력 : 하 는 이 는 이 하 세요 .\n",
      "\n",
      "\n",
      "93/93 [==============================] - 14s 154ms/step - loss: 1.2142 - accuracy: 0.7997\n",
      "93/93 [==============================] - 14s 154ms/step - loss: 1.1719 - accuracy: 0.8056\n",
      "93/93 [==============================] - 14s 154ms/step - loss: 1.1360 - accuracy: 0.8097\n",
      "입력 : 안녕하세요\n",
      "출력 : 하 는 사람 이 에요 .\n",
      "\n",
      "\n",
      "93/93 [==============================] - 14s 154ms/step - loss: 1.1047 - accuracy: 0.8131\n",
      "93/93 [==============================] - 14s 154ms/step - loss: 1.0768 - accuracy: 0.8157\n",
      "93/93 [==============================] - 14s 154ms/step - loss: 1.0515 - accuracy: 0.8176\n",
      "입력 : 안녕하세요\n",
      "출력 : 하 지 않 아요 .\n",
      "\n",
      "\n",
      "93/93 [==============================] - 14s 154ms/step - loss: 1.0294 - accuracy: 0.8192\n",
      "93/93 [==============================] - 14s 154ms/step - loss: 1.0084 - accuracy: 0.8209\n",
      "93/93 [==============================] - 14s 154ms/step - loss: 0.9918 - accuracy: 0.8222\n",
      "입력 : 안녕하세요\n",
      "출력 : 이 있 으면 좋 겠 어요 .\n",
      "\n",
      "\n",
      "93/93 [==============================] - 14s 154ms/step - loss: 0.9727 - accuracy: 0.8242\n",
      "93/93 [==============================] - 14s 154ms/step - loss: 0.9529 - accuracy: 0.8255\n",
      "93/93 [==============================] - 14s 154ms/step - loss: 0.9317 - accuracy: 0.8281\n",
      "입력 : 안녕하세요\n",
      "출력 : 하 고 싶 은 사람 이 에요 .\n",
      "\n",
      "\n",
      "93/93 [==============================] - 14s 154ms/step - loss: 0.9118 - accuracy: 0.8300\n",
      "93/93 [==============================] - 14s 154ms/step - loss: 0.8912 - accuracy: 0.8326\n",
      "93/93 [==============================] - 14s 154ms/step - loss: 0.8717 - accuracy: 0.8343\n",
      "입력 : 안녕하세요\n",
      "출력 : 하 는 게 좋 겠 어요 .\n",
      "\n",
      "\n",
      "93/93 [==============================] - 14s 154ms/step - loss: 0.8532 - accuracy: 0.8363\n",
      "93/93 [==============================] - 14s 154ms/step - loss: 0.8356 - accuracy: 0.8383\n",
      "93/93 [==============================] - 14s 154ms/step - loss: 0.8196 - accuracy: 0.8398\n",
      "입력 : 안녕하세요\n",
      "출력 : 하 지 않 아요 .\n",
      "\n",
      "\n",
      "93/93 [==============================] - 14s 154ms/step - loss: 0.8055 - accuracy: 0.8411\n",
      "93/93 [==============================] - 14s 154ms/step - loss: 0.7890 - accuracy: 0.8427\n",
      "93/93 [==============================] - 14s 154ms/step - loss: 0.7778 - accuracy: 0.8441\n",
      "입력 : 안녕하세요\n",
      "출력 : 하 지 마세요 .\n",
      "\n",
      "\n",
      "93/93 [==============================] - 14s 154ms/step - loss: 0.7627 - accuracy: 0.8458\n",
      "93/93 [==============================] - 14s 154ms/step - loss: 0.7499 - accuracy: 0.8469\n",
      "93/93 [==============================] - 14s 154ms/step - loss: 0.7378 - accuracy: 0.8486\n",
      "입력 : 안녕하세요\n",
      "출력 : 하 지 않 는 게 좋 은 거 예요 .\n",
      "\n",
      "\n",
      "93/93 [==============================] - 14s 154ms/step - loss: 0.7276 - accuracy: 0.8495\n",
      "93/93 [==============================] - 14s 154ms/step - loss: 0.7185 - accuracy: 0.8503\n",
      "93/93 [==============================] - 14s 154ms/step - loss: 0.7077 - accuracy: 0.8521\n",
      "입력 : 안녕하세요\n",
      "출력 : 하 지 않 는 게 좋 겠 죠 .\n",
      "\n",
      "\n",
      "93/93 [==============================] - 14s 154ms/step - loss: 0.7005 - accuracy: 0.8524\n",
      "93/93 [==============================] - 14s 154ms/step - loss: 0.6904 - accuracy: 0.8540\n",
      "93/93 [==============================] - 14s 154ms/step - loss: 0.6841 - accuracy: 0.8546\n",
      "입력 : 안녕하세요\n",
      "출력 : 하 고 싶 은 알바 지원 하 세요 .\n",
      "\n",
      "\n",
      "93/93 [==============================] - 14s 154ms/step - loss: 0.6760 - accuracy: 0.8556\n",
      "93/93 [==============================] - 14s 154ms/step - loss: 0.6686 - accuracy: 0.8569\n",
      "93/93 [==============================] - 14s 154ms/step - loss: 0.6620 - accuracy: 0.8575\n",
      "입력 : 안녕하세요\n",
      "출력 : 하 고 싶 은 알바 지원 하 세요 .\n",
      "\n",
      "\n",
      "93/93 [==============================] - 14s 154ms/step - loss: 0.6560 - accuracy: 0.8582\n",
      "93/93 [==============================] - 14s 154ms/step - loss: 0.6489 - accuracy: 0.8593\n",
      "93/93 [==============================] - 14s 154ms/step - loss: 0.6404 - accuracy: 0.8604\n",
      "입력 : 안녕하세요\n",
      "출력 : 하 고 싶 은 사람 이 있 을 거 예요 .\n",
      "\n",
      "\n",
      "93/93 [==============================] - 14s 154ms/step - loss: 0.6341 - accuracy: 0.8611\n",
      "93/93 [==============================] - 14s 154ms/step - loss: 0.6275 - accuracy: 0.8617\n",
      "93/93 [==============================] - 14s 154ms/step - loss: 0.6205 - accuracy: 0.8632\n",
      "입력 : 안녕하세요\n",
      "출력 : 하 고 싶 은 알바 지원 하 세요 .\n",
      "\n",
      "\n",
      "93/93 [==============================] - 14s 154ms/step - loss: 0.6189 - accuracy: 0.8633\n",
      "93/93 [==============================] - 14s 154ms/step - loss: 0.6117 - accuracy: 0.8647\n",
      "93/93 [==============================] - 14s 154ms/step - loss: 0.6054 - accuracy: 0.8652\n",
      "입력 : 안녕하세요\n",
      "출력 : 하 고 싶 은 알바 지원 하 세요 .\n",
      "\n",
      "\n",
      "93/93 [==============================] - 14s 154ms/step - loss: 0.6006 - accuracy: 0.8659\n",
      "93/93 [==============================] - 14s 154ms/step - loss: 0.5968 - accuracy: 0.8665\n",
      "93/93 [==============================] - 14s 154ms/step - loss: 0.5903 - accuracy: 0.8675\n",
      "입력 : 안녕하세요\n",
      "출력 : 하 고 싶 은 알바 지원 하 세요 .\n",
      "\n",
      "\n",
      "93/93 [==============================] - 14s 154ms/step - loss: 0.5860 - accuracy: 0.8680\n",
      "93/93 [==============================] - 14s 154ms/step - loss: 0.5823 - accuracy: 0.8681\n",
      "93/93 [==============================] - 14s 154ms/step - loss: 0.5787 - accuracy: 0.8689\n",
      "입력 : 안녕하세요\n",
      "출력 : 를 해 보 세요 .\n",
      "\n",
      "\n",
      "93/93 [==============================] - 14s 153ms/step - loss: 0.5738 - accuracy: 0.8701\n",
      "93/93 [==============================] - 14s 154ms/step - loss: 0.5714 - accuracy: 0.8703\n",
      "93/93 [==============================] - 14s 154ms/step - loss: 0.5675 - accuracy: 0.8706\n",
      "입력 : 안녕하세요\n",
      "출력 : 하 고 싶 은 알바 지원 해 보 세요 .\n",
      "\n",
      "\n",
      "93/93 [==============================] - 14s 154ms/step - loss: 0.5640 - accuracy: 0.8713\n",
      "93/93 [==============================] - 14s 154ms/step - loss: 0.5597 - accuracy: 0.8717\n",
      "93/93 [==============================] - 14s 154ms/step - loss: 0.5567 - accuracy: 0.8724\n",
      "입력 : 안녕하세요\n",
      "출력 : 이 김 이 에요 .\n",
      "\n",
      "\n",
      "93/93 [==============================] - 14s 154ms/step - loss: 0.5529 - accuracy: 0.8728\n",
      "93/93 [==============================] - 14s 154ms/step - loss: 0.5505 - accuracy: 0.8734\n",
      "93/93 [==============================] - 14s 154ms/step - loss: 0.5463 - accuracy: 0.8740\n",
      "입력 : 안녕하세요\n",
      "출력 : 하 고 싶 은 사람 이 있 을 거 예요 .\n",
      "\n",
      "\n",
      "93/93 [==============================] - 14s 154ms/step - loss: 0.5438 - accuracy: 0.8742\n",
      "93/93 [==============================] - 14s 154ms/step - loss: 0.5418 - accuracy: 0.8748\n",
      "93/93 [==============================] - 14s 154ms/step - loss: 0.5404 - accuracy: 0.8747\n",
      "입력 : 안녕하세요\n",
      "출력 : 드세요 .\n",
      "\n",
      "\n",
      "93/93 [==============================] - 14s 154ms/step - loss: 0.5357 - accuracy: 0.8755\n",
      "93/93 [==============================] - 14s 154ms/step - loss: 0.5351 - accuracy: 0.8757\n",
      "93/93 [==============================] - 14s 154ms/step - loss: 0.5316 - accuracy: 0.8764\n",
      "입력 : 안녕하세요\n",
      "출력 : 하 고 싶 은 사람 이 다 하 세요 .\n",
      "\n",
      "\n",
      "93/93 [==============================] - 14s 154ms/step - loss: 0.5284 - accuracy: 0.8767\n",
      "93/93 [==============================] - 14s 154ms/step - loss: 0.5242 - accuracy: 0.8773\n",
      "93/93 [==============================] - 14s 154ms/step - loss: 0.5212 - accuracy: 0.8779\n",
      "입력 : 안녕하세요\n",
      "출력 : 하 고 싶 은 하 세요 .\n",
      "\n",
      "\n",
      "93/93 [==============================] - 14s 154ms/step - loss: 0.5197 - accuracy: 0.8779\n",
      "93/93 [==============================] - 14s 154ms/step - loss: 0.5196 - accuracy: 0.8782\n",
      "93/93 [==============================] - 14s 154ms/step - loss: 0.5166 - accuracy: 0.8787\n",
      "입력 : 안녕하세요\n",
      "출력 : 하 다 보 면 늘 어요 .\n",
      "\n",
      "\n",
      "93/93 [==============================] - 14s 154ms/step - loss: 0.5143 - accuracy: 0.8787\n",
      "93/93 [==============================] - 14s 154ms/step - loss: 0.5103 - accuracy: 0.8792\n",
      "93/93 [==============================] - 14s 154ms/step - loss: 0.5094 - accuracy: 0.8796\n",
      "입력 : 안녕하세요\n",
      "출력 : 하 고 싶 은 알바 지원 해 보 세요 .\n",
      "\n",
      "\n",
      "93/93 [==============================] - 14s 154ms/step - loss: 0.5075 - accuracy: 0.8798\n",
      "93/93 [==============================] - 14s 154ms/step - loss: 0.5068 - accuracy: 0.8802\n",
      "93/93 [==============================] - 14s 154ms/step - loss: 0.5034 - accuracy: 0.8805\n",
      "입력 : 안녕하세요\n",
      "출력 : 하 고 싶 은 말 다 하 세요 .\n",
      "\n",
      "\n",
      "93/93 [==============================] - 14s 154ms/step - loss: 0.5011 - accuracy: 0.8808\n",
      "93/93 [==============================] - 14s 154ms/step - loss: 0.5007 - accuracy: 0.8810\n",
      "93/93 [==============================] - 14s 154ms/step - loss: 0.4946 - accuracy: 0.8825\n",
      "입력 : 안녕하세요\n",
      "출력 : 하 고 싶 은 일 이 구해 거 예요 .\n",
      "\n",
      "\n",
      "93/93 [==============================] - 14s 154ms/step - loss: 0.4952 - accuracy: 0.8818\n",
      "93/93 [==============================] - 14s 154ms/step - loss: 0.4941 - accuracy: 0.8821\n",
      "93/93 [==============================] - 14s 154ms/step - loss: 0.4901 - accuracy: 0.8829\n",
      "입력 : 안녕하세요\n",
      "출력 : 하 고 싶 은 일 을 구해 보 세요 .\n",
      "\n",
      "\n",
      "93/93 [==============================] - 14s 154ms/step - loss: 0.4895 - accuracy: 0.8828\n",
      "93/93 [==============================] - 14s 154ms/step - loss: 0.4869 - accuracy: 0.8833\n",
      "93/93 [==============================] - 14s 154ms/step - loss: 0.4874 - accuracy: 0.8830\n",
      "입력 : 안녕하세요\n",
      "출력 : 하 고 싶 은 알바 지원 해 보 세요 .\n",
      "\n",
      "\n",
      "93/93 [==============================] - 14s 154ms/step - loss: 0.4867 - accuracy: 0.8835\n",
      "93/93 [==============================] - 14s 154ms/step - loss: 0.4810 - accuracy: 0.8848\n",
      "93/93 [==============================] - 14s 154ms/step - loss: 0.4797 - accuracy: 0.8847\n",
      "입력 : 안녕하세요\n",
      "출력 : 하 고 싶 은 일 을 구해 보 세요 .\n",
      "\n",
      "\n",
      "93/93 [==============================] - 14s 154ms/step - loss: 0.4796 - accuracy: 0.8845\n",
      "93/93 [==============================] - 14s 154ms/step - loss: 0.4768 - accuracy: 0.8850\n",
      "93/93 [==============================] - 14s 154ms/step - loss: 0.4758 - accuracy: 0.8849\n",
      "입력 : 안녕하세요\n",
      "출력 : 하 고 싶 은 일 이 네요 .\n",
      "\n",
      "\n",
      "93/93 [==============================] - 14s 154ms/step - loss: 0.4735 - accuracy: 0.8855\n"
     ]
    }
   ],
   "source": [
    "EPOCHS = 100\n",
    "\n",
    "for i in range(EPOCHS + 1):\n",
    "    mecab_model.fit(mecab_dataset, epochs=1, verbose=1)\n",
    "    if i % 3 == 0:\n",
    "        input_sentence = '안녕하세요'\n",
    "        result = mecab_sentence_generation(input_sentence, prob = False)\n",
    "        print(\"\\n\")"
   ]
  },
  {
   "cell_type": "code",
   "execution_count": 112,
   "id": "dangerous-mount",
   "metadata": {},
   "outputs": [
    {
     "name": "stdout",
     "output_type": "stream",
     "text": [
      "입력 : 밥먹자\n",
      "출력 : 드세요 .\n"
     ]
    }
   ],
   "source": [
    "input_sentence = '밥먹자'\n",
    "result = mecab_sentence_generation(input_sentence, prob = False)"
   ]
  },
  {
   "cell_type": "markdown",
   "id": "turned-spencer",
   "metadata": {},
   "source": [
    "말이 많이 짧지만 그래도 생각보다 정상적인 반응을 하는 챗봇 모델을 완성할 수 있었습니다."
   ]
  }
 ],
 "metadata": {
  "kernelspec": {
   "display_name": "Python 3",
   "language": "python",
   "name": "python3"
  },
  "language_info": {
   "codemirror_mode": {
    "name": "ipython",
    "version": 3
   },
   "file_extension": ".py",
   "mimetype": "text/x-python",
   "name": "python",
   "nbconvert_exporter": "python",
   "pygments_lexer": "ipython3",
   "version": "3.7.9"
  }
 },
 "nbformat": 4,
 "nbformat_minor": 5
}
