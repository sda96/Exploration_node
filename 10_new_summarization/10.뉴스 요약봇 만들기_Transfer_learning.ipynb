{
 "cells": [
  {
   "cell_type": "markdown",
   "id": "broad-emperor",
   "metadata": {},
   "source": [
    "## 0. 문제 기획 및 설계"
   ]
  },
  {
   "cell_type": "markdown",
   "id": "organized-stable",
   "metadata": {},
   "source": [
    "앞으로 수행할 태스크는 뉴스 요약문 생성하기로 NLP task중에서 문장 요약에 해당합니다.\n",
    "\n",
    "문장요약을 하는 방법으로는 추출적 요약과 추상적 요약으로 총 2가지 방법이 존재하는데, 추출적 요약은 전체 문장에서 핵심 문장을 추출하는 방식으로 추출된 문장이 약간 어색할 수 있습니다.  \n",
    "추상적 요약은 언어모델을 사용하여 문장을 생성하는 방식으로 요약된 문장이 좀 더 자연스럽지만 요구되는 데이터의 양이 많습니다.\n",
    "\n",
    "해당 노트북에서 수행할 방법은 seq2seq모델을 사용한 추상적 문장 요약 방식을 수행하겠습니다."
   ]
  },
  {
   "cell_type": "markdown",
   "id": "processed-twins",
   "metadata": {},
   "source": [
    "## 1. 필요한 패키지 불러오기"
   ]
  },
  {
   "cell_type": "code",
   "execution_count": 1,
   "id": "relative-fitting",
   "metadata": {},
   "outputs": [
    {
     "name": "stderr",
     "output_type": "stream",
     "text": [
      "[nltk_data] Downloading package stopwords to /aiffel/nltk_data...\n",
      "[nltk_data]   Unzipping corpora/stopwords.zip.\n",
      "/opt/conda/lib/python3.7/site-packages/gensim/similarities/__init__.py:15: UserWarning: The gensim.similarities.levenshtein submodule is disabled, because the optional Levenshtein package <https://pypi.org/project/python-Levenshtein/> is unavailable. Install Levenhstein (e.g. `pip install python-Levenshtein`) to suppress this warning.\n",
      "  warnings.warn(msg)\n"
     ]
    }
   ],
   "source": [
    "import urllib.request\n",
    "import nltk\n",
    "nltk.download('stopwords')\n",
    "\n",
    "import numpy as np\n",
    "import pandas as pd\n",
    "import os\n",
    "import re\n",
    "from tqdm import tqdm\n",
    "import matplotlib.pyplot as plt\n",
    "from nltk.corpus import stopwords\n",
    "from bs4 import BeautifulSoup \n",
    "from tensorflow.keras.preprocessing.text import Tokenizer \n",
    "from tensorflow.keras.preprocessing.sequence import pad_sequences\n",
    "from tensorflow.keras.layers import Input, LSTM, Embedding, Dense, Concatenate\n",
    "from tensorflow.keras.models import Model\n",
    "from tensorflow.keras.callbacks import EarlyStopping, ModelCheckpoint\n",
    "from tensorflow.keras.initializers import Constant\n",
    "import urllib.request\n",
    "from collections import defaultdict\n",
    "\n",
    "from gensim.models import KeyedVectors\n",
    "import multiprocessing as mp   # 멀티 프로세싱으로 전처리 속도를 획기적으로 줄여봅시다\n",
    "from multiprocessing import Pool\n",
    "import numpy as np\n",
    "import time\n",
    "from functools import partial  # map을 할 때 함수에 여러 인자를 넣어줄 수 있도록 합니다"
   ]
  },
  {
   "cell_type": "markdown",
   "id": "knowing-denver",
   "metadata": {},
   "source": [
    "문장을 요약할 데이터는 영문의 뉴스 데이터로 기사 원문과 짧게 요약된 headlines로 구성된 데이터 입니다.\n",
    "\n",
    "영문 데이터이기 때문에 nltk패키지에서 불용어로 사용되는 단어를 제거하기 위해서 불용어 사전을 가져오겠습니다."
   ]
  },
  {
   "cell_type": "markdown",
   "id": "balanced-drawing",
   "metadata": {},
   "source": [
    "## 2. 데이터 불러오기"
   ]
  },
  {
   "cell_type": "code",
   "execution_count": 2,
   "id": "inside-ottawa",
   "metadata": {
    "scrolled": true
   },
   "outputs": [
    {
     "name": "stdout",
     "output_type": "stream",
     "text": [
      "데이터 개수 : 98401\n",
      "변수 개수 : 2\n"
     ]
    },
    {
     "data": {
      "text/html": [
       "<div>\n",
       "<style scoped>\n",
       "    .dataframe tbody tr th:only-of-type {\n",
       "        vertical-align: middle;\n",
       "    }\n",
       "\n",
       "    .dataframe tbody tr th {\n",
       "        vertical-align: top;\n",
       "    }\n",
       "\n",
       "    .dataframe thead th {\n",
       "        text-align: right;\n",
       "    }\n",
       "</style>\n",
       "<table border=\"1\" class=\"dataframe\">\n",
       "  <thead>\n",
       "    <tr style=\"text-align: right;\">\n",
       "      <th></th>\n",
       "      <th>headlines</th>\n",
       "      <th>text</th>\n",
       "    </tr>\n",
       "  </thead>\n",
       "  <tbody>\n",
       "    <tr>\n",
       "      <th>0</th>\n",
       "      <td>upGrad learner switches to career in ML &amp; Al w...</td>\n",
       "      <td>Saurav Kant, an alumnus of upGrad and IIIT-B's...</td>\n",
       "    </tr>\n",
       "    <tr>\n",
       "      <th>1</th>\n",
       "      <td>Delhi techie wins free food from Swiggy for on...</td>\n",
       "      <td>Kunal Shah's credit card bill payment platform...</td>\n",
       "    </tr>\n",
       "    <tr>\n",
       "      <th>2</th>\n",
       "      <td>New Zealand end Rohit Sharma-led India's 12-ma...</td>\n",
       "      <td>New Zealand defeated India by 8 wickets in the...</td>\n",
       "    </tr>\n",
       "    <tr>\n",
       "      <th>3</th>\n",
       "      <td>Aegon life iTerm insurance plan helps customer...</td>\n",
       "      <td>With Aegon Life iTerm Insurance plan, customer...</td>\n",
       "    </tr>\n",
       "    <tr>\n",
       "      <th>4</th>\n",
       "      <td>Have known Hirani for yrs, what if MeToo claim...</td>\n",
       "      <td>Speaking about the sexual harassment allegatio...</td>\n",
       "    </tr>\n",
       "  </tbody>\n",
       "</table>\n",
       "</div>"
      ],
      "text/plain": [
       "                                           headlines  \\\n",
       "0  upGrad learner switches to career in ML & Al w...   \n",
       "1  Delhi techie wins free food from Swiggy for on...   \n",
       "2  New Zealand end Rohit Sharma-led India's 12-ma...   \n",
       "3  Aegon life iTerm insurance plan helps customer...   \n",
       "4  Have known Hirani for yrs, what if MeToo claim...   \n",
       "\n",
       "                                                text  \n",
       "0  Saurav Kant, an alumnus of upGrad and IIIT-B's...  \n",
       "1  Kunal Shah's credit card bill payment platform...  \n",
       "2  New Zealand defeated India by 8 wickets in the...  \n",
       "3  With Aegon Life iTerm Insurance plan, customer...  \n",
       "4  Speaking about the sexual harassment allegatio...  "
      ]
     },
     "execution_count": 2,
     "metadata": {},
     "output_type": "execute_result"
    }
   ],
   "source": [
    "urllib.request.urlretrieve(\"https://raw.githubusercontent.com/sunnysai12345/News_Summary/master/news_summary_more.csv\", filename=\"news_summary_more.csv\")\n",
    "data = pd.read_csv('news_summary_more.csv', encoding='iso-8859-1')\n",
    "print(f\"데이터 개수 : {data.shape[0]}\")\n",
    "print(f\"변수 개수 : {data.shape[1]}\")\n",
    "data.head()"
   ]
  },
  {
   "cell_type": "markdown",
   "id": "swiss-boost",
   "metadata": {},
   "source": [
    "불러온 데이터의 형태는 위와 같습니다."
   ]
  },
  {
   "cell_type": "markdown",
   "id": "sixth-blanket",
   "metadata": {},
   "source": [
    "gesim패키지에서 사전에 학습이 완료된 임베딩 벡터를 불러와서 전이학습으로 사용하겠습니다."
   ]
  },
  {
   "cell_type": "code",
   "execution_count": 3,
   "id": "completed-coordination",
   "metadata": {},
   "outputs": [
    {
     "data": {
      "text/plain": [
       "(300,)"
      ]
     },
     "execution_count": 3,
     "metadata": {},
     "output_type": "execute_result"
    }
   ],
   "source": [
    "word2vec = KeyedVectors.load_word2vec_format('GoogleNews-vectors-negative300.bin', binary=True)\n",
    "vector = word2vec['my']\n",
    "vector.shape     "
   ]
  },
  {
   "cell_type": "markdown",
   "id": "egyptian-highlight",
   "metadata": {},
   "source": [
    "![image](https://user-images.githubusercontent.com/51338268/139614008-1f279c33-403a-4956-bce5-b4bcbef59589.png)\n",
    "해당 오류가 발생하면 [링크](https://iambeginnerdeveloper.tistory.com/41)를 참고하여 gesim의 패키지 버전을 다운그레이드 시킵니다.  \n",
    "\n",
    "!pip install --upgrade gensim==3.8.3"
   ]
  },
  {
   "cell_type": "markdown",
   "id": "approximate-monte",
   "metadata": {},
   "source": [
    "사전학습된 임베딩 벡터는 구글 뉴스 데이터들로 차원의 수는 300개인 벡터입니다. \n",
    "\n",
    "벡터파일의 크기가 압축전에는 1.5GB이고 압축을 해제하면 3GB가 넘기 때문에 해당 repository에는 넣지 않고 다운 받은 링크를 드리겠습니다.\n",
    "- https://github.com/3Top/word2vec-api"
   ]
  },
  {
   "cell_type": "markdown",
   "id": "intelligent-malaysia",
   "metadata": {},
   "source": [
    "## 3. 데이터 전처리 및 시각화"
   ]
  },
  {
   "cell_type": "markdown",
   "id": "healthy-municipality",
   "metadata": {},
   "source": [
    "#### 결측값 확인"
   ]
  },
  {
   "cell_type": "code",
   "execution_count": 4,
   "id": "residential-chaos",
   "metadata": {},
   "outputs": [
    {
     "data": {
      "text/plain": [
       "headlines    0\n",
       "text         0\n",
       "dtype: int64"
      ]
     },
     "execution_count": 4,
     "metadata": {},
     "output_type": "execute_result"
    }
   ],
   "source": [
    "data.isnull().sum()"
   ]
  },
  {
   "cell_type": "markdown",
   "id": "double-pressure",
   "metadata": {},
   "source": [
    "#### 중복 데이터 제거"
   ]
  },
  {
   "cell_type": "code",
   "execution_count": 5,
   "id": "compressed-belarus",
   "metadata": {},
   "outputs": [
    {
     "name": "stdout",
     "output_type": "stream",
     "text": [
      "데이터 중복 제거 전 개수 : 98401\n",
      "데이터 중복 제거 후 개수 : 98379\n"
     ]
    }
   ],
   "source": [
    "print(f\"데이터 중복 제거 전 개수 : {data.shape[0]}\")\n",
    "data = data.drop_duplicates(keep=\"first\")\n",
    "print(f\"데이터 중복 제거 후 개수 : {data.shape[0]}\")"
   ]
  },
  {
   "cell_type": "markdown",
   "id": "generous-mechanics",
   "metadata": {},
   "source": [
    "#### 텍스트 정규화"
   ]
  },
  {
   "cell_type": "code",
   "execution_count": 6,
   "id": "cognitive-procurement",
   "metadata": {},
   "outputs": [
    {
     "name": "stdout",
     "output_type": "stream",
     "text": [
      "정규화 사전의 수:  120\n"
     ]
    }
   ],
   "source": [
    "contractions = {\"ain't\": \"is not\", \"aren't\": \"are not\",\"can't\": \"cannot\", \"'cause\": \"because\", \"could've\": \"could have\", \"couldn't\": \"could not\",\n",
    "                           \"didn't\": \"did not\",  \"doesn't\": \"does not\", \"don't\": \"do not\", \"hadn't\": \"had not\", \"hasn't\": \"has not\", \"haven't\": \"have not\",\n",
    "                           \"he'd\": \"he would\",\"he'll\": \"he will\", \"he's\": \"he is\", \"how'd\": \"how did\", \"how'd'y\": \"how do you\", \"how'll\": \"how will\", \"how's\": \"how is\",\n",
    "                           \"I'd\": \"I would\", \"I'd've\": \"I would have\", \"I'll\": \"I will\", \"I'll've\": \"I will have\",\"I'm\": \"I am\", \"I've\": \"I have\", \"i'd\": \"i would\",\n",
    "                           \"i'd've\": \"i would have\", \"i'll\": \"i will\",  \"i'll've\": \"i will have\",\"i'm\": \"i am\", \"i've\": \"i have\", \"isn't\": \"is not\", \"it'd\": \"it would\",\n",
    "                           \"it'd've\": \"it would have\", \"it'll\": \"it will\", \"it'll've\": \"it will have\",\"it's\": \"it is\", \"let's\": \"let us\", \"ma'am\": \"madam\",\n",
    "                           \"mayn't\": \"may not\", \"might've\": \"might have\",\"mightn't\": \"might not\",\"mightn't've\": \"might not have\", \"must've\": \"must have\",\n",
    "                           \"mustn't\": \"must not\", \"mustn't've\": \"must not have\", \"needn't\": \"need not\", \"needn't've\": \"need not have\",\"o'clock\": \"of the clock\",\n",
    "                           \"oughtn't\": \"ought not\", \"oughtn't've\": \"ought not have\", \"shan't\": \"shall not\", \"sha'n't\": \"shall not\", \"shan't've\": \"shall not have\",\n",
    "                           \"she'd\": \"she would\", \"she'd've\": \"she would have\", \"she'll\": \"she will\", \"she'll've\": \"she will have\", \"she's\": \"she is\",\n",
    "                           \"should've\": \"should have\", \"shouldn't\": \"should not\", \"shouldn't've\": \"should not have\", \"so've\": \"so have\",\"so's\": \"so as\",\n",
    "                           \"this's\": \"this is\",\"that'd\": \"that would\", \"that'd've\": \"that would have\", \"that's\": \"that is\", \"there'd\": \"there would\",\n",
    "                           \"there'd've\": \"there would have\", \"there's\": \"there is\", \"here's\": \"here is\",\"they'd\": \"they would\", \"they'd've\": \"they would have\",\n",
    "                           \"they'll\": \"they will\", \"they'll've\": \"they will have\", \"they're\": \"they are\", \"they've\": \"they have\", \"to've\": \"to have\",\n",
    "                           \"wasn't\": \"was not\", \"we'd\": \"we would\", \"we'd've\": \"we would have\", \"we'll\": \"we will\", \"we'll've\": \"we will have\", \"we're\": \"we are\",\n",
    "                           \"we've\": \"we have\", \"weren't\": \"were not\", \"what'll\": \"what will\", \"what'll've\": \"what will have\", \"what're\": \"what are\",\n",
    "                           \"what's\": \"what is\", \"what've\": \"what have\", \"when's\": \"when is\", \"when've\": \"when have\", \"where'd\": \"where did\", \"where's\": \"where is\",\n",
    "                           \"where've\": \"where have\", \"who'll\": \"who will\", \"who'll've\": \"who will have\", \"who's\": \"who is\", \"who've\": \"who have\",\n",
    "                           \"why's\": \"why is\", \"why've\": \"why have\", \"will've\": \"will have\", \"won't\": \"will not\", \"won't've\": \"will not have\",\n",
    "                           \"would've\": \"would have\", \"wouldn't\": \"would not\", \"wouldn't've\": \"would not have\", \"y'all\": \"you all\",\n",
    "                           \"y'all'd\": \"you all would\",\"y'all'd've\": \"you all would have\",\"y'all're\": \"you all are\",\"y'all've\": \"you all have\",\n",
    "                           \"you'd\": \"you would\", \"you'd've\": \"you would have\", \"you'll\": \"you will\", \"you'll've\": \"you will have\",\n",
    "                           \"you're\": \"you are\", \"you've\": \"you have\"}\n",
    "\n",
    "print(\"정규화 사전의 수: \", len(contractions))"
   ]
  },
  {
   "cell_type": "markdown",
   "id": "experienced-patent",
   "metadata": {},
   "source": [
    "#### 불용어 제거"
   ]
  },
  {
   "cell_type": "code",
   "execution_count": 7,
   "id": "accomplished-blake",
   "metadata": {},
   "outputs": [
    {
     "name": "stdout",
     "output_type": "stream",
     "text": [
      "불용어 개수 : 179\n",
      "['i', 'me', 'my', 'myself', 'we', 'our', 'ours', 'ourselves', 'you', \"you're\", \"you've\", \"you'll\", \"you'd\", 'your', 'yours', 'yourself', 'yourselves', 'he', 'him', 'his', 'himself', 'she', \"she's\", 'her', 'hers', 'herself', 'it', \"it's\", 'its', 'itself', 'they', 'them', 'their', 'theirs', 'themselves', 'what', 'which', 'who', 'whom', 'this', 'that', \"that'll\", 'these', 'those', 'am', 'is', 'are', 'was', 'were', 'be', 'been', 'being', 'have', 'has', 'had', 'having', 'do', 'does', 'did', 'doing', 'a', 'an', 'the', 'and', 'but', 'if', 'or', 'because', 'as', 'until', 'while', 'of', 'at', 'by', 'for', 'with', 'about', 'against', 'between', 'into', 'through', 'during', 'before', 'after', 'above', 'below', 'to', 'from', 'up', 'down', 'in', 'out', 'on', 'off', 'over', 'under', 'again', 'further', 'then', 'once', 'here', 'there', 'when', 'where', 'why', 'how', 'all', 'any', 'both', 'each', 'few', 'more', 'most', 'other', 'some', 'such', 'no', 'nor', 'not', 'only', 'own', 'same', 'so', 'than', 'too', 'very', 's', 't', 'can', 'will', 'just', 'don', \"don't\", 'should', \"should've\", 'now', 'd', 'll', 'm', 'o', 're', 've', 'y', 'ain', 'aren', \"aren't\", 'couldn', \"couldn't\", 'didn', \"didn't\", 'doesn', \"doesn't\", 'hadn', \"hadn't\", 'hasn', \"hasn't\", 'haven', \"haven't\", 'isn', \"isn't\", 'ma', 'mightn', \"mightn't\", 'mustn', \"mustn't\", 'needn', \"needn't\", 'shan', \"shan't\", 'shouldn', \"shouldn't\", 'wasn', \"wasn't\", 'weren', \"weren't\", 'won', \"won't\", 'wouldn', \"wouldn't\"]\n"
     ]
    }
   ],
   "source": [
    "print('불용어 개수 :', len(stopwords.words('english') ))\n",
    "print(stopwords.words('english'))"
   ]
  },
  {
   "cell_type": "markdown",
   "id": "meaning-butter",
   "metadata": {},
   "source": [
    "#### 텍스트 전처리 함수 적용"
   ]
  },
  {
   "cell_type": "code",
   "execution_count": 8,
   "id": "korean-cricket",
   "metadata": {},
   "outputs": [],
   "source": [
    "# 데이터 전처리 함수\n",
    "def preprocess_sentence(sentence, remove_stopwords=True):\n",
    "    sentence = sentence.lower() # 텍스트 소문자화\n",
    "    sentence = BeautifulSoup(sentence, \"lxml\").text # <br />, <a href = ...> 등의 html 태그 제거\n",
    "    sentence = re.sub(r'\\([^)]*\\)', '', sentence) # 괄호로 닫힌 문자열 (...) 제거 Ex) my husband (and myself!) for => my husband for\n",
    "    sentence = re.sub('\"','', sentence) # 쌍따옴표 \" 제거\n",
    "    sentence = ' '.join([contractions[t] if t in contractions else t for t in sentence.split(\" \")]) # 약어 정규화\n",
    "    sentence = re.sub(r\"'s\\b\",\"\", sentence) # 소유격 제거. Ex) roland's -> roland\n",
    "    sentence = re.sub(\"[^a-zA-Z]\", \" \", sentence) # 영어 외 문자(숫자, 특수문자 등) 공백으로 변환\n",
    "    sentence = re.sub('[m]{2,}', 'mm', sentence) # m이 3개 이상이면 2개로 변경. Ex) ummmmmmm yeah -> umm yeah\n",
    "    \n",
    "    # 불용어 제거 (Text)\n",
    "    if remove_stopwords:\n",
    "        tokens = ' '.join(word for word in sentence.split() if not word in stopwords.words('english') if len(word) > 1)\n",
    "    # 불용어 미제거 (Summary)\n",
    "    else:\n",
    "        tokens = ' '.join(word for word in sentence.split() if len(word) > 1)\n",
    "    return tokens"
   ]
  },
  {
   "cell_type": "code",
   "execution_count": 9,
   "id": "perceived-discharge",
   "metadata": {},
   "outputs": [],
   "source": [
    "# num_cores 만큼 쪼개진 데이터를 전처리하여 반환합니다\n",
    "def appendTexts(sentences, remove_stopwords=True):\n",
    "    texts = []\n",
    "    for s in tqdm(sentences):\n",
    "        texts += preprocess_sentence(s, remove_stopwords),\n",
    "    return texts\n",
    "\n",
    "def preprocess_data(data, remove_stopwords=True):\n",
    "    start_time = time.time()\n",
    "    num_cores = mp.cpu_count()  # 컴퓨터의 코어 수를 구합니다\n",
    "\n",
    "    text_data_split = np.array_split(data, num_cores)  # 코어 수만큼 데이터를 배분하여 병렬적으로 처리할 수 있게 합니다\n",
    "    pool = Pool(num_cores)\n",
    "\n",
    "    processed_data = np.concatenate(pool.map(partial(appendTexts, remove_stopwords=remove_stopwords), text_data_split))  # 각자 작업한 데이터를 하나로 합쳐줍니다\n",
    "    pool.close()\n",
    "    pool.join()\n",
    "    print(time.time() - start_time, \" seconds\")\n",
    "    return processed_data"
   ]
  },
  {
   "cell_type": "code",
   "execution_count": 10,
   "id": "convinced-isolation",
   "metadata": {},
   "outputs": [
    {
     "name": "stderr",
     "output_type": "stream",
     "text": [
      "100%|██████████| 24595/24595 [07:28<00:00, 54.83it/s]\n",
      "100%|██████████| 24594/24594 [07:28<00:00, 54.83it/s]\n",
      "100%|██████████| 24595/24595 [07:29<00:00, 54.69it/s] \n",
      "100%|██████████| 24595/24595 [07:30<00:00, 54.58it/s] \n"
     ]
    },
    {
     "name": "stdout",
     "output_type": "stream",
     "text": [
      "451.3416886329651  seconds\n"
     ]
    },
    {
     "name": "stderr",
     "output_type": "stream",
     "text": [
      " 98%|█████████▊| 24211/24594 [00:13<00:00, 1879.08it/s]\n",
      "100%|██████████| 24594/24594 [00:13<00:00, 1792.28it/s]\n",
      "100%|██████████| 24595/24595 [00:13<00:00, 1778.06it/s]\n",
      "100%|██████████| 24595/24595 [00:13<00:00, 1773.33it/s]\n"
     ]
    },
    {
     "name": "stdout",
     "output_type": "stream",
     "text": [
      "14.340054750442505  seconds\n"
     ]
    }
   ],
   "source": [
    "clean_text = preprocess_data(data['text'])  # 클라우드 기준으로 3~4분 정도 소요 됩니다\n",
    "clean_summary = preprocess_data(data['headlines'], remove_stopwords=False) # 클라우드 기준 1분정도 소요됩니다."
   ]
  },
  {
   "cell_type": "code",
   "execution_count": 11,
   "id": "southwest-afghanistan",
   "metadata": {},
   "outputs": [
    {
     "data": {
      "text/plain": [
       "headlines    0\n",
       "text         0\n",
       "dtype: int64"
      ]
     },
     "execution_count": 11,
     "metadata": {},
     "output_type": "execute_result"
    }
   ],
   "source": [
    "data['text'] = clean_text\n",
    "data['headlines'] = clean_summary\n",
    "\n",
    "# 빈 값을 Null 값으로 변환\n",
    "data.replace('', np.nan, inplace=True)\n",
    "\n",
    "data.isnull().sum()"
   ]
  },
  {
   "cell_type": "markdown",
   "id": "quarterly-alexander",
   "metadata": {},
   "source": [
    "#### 이상치 제거"
   ]
  },
  {
   "cell_type": "code",
   "execution_count": 12,
   "id": "personalized-perry",
   "metadata": {
    "scrolled": false
   },
   "outputs": [
    {
     "name": "stdout",
     "output_type": "stream",
     "text": [
      "텍스트의 최소 길이 : 1\n",
      "텍스트의 최대 길이 : 60\n",
      "텍스트의 평균 길이 : 35.0996452494943\n",
      "요약의 최소 길이 : 1\n",
      "요약의 최대 길이 : 16\n",
      "요약의 평균 길이 : 9.299606623364742\n"
     ]
    },
    {
     "data": {
      "image/png": "[encoded data removed]",
      "text/plain": [
       "<Figure size 432x288 with 2 Axes>"
      ]
     },
     "metadata": {
      "needs_background": "light"
     },
     "output_type": "display_data"
    },
    {
     "data": {
      "image/png": "[encoded data removed]",
      "text/plain": [
       "<Figure size 432x288 with 1 Axes>"
      ]
     },
     "metadata": {
      "needs_background": "light"
     },
     "output_type": "display_data"
    },
    {
     "data": {
      "image/png": "[encoded data removed]",
      "text/plain": [
       "<Figure size 432x288 with 1 Axes>"
      ]
     },
     "metadata": {
      "needs_background": "light"
     },
     "output_type": "display_data"
    }
   ],
   "source": [
    "# 길이 분포 출력\n",
    "import matplotlib.pyplot as plt\n",
    "\n",
    "text_len = [len(s.split()) for s in data['text']]\n",
    "summary_len = [len(s.split()) for s in data['headlines']]\n",
    "\n",
    "print('텍스트의 최소 길이 : {}'.format(np.min(text_len)))\n",
    "print('텍스트의 최대 길이 : {}'.format(np.max(text_len)))\n",
    "print('텍스트의 평균 길이 : {}'.format(np.mean(text_len)))\n",
    "print('요약의 최소 길이 : {}'.format(np.min(summary_len)))\n",
    "print('요약의 최대 길이 : {}'.format(np.max(summary_len)))\n",
    "print('요약의 평균 길이 : {}'.format(np.mean(summary_len)))\n",
    "\n",
    "plt.subplot(1,2,1)\n",
    "plt.boxplot(summary_len)\n",
    "plt.title('Headlines')\n",
    "plt.subplot(1,2,2)\n",
    "plt.boxplot(text_len)\n",
    "plt.title('Text')\n",
    "plt.tight_layout()\n",
    "plt.show()\n",
    "\n",
    "plt.title('Headlines')\n",
    "plt.hist(summary_len, bins = 40)\n",
    "plt.xlabel('length of samples')\n",
    "plt.ylabel('number of samples')\n",
    "plt.show()\n",
    "\n",
    "plt.title('Text')\n",
    "plt.hist(text_len, bins = 40)\n",
    "plt.xlabel('length of samples')\n",
    "plt.ylabel('number of samples')\n",
    "plt.show()"
   ]
  },
  {
   "cell_type": "markdown",
   "id": "informative-spain",
   "metadata": {},
   "source": [
    "기사 원문의 단어 갯수와 headlines의 단어 갯수를 박스플랏으로 시각화한 결과 이상점으로 판단되는 원이 발생한다는 것을 알게 되었습니다.  \n",
    "이러한 이상점을 제거하기 위해서 IQR을 기준으로 이상치 데이터들은 제거해주도록 하겠습니다."
   ]
  },
  {
   "cell_type": "code",
   "execution_count": 13,
   "id": "coupled-agreement",
   "metadata": {},
   "outputs": [],
   "source": [
    "data[\"headlines_len\"] = data[\"headlines\"].apply(lambda x : len(x.split()))\n",
    "data[\"text_len\"] = data[\"text\"].apply(lambda x : len(x.split()))"
   ]
  },
  {
   "cell_type": "code",
   "execution_count": 14,
   "id": "plastic-verification",
   "metadata": {},
   "outputs": [],
   "source": [
    "cols = [\"headlines_len\", \"text_len\"]\n",
    "def remove_outlier(data, columns):\n",
    "    describe = data[columns].describe()\n",
    "\n",
    "    for col in columns:\n",
    "        IQR = describe[col][\"75%\"] - describe[col][\"25%\"]\n",
    "        lower_limit = int(describe[col][\"25%\"] - (1.5 * IQR))\n",
    "        upper_limit = int(describe[col][\"75%\"] + (1.5 * IQR))\n",
    "        data = data.loc[(data[col] >= lower_limit) & (data[col] <= upper_limit)]\n",
    "    return data.reset_index(drop=True)\n",
    "\n",
    "data = remove_outlier(data, cols)"
   ]
  },
  {
   "cell_type": "code",
   "execution_count": 15,
   "id": "champion-opinion",
   "metadata": {},
   "outputs": [
    {
     "name": "stdout",
     "output_type": "stream",
     "text": [
      "텍스트의 최소 길이 : 25\n",
      "텍스트의 최대 길이 : 45\n",
      "텍스트의 평균 길이 : 35.09149570329704\n",
      "요약의 최소 길이 : 5\n",
      "요약의 최대 길이 : 13\n",
      "요약의 평균 길이 : 9.290516526174551\n"
     ]
    },
    {
     "data": {
      "image/png": "[encoded data removed]",
      "text/plain": [
       "<Figure size 432x288 with 2 Axes>"
      ]
     },
     "metadata": {
      "needs_background": "light"
     },
     "output_type": "display_data"
    },
    {
     "data": {
      "image/png": "[encoded data removed]",
      "text/plain": [
       "<Figure size 432x288 with 1 Axes>"
      ]
     },
     "metadata": {
      "needs_background": "light"
     },
     "output_type": "display_data"
    },
    {
     "data": {
      "image/png": "[encoded data removed]",
      "text/plain": [
       "<Figure size 432x288 with 1 Axes>"
      ]
     },
     "metadata": {
      "needs_background": "light"
     },
     "output_type": "display_data"
    }
   ],
   "source": [
    "text_len = [len(s.split()) for s in data['text']]\n",
    "summary_len = [len(s.split()) for s in data['headlines']]\n",
    "\n",
    "print('텍스트의 최소 길이 : {}'.format(np.min(text_len)))\n",
    "print('텍스트의 최대 길이 : {}'.format(np.max(text_len)))\n",
    "print('텍스트의 평균 길이 : {}'.format(np.mean(text_len)))\n",
    "print('요약의 최소 길이 : {}'.format(np.min(summary_len)))\n",
    "print('요약의 최대 길이 : {}'.format(np.max(summary_len)))\n",
    "print('요약의 평균 길이 : {}'.format(np.mean(summary_len)))\n",
    "\n",
    "plt.subplot(1,2,1)\n",
    "plt.boxplot(summary_len)\n",
    "plt.title('Summary')\n",
    "plt.subplot(1,2,2)\n",
    "plt.boxplot(text_len)\n",
    "plt.title('Text')\n",
    "plt.tight_layout()\n",
    "plt.show()\n",
    "\n",
    "plt.title('Summary')\n",
    "plt.hist(summary_len, bins = 40)\n",
    "plt.xlabel('length of samples')\n",
    "plt.ylabel('number of samples')\n",
    "plt.show()\n",
    "\n",
    "plt.title('Text')\n",
    "plt.hist(text_len, bins = 40)\n",
    "plt.xlabel('length of samples')\n",
    "plt.ylabel('number of samples')\n",
    "plt.show()"
   ]
  },
  {
   "cell_type": "markdown",
   "id": "pleased-lawyer",
   "metadata": {},
   "source": [
    "제거한 결과 이상점들이 크게 줄었고, 기사원문의 단어 갯수가 이상적인 정규분포를 그리게 되었습니다."
   ]
  },
  {
   "cell_type": "markdown",
   "id": "moved-continuity",
   "metadata": {},
   "source": [
    "#### seq2seq모델에 맞는 입력 데이터로 변환"
   ]
  },
  {
   "cell_type": "code",
   "execution_count": 16,
   "id": "worst-memorabilia",
   "metadata": {},
   "outputs": [
    {
     "data": {
      "text/html": [
       "<div>\n",
       "<style scoped>\n",
       "    .dataframe tbody tr th:only-of-type {\n",
       "        vertical-align: middle;\n",
       "    }\n",
       "\n",
       "    .dataframe tbody tr th {\n",
       "        vertical-align: top;\n",
       "    }\n",
       "\n",
       "    .dataframe thead th {\n",
       "        text-align: right;\n",
       "    }\n",
       "</style>\n",
       "<table border=\"1\" class=\"dataframe\">\n",
       "  <thead>\n",
       "    <tr style=\"text-align: right;\">\n",
       "      <th></th>\n",
       "      <th>headlines</th>\n",
       "      <th>text</th>\n",
       "      <th>headlines_len</th>\n",
       "      <th>text_len</th>\n",
       "      <th>decoder_input</th>\n",
       "      <th>decoder_target</th>\n",
       "    </tr>\n",
       "  </thead>\n",
       "  <tbody>\n",
       "    <tr>\n",
       "      <th>0</th>\n",
       "      <td>upgrad learner switches to career in ml al wit...</td>\n",
       "      <td>saurav kant alumnus upgrad iiit pg program mac...</td>\n",
       "      <td>11</td>\n",
       "      <td>39</td>\n",
       "      <td>&lt;sos&gt; upgrad learner switches to career in ml ...</td>\n",
       "      <td>upgrad learner switches to career in ml al wit...</td>\n",
       "    </tr>\n",
       "    <tr>\n",
       "      <th>1</th>\n",
       "      <td>delhi techie wins free food from swiggy for on...</td>\n",
       "      <td>kunal shah credit card bill payment platform c...</td>\n",
       "      <td>12</td>\n",
       "      <td>45</td>\n",
       "      <td>&lt;sos&gt; delhi techie wins free food from swiggy ...</td>\n",
       "      <td>delhi techie wins free food from swiggy for on...</td>\n",
       "    </tr>\n",
       "    <tr>\n",
       "      <th>2</th>\n",
       "      <td>new zealand end rohit sharma led india match w...</td>\n",
       "      <td>new zealand defeated india wickets fourth odi ...</td>\n",
       "      <td>10</td>\n",
       "      <td>38</td>\n",
       "      <td>&lt;sos&gt; new zealand end rohit sharma led india m...</td>\n",
       "      <td>new zealand end rohit sharma led india match w...</td>\n",
       "    </tr>\n",
       "    <tr>\n",
       "      <th>3</th>\n",
       "      <td>aegon life iterm insurance plan helps customer...</td>\n",
       "      <td>aegon life iterm insurance plan customers enjo...</td>\n",
       "      <td>9</td>\n",
       "      <td>34</td>\n",
       "      <td>&lt;sos&gt; aegon life iterm insurance plan helps cu...</td>\n",
       "      <td>aegon life iterm insurance plan helps customer...</td>\n",
       "    </tr>\n",
       "    <tr>\n",
       "      <th>4</th>\n",
       "      <td>have known hirani for yrs what if metoo claims...</td>\n",
       "      <td>speaking sexual harassment allegations rajkuma...</td>\n",
       "      <td>13</td>\n",
       "      <td>33</td>\n",
       "      <td>&lt;sos&gt; have known hirani for yrs what if metoo ...</td>\n",
       "      <td>have known hirani for yrs what if metoo claims...</td>\n",
       "    </tr>\n",
       "  </tbody>\n",
       "</table>\n",
       "</div>"
      ],
      "text/plain": [
       "                                           headlines  \\\n",
       "0  upgrad learner switches to career in ml al wit...   \n",
       "1  delhi techie wins free food from swiggy for on...   \n",
       "2  new zealand end rohit sharma led india match w...   \n",
       "3  aegon life iterm insurance plan helps customer...   \n",
       "4  have known hirani for yrs what if metoo claims...   \n",
       "\n",
       "                                                text  headlines_len  text_len  \\\n",
       "0  saurav kant alumnus upgrad iiit pg program mac...             11        39   \n",
       "1  kunal shah credit card bill payment platform c...             12        45   \n",
       "2  new zealand defeated india wickets fourth odi ...             10        38   \n",
       "3  aegon life iterm insurance plan customers enjo...              9        34   \n",
       "4  speaking sexual harassment allegations rajkuma...             13        33   \n",
       "\n",
       "                                       decoder_input  \\\n",
       "0  <sos> upgrad learner switches to career in ml ...   \n",
       "1  <sos> delhi techie wins free food from swiggy ...   \n",
       "2  <sos> new zealand end rohit sharma led india m...   \n",
       "3  <sos> aegon life iterm insurance plan helps cu...   \n",
       "4  <sos> have known hirani for yrs what if metoo ...   \n",
       "\n",
       "                                      decoder_target  \n",
       "0  upgrad learner switches to career in ml al wit...  \n",
       "1  delhi techie wins free food from swiggy for on...  \n",
       "2  new zealand end rohit sharma led india match w...  \n",
       "3  aegon life iterm insurance plan helps customer...  \n",
       "4  have known hirani for yrs what if metoo claims...  "
      ]
     },
     "execution_count": 16,
     "metadata": {},
     "output_type": "execute_result"
    }
   ],
   "source": [
    "# 요약 데이터에는 시작 토큰과 종료 토큰을 추가한다.\n",
    "data['decoder_input'] = data['headlines'].apply(lambda x : '<sos> '+ x)\n",
    "data['decoder_target'] = data['headlines'].apply(lambda x : x + ' <eos>')\n",
    "data.head()"
   ]
  },
  {
   "cell_type": "code",
   "execution_count": 17,
   "id": "presidential-stuff",
   "metadata": {},
   "outputs": [],
   "source": [
    "encoder_input = np.array(data['text']) # 인코더의 입력\n",
    "decoder_input = np.array(data['decoder_input']) # 디코더의 입력\n",
    "decoder_target = np.array(data['decoder_target']) # 디코더의 레이블"
   ]
  },
  {
   "cell_type": "markdown",
   "id": "perceived-bouquet",
   "metadata": {},
   "source": [
    "현재 사용할 모델은 seq2seq모델이기 떄문에 문장의 시작부분을 알리는 sos토큰이 있는 decoder_input과 문장의 끝부분을 알리는 eos토큰이 있는 decoder_target을 만들어 주도록 하겠습니다."
   ]
  },
  {
   "cell_type": "markdown",
   "id": "magnetic-singles",
   "metadata": {},
   "source": [
    "#### 데이터 벡터화"
   ]
  },
  {
   "cell_type": "code",
   "execution_count": 18,
   "id": "opening-growing",
   "metadata": {},
   "outputs": [
    {
     "name": "stderr",
     "output_type": "stream",
     "text": [
      "100%|██████████| 97633/97633 [00:03<00:00, 30923.94it/s]\n"
     ]
    }
   ],
   "source": [
    "encoder_token_data = encoder_input\n",
    "encoder_word_num = defaultdict()\n",
    "\n",
    "for encoder_token_one in tqdm(encoder_token_data):\n",
    "    for encoder_word in encoder_token_one.split():\n",
    "        if encoder_word in encoder_word_num:\n",
    "            encoder_word_num[encoder_word] += encoder_token_one.count(encoder_word)\n",
    "        else:\n",
    "            encoder_word_num[encoder_word] = encoder_token_one.count(encoder_word)\n",
    "\n",
    "encoder_word_num = sorted(dict(encoder_word_num).items(), key = lambda x: x[1], reverse = True)\n",
    "encoder_words = [i for i, j in encoder_word_num]\n",
    "\n",
    "encoder_word_index = dict()\n",
    "encoder_index_word = dict()\n",
    "\n",
    "encoder_word_index[\"<pad>\"] = 0\n",
    "encoder_word_index[\"<unk>\"] = 1\n",
    "encoder_word_index[\"<sos>\"] = 2\n",
    "encoder_word_index[\"<eos>\"] = 3\n",
    "\n",
    "\n",
    "encoder_index_word[0] = \"<pad>\"\n",
    "encoder_index_word[1] = \"<unk>\"\n",
    "encoder_index_word[2] = \"<sos>\"\n",
    "encoder_index_word[3] = \"<eos>\"\n",
    "\n",
    "\n",
    "for ind, word in enumerate(encoder_words):\n",
    "    encoder_word_index[word] = ind + 4\n",
    "    encoder_index_word[ind + 4] = word"
   ]
  },
  {
   "cell_type": "code",
   "execution_count": 83,
   "id": "widespread-breakfast",
   "metadata": {},
   "outputs": [
    {
     "name": "stderr",
     "output_type": "stream",
     "text": [
      "100%|██████████| 97633/97633 [00:01<00:00, 59449.97it/s]\n"
     ]
    },
    {
     "name": "stdout",
     "output_type": "stream",
     "text": [
      "{'인코더 문장 길이 : 45'}\n",
      "단어의 개수 : 75958\n"
     ]
    },
    {
     "data": {
      "text/plain": [
       "array([[27735,  5505,  8478, ...,     0,     0,     0],\n",
       "       [ 4253,   188,  1254, ..., 21894, 11971,  2357],\n",
       "       [   33,   727,   894, ...,     0,     0,     0],\n",
       "       ...,\n",
       "       [   89,    42,    33, ...,     0,     0,     0],\n",
       "       [   33,   718,    54, ...,     0,     0,     0],\n",
       "       [32505,  6289,   946, ...,     0,     0,     0]], dtype=int32)"
      ]
     },
     "execution_count": 83,
     "metadata": {},
     "output_type": "execute_result"
    }
   ],
   "source": [
    "def encoder_text_sequence(token_data, maxlen, num_word, word_index):\n",
    "    # 텍스트 데이터를 시퀀스 데이터로 변환\n",
    "    encode_data = []\n",
    "    dictionary = dict(list(word_index.items())[:num_word])\n",
    "    for data in tqdm(token_data):\n",
    "        tmp = []\n",
    "        for word in data.split():\n",
    "            if word in dictionary:\n",
    "                tmp += [word_index[word]]\n",
    "            else:\n",
    "                tmp += [word_index[\"<unk>\"]]\n",
    "        encode_data += [tmp]\n",
    "    # 시퀀스 데이터 일정한 길이로 패딩\n",
    "    padded_data = pad_sequences(encode_data, value = word_index[\"<pad>\"], padding = \"post\", maxlen = maxlen)\n",
    "    return padded_data\n",
    "\n",
    "encoder_maxlen = max(map(lambda x: len(x.split()), encoder_token_data))\n",
    "encoder_vocab_size = len(encoder_word_index)\n",
    "encoder_padded = encoder_text_sequence(encoder_token_data, encoder_maxlen, encoder_vocab_size, encoder_word_index)\n",
    "print({f\"인코더 문장 길이 : {encoder_padded.shape[1]}\"})\n",
    "print(f\"단어의 개수 : {np.max(encoder_padded)}\")\n",
    "encoder_padded"
   ]
  },
  {
   "cell_type": "markdown",
   "id": "clean-bulgarian",
   "metadata": {},
   "source": [
    "encoder로 들어가는 기사원문을 벡터화시켜주었습니다."
   ]
  },
  {
   "cell_type": "code",
   "execution_count": 40,
   "id": "egyptian-deadline",
   "metadata": {},
   "outputs": [
    {
     "name": "stderr",
     "output_type": "stream",
     "text": [
      "100%|██████████| 97633/97633 [00:00<00:00, 135159.37it/s]\n"
     ]
    }
   ],
   "source": [
    "decoder_input = np.array(data['decoder_input']) # 디코더의 입력\n",
    "decoder_target = np.array(data['decoder_target']) # 디코더의 레이블\n",
    "\n",
    "\n",
    "decoder_token_data = decoder_input\n",
    "decoder_word_num = defaultdict()\n",
    "\n",
    "for decoder_token_one in tqdm(decoder_token_data):\n",
    "    for decoder_word in decoder_token_one.split():\n",
    "        if decoder_word in decoder_word_num:\n",
    "            decoder_word_num[decoder_word] += decoder_token_one.count(decoder_word)\n",
    "        else:\n",
    "            decoder_word_num[decoder_word] = decoder_token_one.count(decoder_word)\n",
    "\n",
    "decoder_word_num = sorted(dict(decoder_word_num).items(), key = lambda x: x[1], reverse = True)\n",
    "decoder_words = [i for i, j in decoder_word_num]\n",
    "\n",
    "decoder_word_index = dict()\n",
    "decoder_index_word = dict()\n",
    "\n",
    "decoder_word_index[\"<pad>\"] = 0\n",
    "decoder_word_index[\"<unk>\"] = 1\n",
    "decoder_word_index[\"<eos>\"] = 2\n",
    "\n",
    "decoder_index_word[0] = \"<pad>\"\n",
    "decoder_index_word[1] = \"<unk>\"\n",
    "decoder_index_word[2] = \"<eos>\"\n",
    "\n",
    "for ind, word in enumerate(decoder_words):\n",
    "    decoder_word_index[word] = ind + 3\n",
    "    decoder_index_word[ind + 3] = word"
   ]
  },
  {
   "cell_type": "code",
   "execution_count": 41,
   "id": "intended-confidence",
   "metadata": {},
   "outputs": [
    {
     "name": "stderr",
     "output_type": "stream",
     "text": [
      "100%|██████████| 97633/97633 [00:00<00:00, 155547.16it/s]\n",
      "  0%|          | 0/97633 [00:00<?, ?it/s]"
     ]
    },
    {
     "name": "stdout",
     "output_type": "stream",
     "text": [
      "{'디코더 인풋 문장 길이 : 14'}\n",
      "단어의 개수 : 32430\n",
      "[[    3  5809  9914 ...  1103     0     0]\n",
      " [    3    29  3778 ...     6 11638     0]\n",
      " [    3    41  1276 ...     0     0     0]\n",
      " ...\n",
      " [    3    18 10426 ...     0     0     0]\n",
      " [    3  7893  8797 ...    41    80     0]\n",
      " [    3 21208 11397 ...     0     0     0]]\n"
     ]
    },
    {
     "name": "stderr",
     "output_type": "stream",
     "text": [
      "100%|██████████| 97633/97633 [00:00<00:00, 148531.27it/s]\n"
     ]
    },
    {
     "name": "stdout",
     "output_type": "stream",
     "text": [
      "{'디코더 아웃풋 문장 길이 : 14'}\n",
      "단어의 개수 : 32430\n",
      "[[ 5809  9914  9915 ...     2     0     0]\n",
      " [   29  3778   166 ... 11638     2     0]\n",
      " [   41  1276   346 ...     0     0     0]\n",
      " ...\n",
      " [   18 10426    63 ...     0     0     0]\n",
      " [ 7893  8797  3658 ...    80     2     0]\n",
      " [21208 11397  1871 ...     0     0     0]]\n"
     ]
    }
   ],
   "source": [
    "def decoder_text_sequence(token_data, maxlen, num_word, word_index):\n",
    "    # 텍스트 데이터를 시퀀스 데이터로 변환\n",
    "    encode_data = []\n",
    "    dictionary = dict(list(word_index.items())[:num_word])\n",
    "    for data in tqdm(token_data):\n",
    "        tmp = []\n",
    "        for word in data.split():\n",
    "            if word in dictionary:\n",
    "                tmp += [word_index[word]]\n",
    "            else:\n",
    "                tmp += [word_index[\"<unk>\"]]\n",
    "        encode_data += [tmp]\n",
    "    # 시퀀스 데이터 일정한 길이로 패딩\n",
    "    padded_data = pad_sequences(encode_data, value = word_index[\"<pad>\"], padding = \"post\", maxlen = maxlen)\n",
    "    return padded_data\n",
    "\n",
    "decoder_vocab_size = len(decoder_word_index)\n",
    "\n",
    "decoder_maxlen = max(map(lambda x: len(x.split()), decoder_token_data))\n",
    "decoder_padded_input = np.array(decoder_text_sequence(decoder_input, decoder_maxlen, decoder_vocab_size, decoder_word_index))\n",
    "print({f\"디코더 인풋 문장 길이 : {decoder_padded_input.shape[1]}\"})\n",
    "print(f\"단어의 개수 : {np.max(decoder_padded_input)}\")\n",
    "print(decoder_padded_input)\n",
    "\n",
    "decoder_padded_target = np.array(decoder_text_sequence(decoder_target, decoder_maxlen, decoder_vocab_size, decoder_word_index))\n",
    "print({f\"디코더 아웃풋 문장 길이 : {decoder_padded_target.shape[1]}\"})\n",
    "print(f\"단어의 개수 : {np.max(decoder_padded_target)}\")\n",
    "print(decoder_padded_target)"
   ]
  },
  {
   "cell_type": "markdown",
   "id": "serious-allowance",
   "metadata": {},
   "source": [
    "요약문에서 파생된 sos토큰이 있는 decoder_input과 eos토큰이 있는 decoder_target을 벡터화시켜주었습니다."
   ]
  },
  {
   "cell_type": "markdown",
   "id": "running-blame",
   "metadata": {},
   "source": [
    "#### 데이터 순서 섞기 및 훈련, 테스트 데이터 분리"
   ]
  },
  {
   "cell_type": "code",
   "execution_count": 42,
   "id": "worthy-youth",
   "metadata": {},
   "outputs": [
    {
     "name": "stdout",
     "output_type": "stream",
     "text": [
      "[ 5743 30094 34396 ... 16557  1244 86909]\n"
     ]
    }
   ],
   "source": [
    "indices = np.arange(encoder_padded.shape[0])\n",
    "np.random.seed(2022)\n",
    "np.random.shuffle(indices)\n",
    "print(indices)"
   ]
  },
  {
   "cell_type": "code",
   "execution_count": 43,
   "id": "cultural-collector",
   "metadata": {},
   "outputs": [],
   "source": [
    "encoder_input = encoder_padded[indices]\n",
    "decoder_input = decoder_padded_input[indices]\n",
    "decoder_target = decoder_padded_target[indices]"
   ]
  },
  {
   "cell_type": "code",
   "execution_count": 44,
   "id": "needed-intro",
   "metadata": {},
   "outputs": [
    {
     "name": "stdout",
     "output_type": "stream",
     "text": [
      "테스트 데이터의 수 : 19526\n"
     ]
    }
   ],
   "source": [
    "n_of_val = int(len(encoder_input)*0.2)\n",
    "print('테스트 데이터의 수 :', n_of_val)"
   ]
  },
  {
   "cell_type": "code",
   "execution_count": 45,
   "id": "bright-mistress",
   "metadata": {
    "scrolled": true
   },
   "outputs": [
    {
     "name": "stdout",
     "output_type": "stream",
     "text": [
      "훈련 데이터의 개수 : 78107\n",
      "훈련 레이블의 개수 : 78107\n",
      "테스트 데이터의 개수 : 19526\n",
      "테스트 레이블의 개수 : 19526\n"
     ]
    }
   ],
   "source": [
    "encoder_input_train = encoder_input[:-n_of_val]\n",
    "decoder_input_train = decoder_input[:-n_of_val]\n",
    "decoder_target_train = decoder_target[:-n_of_val]\n",
    "\n",
    "encoder_input_test = encoder_input[-n_of_val:]\n",
    "decoder_input_test = decoder_input[-n_of_val:]\n",
    "decoder_target_test = decoder_target[-n_of_val:]\n",
    "\n",
    "print('훈련 데이터의 개수 :', len(encoder_input_train))\n",
    "print('훈련 레이블의 개수 :', len(decoder_input_train))\n",
    "print('테스트 데이터의 개수 :', len(encoder_input_test))\n",
    "print('테스트 레이블의 개수 :', len(decoder_input_test))"
   ]
  },
  {
   "cell_type": "markdown",
   "id": "japanese-transaction",
   "metadata": {},
   "source": [
    "## 4. 뉴스 요약 모델 구축"
   ]
  },
  {
   "cell_type": "code",
   "execution_count": 114,
   "id": "median-angel",
   "metadata": {},
   "outputs": [
    {
     "data": {
      "text/plain": [
       "(75959, 300)"
      ]
     },
     "execution_count": 114,
     "metadata": {},
     "output_type": "execute_result"
    }
   ],
   "source": [
    "hidden_size = 256\n",
    "word_vector_dim = 300  # 사전학습된 임베딩 차원이 300이므로 고정\n",
    "dropout_rate = 0.5\n",
    "\n",
    "encoder_embedding_matrix = np.random.rand(encoder_vocab_size, word_vector_dim)\n",
    "\n",
    "\n",
    "# embedding_matrix에 Word2Vec 워드 벡터를 단어 하나씩마다 차례차례 카피한다.\n",
    "for i in range(4, encoder_vocab_size):\n",
    "    if encoder_index_word[i] in word2vec:\n",
    "        encoder_embedding_matrix[i] = word2vec[encoder_index_word[i]]\n",
    "encoder_embedding_matrix.shape"
   ]
  },
  {
   "cell_type": "code",
   "execution_count": 115,
   "id": "hawaiian-scroll",
   "metadata": {},
   "outputs": [
    {
     "data": {
      "text/plain": [
       "(32431, 300)"
      ]
     },
     "execution_count": 115,
     "metadata": {},
     "output_type": "execute_result"
    }
   ],
   "source": [
    "decoder_embedding_matrix = np.random.rand(decoder_vocab_size, word_vector_dim)\n",
    "\n",
    "\n",
    "# embedding_matrix에 Word2Vec 워드 벡터를 단어 하나씩마다 차례차례 카피한다.\n",
    "for i in range(4, decoder_vocab_size):\n",
    "    if decoder_index_word[i] in word2vec:\n",
    "        decoder_embedding_matrix[i] = word2vec[decoder_index_word[i]]\n",
    "decoder_embedding_matrix.shape"
   ]
  },
  {
   "cell_type": "code",
   "execution_count": 116,
   "id": "exciting-pharmacy",
   "metadata": {},
   "outputs": [],
   "source": [
    "# 인코더\n",
    "encoder_inputs = Input(shape=(encoder_maxlen,))\n",
    "\n",
    "# 인코더의 임베딩 층\n",
    "enc_emb = Embedding(encoder_vocab_size, \n",
    "                    word_vector_dim,\n",
    "                    embeddings_initializer = Constant(encoder_embedding_matrix),\n",
    "                    trainable = True\n",
    "                   )(encoder_inputs)\n",
    "\n",
    "# 인코더의 LSTM 1\n",
    "encoder_lstm1 = LSTM(hidden_size, return_sequences=True, return_state=True ,dropout = dropout_rate)\n",
    "encoder_output1, state_h1, state_c1 = encoder_lstm1(enc_emb)\n",
    "\n",
    "# 인코더의 LSTM 2\n",
    "encoder_lstm2 = LSTM(hidden_size, return_sequences=True, return_state=True, dropout=dropout_rate)\n",
    "encoder_output2, state_h2, state_c2 = encoder_lstm2(encoder_output1)\n",
    "\n",
    "# 인코더의 LSTM 3\n",
    "encoder_lstm3 = LSTM(hidden_size, return_state=True, return_sequences=True, dropout=dropout_rate)\n",
    "encoder_outputs, state_h, state_c= encoder_lstm3(encoder_output2)"
   ]
  },
  {
   "cell_type": "code",
   "execution_count": 117,
   "id": "regular-citizen",
   "metadata": {},
   "outputs": [],
   "source": [
    "# 디코더 설계\n",
    "decoder_inputs = Input(shape=(None,))\n",
    "\n",
    "# 디코더의 임베딩 층\n",
    "dec_emb_layer = Embedding(decoder_vocab_size, \n",
    "                          word_vector_dim,\n",
    "                          embeddings_initializer=Constant(decoder_embedding_matrix),\n",
    "                          trainable = True\n",
    "                         )\n",
    "dec_emb = dec_emb_layer(decoder_inputs)\n",
    "\n",
    "# 디코더의 LSTM\n",
    "decoder_lstm = LSTM(hidden_size, return_sequences=True, return_state=True, dropout = dropout_rate)\n",
    "decoder_outputs, _, _ = decoder_lstm(dec_emb, initial_state=[state_h, state_c])"
   ]
  },
  {
   "cell_type": "code",
   "execution_count": 118,
   "id": "rising-prague",
   "metadata": {},
   "outputs": [
    {
     "name": "stdout",
     "output_type": "stream",
     "text": [
      "Model: \"model_6\"\n",
      "__________________________________________________________________________________________________\n",
      "Layer (type)                    Output Shape         Param #     Connected to                     \n",
      "==================================================================================================\n",
      "input_8 (InputLayer)            [(None, 45)]         0                                            \n",
      "__________________________________________________________________________________________________\n",
      "embedding_4 (Embedding)         (None, 45, 300)      22787700    input_8[0][0]                    \n",
      "__________________________________________________________________________________________________\n",
      "lstm_8 (LSTM)                   [(None, 45, 256), (N 570368      embedding_4[0][0]                \n",
      "__________________________________________________________________________________________________\n",
      "input_9 (InputLayer)            [(None, None)]       0                                            \n",
      "__________________________________________________________________________________________________\n",
      "lstm_9 (LSTM)                   [(None, 45, 256), (N 525312      lstm_8[0][0]                     \n",
      "__________________________________________________________________________________________________\n",
      "embedding_5 (Embedding)         (None, None, 300)    9729300     input_9[0][0]                    \n",
      "__________________________________________________________________________________________________\n",
      "lstm_10 (LSTM)                  [(None, 45, 256), (N 525312      lstm_9[0][0]                     \n",
      "__________________________________________________________________________________________________\n",
      "lstm_11 (LSTM)                  [(None, None, 256),  570368      embedding_5[0][0]                \n",
      "                                                                 lstm_10[0][1]                    \n",
      "                                                                 lstm_10[0][2]                    \n",
      "__________________________________________________________________________________________________\n",
      "dense_4 (Dense)                 (None, None, 32431)  8334767     lstm_11[0][0]                    \n",
      "==================================================================================================\n",
      "Total params: 43,043,127\n",
      "Trainable params: 43,043,127\n",
      "Non-trainable params: 0\n",
      "__________________________________________________________________________________________________\n"
     ]
    }
   ],
   "source": [
    "# 디코더의 출력층\n",
    "decoder_softmax_layer = Dense(decoder_vocab_size, activation='softmax')\n",
    "decoder_softmax_outputs = decoder_softmax_layer(decoder_outputs) \n",
    "\n",
    "# 모델 정의\n",
    "model = Model([encoder_inputs, decoder_inputs], decoder_softmax_outputs)\n",
    "model.summary()"
   ]
  },
  {
   "cell_type": "code",
   "execution_count": 119,
   "id": "twelve-progress",
   "metadata": {},
   "outputs": [],
   "source": [
    "urllib.request.urlretrieve(\"https://raw.githubusercontent.com/thushv89/attention_keras/master/src/layers/attention.py\", filename=\"attention.py\")\n",
    "from attention import AttentionLayer"
   ]
  },
  {
   "cell_type": "code",
   "execution_count": 120,
   "id": "boxed-button",
   "metadata": {},
   "outputs": [
    {
     "name": "stdout",
     "output_type": "stream",
     "text": [
      "Model: \"model_7\"\n",
      "__________________________________________________________________________________________________\n",
      "Layer (type)                    Output Shape         Param #     Connected to                     \n",
      "==================================================================================================\n",
      "input_8 (InputLayer)            [(None, 45)]         0                                            \n",
      "__________________________________________________________________________________________________\n",
      "embedding_4 (Embedding)         (None, 45, 300)      22787700    input_8[0][0]                    \n",
      "__________________________________________________________________________________________________\n",
      "lstm_8 (LSTM)                   [(None, 45, 256), (N 570368      embedding_4[0][0]                \n",
      "__________________________________________________________________________________________________\n",
      "input_9 (InputLayer)            [(None, None)]       0                                            \n",
      "__________________________________________________________________________________________________\n",
      "lstm_9 (LSTM)                   [(None, 45, 256), (N 525312      lstm_8[0][0]                     \n",
      "__________________________________________________________________________________________________\n",
      "embedding_5 (Embedding)         (None, None, 300)    9729300     input_9[0][0]                    \n",
      "__________________________________________________________________________________________________\n",
      "lstm_10 (LSTM)                  [(None, 45, 256), (N 525312      lstm_9[0][0]                     \n",
      "__________________________________________________________________________________________________\n",
      "lstm_11 (LSTM)                  [(None, None, 256),  570368      embedding_5[0][0]                \n",
      "                                                                 lstm_10[0][1]                    \n",
      "                                                                 lstm_10[0][2]                    \n",
      "__________________________________________________________________________________________________\n",
      "attention_layer (AttentionLayer ((None, None, 256),  131328      lstm_10[0][0]                    \n",
      "                                                                 lstm_11[0][0]                    \n",
      "__________________________________________________________________________________________________\n",
      "concat_layer (Concatenate)      (None, None, 512)    0           lstm_11[0][0]                    \n",
      "                                                                 attention_layer[0][0]            \n",
      "__________________________________________________________________________________________________\n",
      "dense_5 (Dense)                 (None, None, 32431)  16637103    concat_layer[0][0]               \n",
      "==================================================================================================\n",
      "Total params: 51,476,791\n",
      "Trainable params: 51,476,791\n",
      "Non-trainable params: 0\n",
      "__________________________________________________________________________________________________\n"
     ]
    }
   ],
   "source": [
    "# 어텐션 층(어텐션 함수)\n",
    "attn_layer = AttentionLayer(name='attention_layer')\n",
    "# 인코더와 디코더의 모든 time step의 hidden state를 어텐션 층에 전달하고 결과를 리턴\n",
    "attn_out, attn_states = attn_layer([encoder_outputs, decoder_outputs])\n",
    "\n",
    "# 어텐션의 결과와 디코더의 hidden state들을 연결\n",
    "decoder_concat_input = Concatenate(axis=-1, name='concat_layer')([decoder_outputs, attn_out])\n",
    "\n",
    "# 디코더의 출력층\n",
    "decoder_softmax_layer = Dense(decoder_vocab_size, activation='softmax')\n",
    "decoder_softmax_outputs = decoder_softmax_layer(decoder_concat_input)\n",
    "\n",
    "# 모델 정의\n",
    "model = Model([encoder_inputs, decoder_inputs], decoder_softmax_outputs)\n",
    "model.summary()"
   ]
  },
  {
   "cell_type": "code",
   "execution_count": 121,
   "id": "smaller-notebook",
   "metadata": {},
   "outputs": [
    {
     "name": "stdout",
     "output_type": "stream",
     "text": [
      "Epoch 1/50\n",
      "306/306 [==============================] - 220s 693ms/step - loss: 6.0976 - val_loss: 4.9306\n",
      "Epoch 2/50\n",
      "306/306 [==============================] - 210s 688ms/step - loss: 4.7238 - val_loss: 4.3784\n",
      "Epoch 3/50\n",
      "306/306 [==============================] - 210s 685ms/step - loss: 4.1716 - val_loss: 4.0875\n",
      "Epoch 4/50\n",
      "306/306 [==============================] - 210s 688ms/step - loss: 3.7916 - val_loss: 3.8917\n",
      "Epoch 5/50\n",
      "306/306 [==============================] - 211s 688ms/step - loss: 3.4872 - val_loss: 3.7629\n",
      "Epoch 6/50\n",
      "306/306 [==============================] - 211s 688ms/step - loss: 3.2302 - val_loss: 3.6787\n",
      "Epoch 7/50\n",
      "306/306 [==============================] - 210s 687ms/step - loss: 3.0231 - val_loss: 3.6179\n",
      "Epoch 8/50\n",
      "306/306 [==============================] - 211s 690ms/step - loss: 2.8402 - val_loss: 3.5789\n",
      "Epoch 9/50\n",
      "306/306 [==============================] - 210s 687ms/step - loss: 2.6832 - val_loss: 3.5534\n",
      "Epoch 10/50\n",
      "306/306 [==============================] - 211s 689ms/step - loss: 2.5516 - val_loss: 3.5379\n",
      "Epoch 11/50\n",
      "306/306 [==============================] - 210s 687ms/step - loss: 2.4312 - val_loss: 3.5367\n",
      "Epoch 12/50\n",
      "306/306 [==============================] - 210s 687ms/step - loss: 2.3300 - val_loss: 3.5283\n",
      "Epoch 13/50\n",
      "306/306 [==============================] - 210s 688ms/step - loss: 2.2363 - val_loss: 3.5367\n",
      "Epoch 14/50\n",
      "306/306 [==============================] - 211s 688ms/step - loss: 2.1522 - val_loss: 3.5370\n",
      "Epoch 00014: early stopping\n"
     ]
    }
   ],
   "source": [
    "model.compile(optimizer='adam', loss='sparse_categorical_crossentropy')\n",
    "es = EarlyStopping(monitor='val_loss', patience=2, verbose=1)\n",
    "history = model.fit(x=[encoder_input_train, decoder_input_train], y=decoder_target_train, \\\n",
    "          validation_data=([encoder_input_test, decoder_input_test], decoder_target_test), \\\n",
    "          batch_size=256, callbacks=[es], epochs=50)"
   ]
  },
  {
   "cell_type": "code",
   "execution_count": 122,
   "id": "north-membrane",
   "metadata": {},
   "outputs": [
    {
     "data": {
      "image/png": "[encoded data removed]",
      "text/plain": [
       "<Figure size 432x288 with 1 Axes>"
      ]
     },
     "metadata": {
      "needs_background": "light"
     },
     "output_type": "display_data"
    }
   ],
   "source": [
    "plt.plot(history.history['loss'], label='train')\n",
    "plt.plot(history.history['val_loss'], label='test')\n",
    "plt.legend()\n",
    "plt.show()"
   ]
  },
  {
   "cell_type": "code",
   "execution_count": 123,
   "id": "polyphonic-ordering",
   "metadata": {},
   "outputs": [],
   "source": [
    "# 인코더 설계\n",
    "encoder_model = Model(inputs=encoder_inputs, outputs=[encoder_outputs, state_h, state_c])\n",
    "\n",
    "# 이전 시점의 상태들을 저장하는 텐서\n",
    "decoder_state_input_h = Input(shape=(hidden_size,))\n",
    "decoder_state_input_c = Input(shape=(hidden_size,))\n",
    "\n",
    "dec_emb2 = dec_emb_layer(decoder_inputs)\n",
    "\n",
    "# 문장의 다음 단어를 예측하기 위해서 초기 상태(initial_state)를 이전 시점의 상태로 사용. 이는 뒤의 함수 decode_sequence()에 구현\n",
    "# 훈련 과정에서와 달리 LSTM의 리턴하는 은닉 상태와 셀 상태인 state_h와 state_c를 버리지 않음.\n",
    "decoder_outputs2, state_h2, state_c2 = decoder_lstm(dec_emb2, initial_state=[decoder_state_input_h, decoder_state_input_c])"
   ]
  },
  {
   "cell_type": "code",
   "execution_count": 124,
   "id": "thermal-angle",
   "metadata": {},
   "outputs": [],
   "source": [
    "# 어텐션 함수\n",
    "decoder_hidden_state_input = Input(shape=(encoder_maxlen, hidden_size))\n",
    "attn_out_inf, attn_states_inf = attn_layer([decoder_hidden_state_input, decoder_outputs2])\n",
    "decoder_inf_concat = Concatenate(axis=-1, name='concat')([decoder_outputs2, attn_out_inf])\n",
    "\n",
    "# 디코더의 출력층\n",
    "decoder_outputs2 = decoder_softmax_layer(decoder_inf_concat) \n",
    "\n",
    "# 최종 디코더 모델\n",
    "decoder_model = Model(\n",
    "    [decoder_inputs] + [decoder_hidden_state_input,decoder_state_input_h, decoder_state_input_c],\n",
    "    [decoder_outputs2] + [state_h2, state_c2])"
   ]
  },
  {
   "cell_type": "code",
   "execution_count": 125,
   "id": "exposed-cement",
   "metadata": {},
   "outputs": [],
   "source": [
    "def decode_sequence(input_seq):\n",
    "    # 입력으로부터 인코더의 상태를 얻음\n",
    "    e_out, e_h, e_c = encoder_model.predict(input_seq)\n",
    "\n",
    "     # <SOS>에 해당하는 토큰 생성\n",
    "    target_seq = np.zeros((1,1))\n",
    "    target_seq[0, 0] = encoder_word_index['<sos>']\n",
    "\n",
    "    stop_condition = False\n",
    "    decoded_sentence = ''\n",
    "    while not stop_condition: # stop_condition이 True가 될 때까지 루프 반복\n",
    "\n",
    "        output_tokens, h, c = decoder_model.predict([target_seq] + [e_out, e_h, e_c])\n",
    "        sampled_token_index = np.argmax(output_tokens[0, -1, :])\n",
    "        sampled_token = decoder_index_word[sampled_token_index]\n",
    "\n",
    "        if (sampled_token != '<eos>'):\n",
    "            decoded_sentence += ' '+sampled_token\n",
    "\n",
    "        #  <eos>에 도달하거나 최대 길이를 넘으면 중단.\n",
    "        if (sampled_token == '<eos>'  or len(decoded_sentence.split()) >= (decoder_maxlen-1)):\n",
    "            stop_condition = True\n",
    "\n",
    "        # 길이가 1인 타겟 시퀀스를 업데이트\n",
    "        target_seq = np.zeros((1,1))\n",
    "        target_seq[0, 0] = sampled_token_index\n",
    "\n",
    "        # 상태를 업데이트 합니다.\n",
    "        # e_out은 그대로여도 h,c가 바뀜에 따라서 결과가 달라짐\n",
    "        e_h, e_c = h, c\n",
    "\n",
    "    return decoded_sentence"
   ]
  },
  {
   "cell_type": "markdown",
   "id": "dominant-speaker",
   "metadata": {},
   "source": [
    "## 5. 모델 평가"
   ]
  },
  {
   "cell_type": "code",
   "execution_count": 126,
   "id": "military-maintenance",
   "metadata": {},
   "outputs": [],
   "source": [
    "# 원문의 정수 시퀀스를 텍스트 시퀀스로 변환\n",
    "def seq2text(input_seq):\n",
    "    temp=''\n",
    "    for i in input_seq:\n",
    "        if (i!=0):\n",
    "            temp = temp + encoder_index_word[i]+' '\n",
    "    return temp\n",
    "\n",
    "# 요약문의 정수 시퀀스를 텍스트 시퀀스로 변환\n",
    "def seq2summary(input_seq):\n",
    "    temp=''\n",
    "    for i in input_seq:\n",
    "        if ((i!=0 and i!= decoder_word_index['<sos>']) and i!= decoder_word_index['<eos>']):\n",
    "            temp = temp + decoder_index_word[i] + ' '\n",
    "    return temp"
   ]
  },
  {
   "cell_type": "code",
   "execution_count": 127,
   "id": "ranging-input",
   "metadata": {},
   "outputs": [
    {
     "name": "stdout",
     "output_type": "stream",
     "text": [
      "원문 : hungary based researchers studying newly discovered solar system trappist observed several energetic flares star would make system less suitable hosting life seven earth like planets orbit host star much closer earth orbits sun unrealistically strong magnetic fields would needed shield atmosphere flares researchers said \n",
      "실제 요약 : new found solar system may be uninhabitable due to flaring \n",
      "예측 요약 :  astronomers find new universe of universe excitonium\n",
      "\n",
      "\n",
      "원문 : busby babes name given manchester united footballers part club youth team early english first division matt busby management average age championship winning team eight players died munich air crash february \n",
      "실제 요약 : why were man utd players killed in crash called busby babes \n",
      "예측 요약 :  man utd player to win football club for football club\n",
      "\n",
      "\n",
      "원문 : cancer patient pakistan urged external affairs minister sushma swaraj help visit india medical treatment woman claims paid advance treatment reportedly visa application rejected indian embassy islamabad sought swaraj help series posts twitter \n",
      "실제 요약 : pak cancer patient seeks swaraj help for medical visa \n",
      "예측 요약 :  swaraj assures medical treatment to patient who saved her\n",
      "\n",
      "\n",
      "원문 : delhi forensic science laboratory forming district level crime scene management teams quick retrieval forensic evidence proper collection preservation new teams include photographer person collect dna physical evidence currently one team able cover important cases officials said \n",
      "실제 요약 : delhi to get mobile teams to gather forensic evidence \n",
      "예측 요약 :  delhi police to use blue whale challenge to prevent accidents\n",
      "\n",
      "\n",
      "원문 : amid infighting cbi top officials cbi officers rank inspector incharge director attend three day workshop sri sri ravi shankar art living saturday onwards purpose workshop improve positivity enhance synergy generate healthy atmosphere agency cbi said statement \n",
      "실제 요약 : cbi officers to attend art of living workshop on positivity \n",
      "예측 요약 :  ias officers to visit india in dusu report\n",
      "\n",
      "\n"
     ]
    }
   ],
   "source": [
    "for i in range(0, 5):\n",
    "    print(\"원문 :\", seq2text(encoder_input_test[i]))\n",
    "    print(\"실제 요약 :\", seq2summary(decoder_input_test[i]))\n",
    "    print(\"예측 요약 :\", decode_sequence(encoder_input_test[i].reshape(1, encoder_maxlen)))\n",
    "    print(\"\\n\")"
   ]
  },
  {
   "cell_type": "markdown",
   "id": "educational-reader",
   "metadata": {},
   "source": [
    "## 6. 추출적 요약과 비교해보기"
   ]
  },
  {
   "cell_type": "code",
   "execution_count": 128,
   "id": "ignored-vietnamese",
   "metadata": {
    "scrolled": true
   },
   "outputs": [
    {
     "name": "stderr",
     "output_type": "stream",
     "text": [
      "100%|██████████| 1/1 [00:00<00:00, 4500.33it/s]\n"
     ]
    },
    {
     "name": "stdout",
     "output_type": "stream",
     "text": [
      "원문 : The continued digitization of most every sector of society and industry means that an ever-growing volume of data will continue to be generated. The ability to gain insights from these vast datasets is one key to addressing an enormous array of issues — from identifying and treating diseases more effectively, to fighting cyber criminals, to helping organizations operate more effectively to boost the bottom line.\n",
      "\n",
      "\n",
      "추출적 요약 : The continued digitization of most every sector of society and industry means that an ever-growing volume of data will continue to be generated.\n",
      "\n",
      "\n",
      "추상적 요약 : digital sector firms may be among global number study\n"
     ]
    }
   ],
   "source": [
    "from summa.summarizer import summarize\n",
    "text =\"The continued digitization of most every sector of society and industry means that an ever-growing volume of data will continue to be generated. The ability to gain insights from these vast datasets is one key to addressing an enormous array of issues — from identifying and treating diseases more effectively, to fighting cyber criminals, to helping organizations operate more effectively to boost the bottom line.\"\n",
    "\n",
    "tmp = \"<sos> \" + preprocess_sentence(text)\n",
    "tmp = encoder_text_sequence([tmp], encoder_maxlen, encoder_vocab_size, encoder_word_index)\n",
    "tmp = decode_sequence(tmp.reshape(1, encoder_maxlen))\n",
    "print(f\"원문 : {text}\")\n",
    "print(\"\\n\")\n",
    "print(f\"추출적 요약 : {summarize(text, words = 15)}\")\n",
    "print(\"\\n\")\n",
    "print(f\"추상적 요약 : {tmp.strip()}\")"
   ]
  },
  {
   "cell_type": "markdown",
   "id": "electoral-marine",
   "metadata": {},
   "source": [
    "## 7. 회고"
   ]
  },
  {
   "cell_type": "markdown",
   "id": "competitive-swiss",
   "metadata": {},
   "source": [
    "- 처음에는 pre padding이 좋다고 생각하여 pre를 적용해보았지만 계속 <pad> 토큰만 반환하여 post padding 적용하여 학습이 진행되도록 만들었습니다.\n",
    "    \n",
    "- vocab_size를 8,000개나 10,000개 정도는 제대로 학습이 이루어지지 않았지만 모든 단어를 사용한다고 지정하자 그럴듯한 문장이 나오게 되었습니다.\n",
    "- 기사원문의 중심단어들이 추상적 요약안에 포함되는 경우가 상당 수 보이지만 세부적인 내용의 요약을 한다고 보기는 어려운 수준입니다. \n",
    "- 이유는 모르겠지만 추상적 요약을 지원하는 summarize 함수가 전체의 단어 비율 0.5 이하이면 빈 리스트를 출력하고 단어갯수 15개 미만일때도 빈리스트를 반환합니다.\n",
    "- seq2seq모델의 입력 데이터의 구조가 궁금하였는데 해당 EX node를 통하여 체험할 수 있었고, 좀 더 말이되고 원문의 내용을 잘 함축할 수 있는 모델을 만들어보고 싶어졌습니다."
   ]
  }
 ],
 "metadata": {
  "kernelspec": {
   "display_name": "Python 3",
   "language": "python",
   "name": "python3"
  },
  "language_info": {
   "codemirror_mode": {
    "name": "ipython",
    "version": 3
   },
   "file_extension": ".py",
   "mimetype": "text/x-python",
   "name": "python",
   "nbconvert_exporter": "python",
   "pygments_lexer": "ipython3",
   "version": "3.7.9"
  }
 },
 "nbformat": 4,
 "nbformat_minor": 5
}
