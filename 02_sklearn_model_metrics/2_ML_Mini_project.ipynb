{
 "cells": [
  {
   "cell_type": "markdown",
   "metadata": {},
   "source": [
    "## 1. 필요한 패키지들 불러오기"
   ]
  },
  {
   "cell_type": "code",
   "execution_count": 1,
   "metadata": {
    "id": "G6YWAdk85bID"
   },
   "outputs": [],
   "source": [
    "from sklearn.datasets import load_digits, load_wine, load_breast_cancer\n",
    "import numpy as np\n",
    "import pandas as pd\n",
    "import matplotlib.pyplot as plt\n",
    "from sklearn.model_selection import train_test_split, GridSearchCV\n",
    "from sklearn.preprocessing import StandardScaler, MinMaxScaler\n",
    "from sklearn.pipeline import Pipeline\n",
    "\n",
    "from sklearn.tree import DecisionTreeClassifier\n",
    "from sklearn.linear_model import LogisticRegression, SGDClassifier\n",
    "from sklearn.ensemble import GradientBoostingClassifier, RandomForestClassifier\n",
    "from sklearn.svm import SVC\n",
    "from sklearn.neighbors import KNeighborsClassifier\n",
    "from sklearn.naive_bayes import MultinomialNB"
   ]
  },
  {
   "cell_type": "markdown",
   "metadata": {
    "id": "f3kN7gXWUM6t"
   },
   "source": [
    "# Digit dataset"
   ]
  },
  {
   "cell_type": "markdown",
   "metadata": {},
   "source": [
    "## 2. 데이터 준비"
   ]
  },
  {
   "cell_type": "code",
   "execution_count": 2,
   "metadata": {},
   "outputs": [],
   "source": [
    "digits = load_digits()"
   ]
  },
  {
   "cell_type": "markdown",
   "metadata": {},
   "source": [
    "## 3. 데이터 이해하기"
   ]
  },
  {
   "cell_type": "code",
   "execution_count": 3,
   "metadata": {},
   "outputs": [
    {
     "name": "stdout",
     "output_type": "stream",
     "text": [
      "종속변수 카테고리 종류 : [0 1 2 3 4 5 6 7 8 9]\n",
      "독립변수 : ['pixel_0_0', 'pixel_0_1', 'pixel_0_2', 'pixel_0_3', 'pixel_0_4', 'pixel_0_5', 'pixel_0_6', 'pixel_0_7', 'pixel_1_0', 'pixel_1_1', 'pixel_1_2', 'pixel_1_3', 'pixel_1_4', 'pixel_1_5', 'pixel_1_6', 'pixel_1_7', 'pixel_2_0', 'pixel_2_1', 'pixel_2_2', 'pixel_2_3', 'pixel_2_4', 'pixel_2_5', 'pixel_2_6', 'pixel_2_7', 'pixel_3_0', 'pixel_3_1', 'pixel_3_2', 'pixel_3_3', 'pixel_3_4', 'pixel_3_5', 'pixel_3_6', 'pixel_3_7', 'pixel_4_0', 'pixel_4_1', 'pixel_4_2', 'pixel_4_3', 'pixel_4_4', 'pixel_4_5', 'pixel_4_6', 'pixel_4_7', 'pixel_5_0', 'pixel_5_1', 'pixel_5_2', 'pixel_5_3', 'pixel_5_4', 'pixel_5_5', 'pixel_5_6', 'pixel_5_7', 'pixel_6_0', 'pixel_6_1', 'pixel_6_2', 'pixel_6_3', 'pixel_6_4', 'pixel_6_5', 'pixel_6_6', 'pixel_6_7', 'pixel_7_0', 'pixel_7_1', 'pixel_7_2', 'pixel_7_3', 'pixel_7_4', 'pixel_7_5', 'pixel_7_6', 'pixel_7_7']\n",
      "\n",
      "\n",
      ".. _digits_dataset:\n",
      "\n",
      "Optical recognition of handwritten digits dataset\n",
      "--------------------------------------------------\n",
      "\n",
      "**Data Set Characteristics:**\n",
      "\n",
      "    :Number of Instances: 5620\n",
      "    :Number of Attributes: 64\n",
      "    :Attribute Information: 8x8 image of integer pixels in the range 0..16.\n",
      "    :Missing Attribute Values: None\n",
      "    :Creator: E. Alpaydin (alpaydin '@' boun.edu.tr)\n",
      "    :Date: July; 1998\n",
      "\n",
      "This is a copy of the test set of the UCI ML hand-written digits datasets\n",
      "https://archive.ics.uci.edu/ml/datasets/Optical+Recognition+of+Handwritten+Digits\n",
      "\n",
      "The data set contains images of hand-written digits: 10 classes where\n",
      "each class refers to a digit.\n",
      "\n",
      "Preprocessing programs made available by NIST were used to extract\n",
      "normalized bitmaps of handwritten digits from a preprinted form. From a\n",
      "total of 43 people, 30 contributed to the training set and different 13\n",
      "to the test set. 32x32 bitmaps are divided into nonoverlapping blocks of\n",
      "4x4 and the number of on pixels are counted in each block. This generates\n",
      "an input matrix of 8x8 where each element is an integer in the range\n",
      "0..16. This reduces dimensionality and gives invariance to small\n",
      "distortions.\n",
      "\n",
      "For info on NIST preprocessing routines, see M. D. Garris, J. L. Blue, G.\n",
      "T. Candela, D. L. Dimmick, J. Geist, P. J. Grother, S. A. Janet, and C.\n",
      "L. Wilson, NIST Form-Based Handprint Recognition System, NISTIR 5469,\n",
      "1994.\n",
      "\n",
      ".. topic:: References\n",
      "\n",
      "  - C. Kaynak (1995) Methods of Combining Multiple Classifiers and Their\n",
      "    Applications to Handwritten Digit Recognition, MSc Thesis, Institute of\n",
      "    Graduate Studies in Science and Engineering, Bogazici University.\n",
      "  - E. Alpaydin, C. Kaynak (1998) Cascading Classifiers, Kybernetika.\n",
      "  - Ken Tang and Ponnuthurai N. Suganthan and Xi Yao and A. Kai Qin.\n",
      "    Linear dimensionalityreduction using relevance weighted LDA. School of\n",
      "    Electrical and Electronic Engineering Nanyang Technological University.\n",
      "    2005.\n",
      "  - Claudio Gentile. A New Approximate Maximal Margin Classification\n",
      "    Algorithm. NIPS. 2000.\n"
     ]
    }
   ],
   "source": [
    "target_names = digits[\"target_names\"]\n",
    "feature_names = digits[\"feature_names\"]\n",
    "desc = digits[\"DESCR\"]\n",
    "\n",
    "print(f\"종속변수 카테고리 종류 : {target_names}\")\n",
    "print(f\"독립변수 : {feature_names}\")\n",
    "print(\"\\n\")\n",
    "print(desc)"
   ]
  },
  {
   "cell_type": "code",
   "execution_count": 4,
   "metadata": {},
   "outputs": [],
   "source": [
    "x_digits, y_digits = load_digits(return_X_y=True)"
   ]
  },
  {
   "cell_type": "markdown",
   "metadata": {},
   "source": [
    "유명한 손글씨 이미지 데이터셋의 카테고리 종류와 카테고리별 데이터의 개수를 막대그래프로 표현하겠습니다."
   ]
  },
  {
   "cell_type": "code",
   "execution_count": 5,
   "metadata": {
    "colab": {
     "base_uri": "https://localhost:8080/",
     "height": 295
    },
    "id": "h4X15BiJ6hOj",
    "outputId": "84e1ed73-c57d-4666-cbc6-d2a38b3fbf1f"
   },
   "outputs": [
    {
     "data": {
      "image/png": "[encoded data removed]",
      "text/plain": [
       "<Figure size 432x288 with 1 Axes>"
      ]
     },
     "metadata": {
      "needs_background": "light"
     },
     "output_type": "display_data"
    }
   ],
   "source": [
    "digit_class, digit_counts = np.unique(y_digits, return_counts=True)\n",
    "plt.bar(digit_class, digit_counts)\n",
    "plt.xticks(digit_class)\n",
    "plt.title(\"Number of Class in digit dataset\")\n",
    "plt.ylim(150, 200)\n",
    "plt.ylabel(\"Counts\")\n",
    "plt.xlabel(\"Class\")\n",
    "plt.show()"
   ]
  },
  {
   "cell_type": "markdown",
   "metadata": {},
   "source": [
    "시각화를 한 결과 전체적으로 고루 분포하다는 것을 알 수가 있었고, 카테고리 8의 데이터 개수가 가장 적었으며 카테고리 3의 데이터 개수가 가장 많다는 것을 알 수 있었습니다."
   ]
  },
  {
   "cell_type": "code",
   "execution_count": 6,
   "metadata": {
    "colab": {
     "base_uri": "https://localhost:8080/"
    },
    "id": "pKRAQXCv9Cuc",
    "outputId": "1465cfcb-4ef1-4d60-f1d4-04905ca755d8"
   },
   "outputs": [
    {
     "name": "stdout",
     "output_type": "stream",
     "text": [
      "데이터 개수 : 1797\n",
      "칼럼 개수 : 64\n"
     ]
    }
   ],
   "source": [
    "print(f\"데이터 개수 : {x_digits.shape[0]}\\n칼럼 개수 : {x_digits.shape[1]}\")"
   ]
  },
  {
   "cell_type": "markdown",
   "metadata": {},
   "source": [
    "칼럼 개수가 64개라는 의미는 해당 데이터셋은 8 x 8 크기의 이미지 데이터라는 뜻으로 일부 데이터를 시각화하여 해당 이미지 데이터는 어떻게 생겼는지 확인하겠습니다."
   ]
  },
  {
   "cell_type": "code",
   "execution_count": 7,
   "metadata": {
    "colab": {
     "base_uri": "https://localhost:8080/",
     "height": 281
    },
    "id": "o_BTOWrA9C2u",
    "outputId": "bc1cdb23-3690-44ef-f8d0-83043a2aae47"
   },
   "outputs": [
    {
     "data": {
      "image/png": "[encoded data removed]",
      "text/plain": [
       "<Figure size 432x288 with 1 Axes>"
      ]
     },
     "metadata": {
      "needs_background": "light"
     },
     "output_type": "display_data"
    }
   ],
   "source": [
    "plt.imshow(x_digits[0].reshape(8,8))\n",
    "plt.title(y_digits[0])\n",
    "plt.show()"
   ]
  },
  {
   "cell_type": "markdown",
   "metadata": {},
   "source": [
    "## 4. train, test 데이터 분리"
   ]
  },
  {
   "cell_type": "markdown",
   "metadata": {},
   "source": [
    "전체 데이터셋을 모델의 학습에 활용될 훈련 데이터셋과 학습이 완료된 데이터를 테스트하는 목적의 테스트 데이터셋을 8:2의 비율로 나누겠습니다."
   ]
  },
  {
   "cell_type": "code",
   "execution_count": 8,
   "metadata": {
    "id": "o5pLtqG49DCC"
   },
   "outputs": [],
   "source": [
    "x_train_dg, x_test_dg, y_train_dg, y_test_dg = train_test_split(x_digits, \n",
    "                                                                y_digits,\n",
    "                                                                test_size = 0.2,\n",
    "                                                                random_state = 1)"
   ]
  },
  {
   "cell_type": "markdown",
   "metadata": {},
   "source": [
    "전체 데이터셋을 훈련 데이터셋과 테스트 데이터셋으로 나눈 결과 훈련 데이터셋의 개수는 1437개이고, 테스트 데이터셋의 개수는 360개가 나왔습니다."
   ]
  },
  {
   "cell_type": "code",
   "execution_count": 9,
   "metadata": {},
   "outputs": [
    {
     "name": "stdout",
     "output_type": "stream",
     "text": [
      "훈련 데이터 개수 : 1437\n",
      "테스트 데이터 개수 : 360\n"
     ]
    }
   ],
   "source": [
    "print(f\"훈련 데이터 개수 : {x_train_dg.shape[0]}\\n테스트 데이터 개수 : {x_test_dg.shape[0]}\")"
   ]
  },
  {
   "cell_type": "markdown",
   "metadata": {},
   "source": [
    "## 5. 다양한 모델로 학습시켜보기"
   ]
  },
  {
   "cell_type": "markdown",
   "metadata": {},
   "source": [
    "훈련 데이터셋의 전처리부터 모델 적합까지의 과정을 담은 파이프라인을 설계하겠습니다.  \n",
    "1. 전처리 과정에서는 Min-Max-Scaling을 적용하여 전체 값들의 범위를 0에서 1사이의 값으로 스케일링을 하겠습니다.\n",
    "2. 스케일링이 완료된 데이터는 GridSearchCV 에 담겨져 있는 모델의 입력값으로 들어갑니다.\n",
    "3. 사용된 모델은 다음과 같습니다.\n",
    "    - LogisticRegression()\n",
    "    - RandomForest()\n",
    "    - GradientBoosting()\n",
    "    - DecisionTreeClassifier()\n",
    "    - SGDClassifier()\n",
    "    - SVC()\n",
    "    - KNN()\n",
    "    - MultinomialNB()\n",
    "4. 각 모델마다 3-fold 교차 검증을 적용하며 **종속변수의 각 범주별 데이터 개수가 170개 이상으로 비등하기에** 모델의 성능 척도는 **accuracy**로 선택합니다\n",
    "5. 각 모델과 파라미터에서 가장 좋은 성능을 가진 모델과 파라미터를 반환합니다."
   ]
  },
  {
   "cell_type": "code",
   "execution_count": 11,
   "metadata": {
    "colab": {
     "base_uri": "https://localhost:8080/"
    },
    "id": "AO8N86Ni9DGU",
    "outputId": "5e57ded5-2778-46fb-e7b9-4ce48e353fa2"
   },
   "outputs": [
    {
     "name": "stdout",
     "output_type": "stream",
     "text": [
      "Fitting 3 folds for each of 11 candidates, totalling 33 fits\n"
     ]
    },
    {
     "name": "stderr",
     "output_type": "stream",
     "text": [
      "[Parallel(n_jobs=4)]: Using backend LokyBackend with 4 concurrent workers.\n",
      "[Parallel(n_jobs=4)]: Done  24 tasks      | elapsed:   19.6s\n",
      "[Parallel(n_jobs=4)]: Done  33 out of  33 | elapsed:   29.4s finished\n"
     ]
    },
    {
     "data": {
      "text/plain": [
       "GridSearchCV(cv=3,\n",
       "             estimator=Pipeline(steps=[('transformer', MinMaxScaler()),\n",
       "                                       ('model', 'passthrough')]),\n",
       "             n_jobs=4,\n",
       "             param_grid=[{'model': (LogisticRegression(),),\n",
       "                          'model__max_iter': (300, 400)},\n",
       "                         {'model': (RandomForestClassifier(),),\n",
       "                          'model__n_estimators': (150, 200)},\n",
       "                         {'model': (GradientBoostingClassifier(),),\n",
       "                          'model__n_estimators': (150, 200)},\n",
       "                         {'model': (DecisionTreeClassifier(),)},\n",
       "                         {'model': (SGDClassifier(),)}, {'model': (SVC(),)},\n",
       "                         {'model': (KNeighborsClassifier(),)},\n",
       "                         {'model': (MultinomialNB(),)}],\n",
       "             scoring='accuracy', verbose=3)"
      ]
     },
     "execution_count": 11,
     "metadata": {},
     "output_type": "execute_result"
    }
   ],
   "source": [
    "pipeline = Pipeline([\n",
    "    ('transformer', MinMaxScaler()),\n",
    "    ('model', 'passthrough')\n",
    "])\n",
    "params = [\n",
    "    {'model': (LogisticRegression(),),\n",
    "     'model__max_iter' : (300, 400)},\n",
    "    \n",
    "    {'model':(RandomForestClassifier(),),\n",
    "     'model__n_estimators' : (150, 200)},\n",
    "    \n",
    "    {'model':(GradientBoostingClassifier(),),\n",
    "     'model__n_estimators' : (150, 200)},\n",
    "    \n",
    "    {'model':(DecisionTreeClassifier(),)},\n",
    "    \n",
    "    {'model':(SGDClassifier(),)},\n",
    "    \n",
    "    {'model':(SVC(),)},\n",
    "    \n",
    "    {'model':(KNeighborsClassifier(),)},\n",
    "    \n",
    "    {'model':(MultinomialNB(),)}\n",
    "]\n",
    "digit_model = GridSearchCV(pipeline, params, scoring='accuracy', \n",
    "                           verbose = 3,\n",
    "                           cv = 3,\n",
    "                           n_jobs = 4\n",
    "                          )\n",
    "digit_model.fit(x_train_dg, y_train_dg)"
   ]
  },
  {
   "cell_type": "markdown",
   "metadata": {},
   "source": [
    "GridSearchCV 의 3 - fold 검증 결과들을 정리해서 보여줍니다."
   ]
  },
  {
   "cell_type": "code",
   "execution_count": 12,
   "metadata": {},
   "outputs": [
    {
     "data": {
      "text/plain": [
       "{'mean_fit_time': array([4.33990399e-01, 4.42355394e-01, 8.89164607e-01, 1.17854532e+00,\n",
       "        1.45416350e+01, 1.39667765e+01, 2.63940493e-02, 7.15131760e-02,\n",
       "        1.03337685e-01, 1.62775517e-02, 3.26188405e-03]),\n",
       " 'std_fit_time': array([1.85192237e-02, 3.25471702e-02, 2.71265077e-02, 1.52036593e-02,\n",
       "        2.62421855e-01, 2.88452593e+00, 1.15176340e-02, 1.43171349e-02,\n",
       "        3.24637571e-03, 9.46254630e-03, 1.79136233e-04]),\n",
       " 'mean_score_time': array([0.00113169, 0.00114735, 0.05263813, 0.07895096, 0.04014389,\n",
       "        0.02092385, 0.00121204, 0.00125035, 0.05584669, 0.14759191,\n",
       "        0.00104793]),\n",
       " 'std_score_time': array([5.10257846e-05, 6.75950193e-05, 7.55007107e-03, 1.29950271e-02,\n",
       "        1.19321536e-02, 1.15082025e-04, 1.30715775e-04, 3.19672601e-05,\n",
       "        1.03307880e-02, 9.16680811e-03, 8.93238175e-05]),\n",
       " 'param_model': masked_array(data=[LogisticRegression(), LogisticRegression(),\n",
       "                    RandomForestClassifier(), RandomForestClassifier(),\n",
       "                    GradientBoostingClassifier(),\n",
       "                    GradientBoostingClassifier(), DecisionTreeClassifier(),\n",
       "                    SGDClassifier(), SVC(), KNeighborsClassifier(),\n",
       "                    MultinomialNB()],\n",
       "              mask=[False, False, False, False, False, False, False, False,\n",
       "                    False, False, False],\n",
       "        fill_value='?',\n",
       "             dtype=object),\n",
       " 'param_model__max_iter': masked_array(data=[300, 400, --, --, --, --, --, --, --, --, --],\n",
       "              mask=[False, False,  True,  True,  True,  True,  True,  True,\n",
       "                     True,  True,  True],\n",
       "        fill_value='?',\n",
       "             dtype=object),\n",
       " 'param_model__n_estimators': masked_array(data=[--, --, 150, 200, 150, 200, --, --, --, --, --],\n",
       "              mask=[ True,  True, False, False, False, False,  True,  True,\n",
       "                     True,  True,  True],\n",
       "        fill_value='?',\n",
       "             dtype=object),\n",
       " 'params': [{'model': LogisticRegression(), 'model__max_iter': 300},\n",
       "  {'model': LogisticRegression(), 'model__max_iter': 400},\n",
       "  {'model': RandomForestClassifier(), 'model__n_estimators': 150},\n",
       "  {'model': RandomForestClassifier(), 'model__n_estimators': 200},\n",
       "  {'model': GradientBoostingClassifier(), 'model__n_estimators': 150},\n",
       "  {'model': GradientBoostingClassifier(), 'model__n_estimators': 200},\n",
       "  {'model': DecisionTreeClassifier()},\n",
       "  {'model': SGDClassifier()},\n",
       "  {'model': SVC()},\n",
       "  {'model': KNeighborsClassifier()},\n",
       "  {'model': MultinomialNB()}],\n",
       " 'split0_test_score': array([0.94780793, 0.94780793, 0.96242171, 0.96242171, 0.94572025,\n",
       "        0.94989562, 0.81002088, 0.93528184, 0.98121086, 0.97077244,\n",
       "        0.88100209]),\n",
       " 'split1_test_score': array([0.96659708, 0.96659708, 0.97494781, 0.97494781, 0.96659708,\n",
       "        0.96868476, 0.82672234, 0.95615866, 0.9874739 , 0.97494781,\n",
       "        0.9039666 ]),\n",
       " 'split2_test_score': array([0.95615866, 0.95615866, 0.96659708, 0.96450939, 0.94154489,\n",
       "        0.94572025, 0.81002088, 0.9394572 , 0.98121086, 0.97494781,\n",
       "        0.89770355]),\n",
       " 'mean_test_score': array([0.95685456, 0.95685456, 0.96798887, 0.96729297, 0.9512874 ,\n",
       "        0.95476688, 0.81558803, 0.94363257, 0.98329854, 0.97355602,\n",
       "        0.89422408]),\n",
       " 'std_test_score': array([0.0076864 , 0.0076864 , 0.0052076 , 0.00547948, 0.01095895,\n",
       "        0.00998796, 0.00787314, 0.00901982, 0.00295243, 0.00196829,\n",
       "        0.00969268]),\n",
       " 'rank_test_score': array([ 5,  5,  3,  4,  8,  7, 11,  9,  1,  2, 10], dtype=int32)}"
      ]
     },
     "execution_count": 12,
     "metadata": {},
     "output_type": "execute_result"
    }
   ],
   "source": [
    "digit_model.cv_results_"
   ]
  },
  {
   "cell_type": "markdown",
   "metadata": {},
   "source": [
    "최적의 파라미터를 가진 모델은 SVC()로 나왔습니다."
   ]
  },
  {
   "cell_type": "code",
   "execution_count": 13,
   "metadata": {},
   "outputs": [
    {
     "data": {
      "text/plain": [
       "{'model': SVC()}"
      ]
     },
     "execution_count": 13,
     "metadata": {},
     "output_type": "execute_result"
    }
   ],
   "source": [
    "digit_model.best_params_"
   ]
  },
  {
   "cell_type": "markdown",
   "metadata": {},
   "source": [
    "각 모델별 성능 순위를 보여줍니다. 순서는 params 에서 지정되어 진행되는 모델들의 순서입니다."
   ]
  },
  {
   "cell_type": "code",
   "execution_count": 14,
   "metadata": {
    "colab": {
     "base_uri": "https://localhost:8080/"
    },
    "id": "-guB30g2SWTs",
    "outputId": "14924dd1-5030-4289-dddb-a6c97c183523"
   },
   "outputs": [
    {
     "data": {
      "text/plain": [
       "array([ 5,  5,  3,  4,  8,  7, 11,  9,  1,  2, 10], dtype=int32)"
      ]
     },
     "execution_count": 14,
     "metadata": {},
     "output_type": "execute_result"
    }
   ],
   "source": [
    "digit_model.cv_results_[\"rank_test_score\"]"
   ]
  },
  {
   "cell_type": "markdown",
   "metadata": {},
   "source": [
    "각 모델들의 3 - fold 에서 나온 검증 정확도들의 평균을 나타냅니다."
   ]
  },
  {
   "cell_type": "code",
   "execution_count": 15,
   "metadata": {
    "colab": {
     "base_uri": "https://localhost:8080/"
    },
    "id": "S5_WXwAwKO7H",
    "outputId": "bbb4c340-2cf3-4bfd-f6f5-4a005457cde2"
   },
   "outputs": [
    {
     "data": {
      "text/plain": [
       "array([0.95685456, 0.95685456, 0.96798887, 0.96729297, 0.9512874 ,\n",
       "       0.95476688, 0.81558803, 0.94363257, 0.98329854, 0.97355602,\n",
       "       0.89422408])"
      ]
     },
     "execution_count": 15,
     "metadata": {},
     "output_type": "execute_result"
    }
   ],
   "source": [
    "digit_model.cv_results_[\"mean_test_score\"]"
   ]
  },
  {
   "cell_type": "markdown",
   "metadata": {},
   "source": [
    "GridSearchCV 모델들을 적합한 결과 가장 좋은 성능을 낸 모델과 파라미터, 전처리 조건을 출력합니다."
   ]
  },
  {
   "cell_type": "code",
   "execution_count": 16,
   "metadata": {
    "colab": {
     "base_uri": "https://localhost:8080/"
    },
    "id": "Fzk6-cgxKO-A",
    "outputId": "88807b48-cb14-4040-f75c-d99ffff0d81b"
   },
   "outputs": [
    {
     "data": {
      "text/plain": [
       "Pipeline(steps=[('transformer', MinMaxScaler()), ('model', SVC())])"
      ]
     },
     "execution_count": 16,
     "metadata": {},
     "output_type": "execute_result"
    }
   ],
   "source": [
    "digit_model.best_estimator_"
   ]
  },
  {
   "cell_type": "markdown",
   "metadata": {},
   "source": [
    "검증 점수가 가장 높을 때의 결과를 출력합니다"
   ]
  },
  {
   "cell_type": "code",
   "execution_count": 17,
   "metadata": {
    "colab": {
     "base_uri": "https://localhost:8080/"
    },
    "id": "fBac7vzkKPBX",
    "outputId": "703feff5-dd4c-43b5-98d4-8cbf1fe8a8b1"
   },
   "outputs": [
    {
     "data": {
      "text/plain": [
       "0.9832985386221295"
      ]
     },
     "execution_count": 17,
     "metadata": {},
     "output_type": "execute_result"
    }
   ],
   "source": [
    "digit_model.best_score_"
   ]
  },
  {
   "cell_type": "markdown",
   "metadata": {},
   "source": [
    "GridSearchCV 로 반환된 최적의 모델로 테스트셋을 추론하고 추론하여 나온 예측값과 실제값과 비교하여 나온 정확도를 반환합니다."
   ]
  },
  {
   "cell_type": "code",
   "execution_count": 18,
   "metadata": {
    "colab": {
     "base_uri": "https://localhost:8080/"
    },
    "id": "mHHjwhtFKO0h",
    "outputId": "140dc4f4-7189-4907-a308-06b01737a055"
   },
   "outputs": [
    {
     "data": {
      "text/plain": [
       "0.9916666666666667"
      ]
     },
     "execution_count": 18,
     "metadata": {},
     "output_type": "execute_result"
    }
   ],
   "source": [
    "# best_estimator 기준 결과 반환\n",
    "digit_model.score(x_test_dg, y_test_dg)"
   ]
  },
  {
   "cell_type": "markdown",
   "metadata": {},
   "source": [
    "## 6. 결론"
   ]
  },
  {
   "cell_type": "markdown",
   "metadata": {
    "id": "oTAIl8DHTpQI"
   },
   "source": [
    "SVC모델을 기준으로 테스트셋을 분류한 accuracy는 약 99%가 나왔습니다."
   ]
  },
  {
   "cell_type": "markdown",
   "metadata": {
    "id": "NJbX1DUWUWys"
   },
   "source": [
    "# Wine dataset"
   ]
  },
  {
   "cell_type": "markdown",
   "metadata": {},
   "source": [
    "## 2. 데이터 준비"
   ]
  },
  {
   "cell_type": "code",
   "execution_count": 20,
   "metadata": {},
   "outputs": [],
   "source": [
    "wine = load_wine()"
   ]
  },
  {
   "cell_type": "markdown",
   "metadata": {},
   "source": [
    "## 3. 데이터 이해하기"
   ]
  },
  {
   "cell_type": "code",
   "execution_count": 21,
   "metadata": {},
   "outputs": [
    {
     "name": "stdout",
     "output_type": "stream",
     "text": [
      "종속변수 카테고리 종류 : ['class_0' 'class_1' 'class_2']\n",
      "독립변수 : ['alcohol', 'malic_acid', 'ash', 'alcalinity_of_ash', 'magnesium', 'total_phenols', 'flavanoids', 'nonflavanoid_phenols', 'proanthocyanins', 'color_intensity', 'hue', 'od280/od315_of_diluted_wines', 'proline']\n",
      "\n",
      "\n",
      ".. _wine_dataset:\n",
      "\n",
      "Wine recognition dataset\n",
      "------------------------\n",
      "\n",
      "**Data Set Characteristics:**\n",
      "\n",
      "    :Number of Instances: 178 (50 in each of three classes)\n",
      "    :Number of Attributes: 13 numeric, predictive attributes and the class\n",
      "    :Attribute Information:\n",
      " \t\t- Alcohol\n",
      " \t\t- Malic acid\n",
      " \t\t- Ash\n",
      "\t\t- Alcalinity of ash  \n",
      " \t\t- Magnesium\n",
      "\t\t- Total phenols\n",
      " \t\t- Flavanoids\n",
      " \t\t- Nonflavanoid phenols\n",
      " \t\t- Proanthocyanins\n",
      "\t\t- Color intensity\n",
      " \t\t- Hue\n",
      " \t\t- OD280/OD315 of diluted wines\n",
      " \t\t- Proline\n",
      "\n",
      "    - class:\n",
      "            - class_0\n",
      "            - class_1\n",
      "            - class_2\n",
      "\t\t\n",
      "    :Summary Statistics:\n",
      "    \n",
      "    ============================= ==== ===== ======= =====\n",
      "                                   Min   Max   Mean     SD\n",
      "    ============================= ==== ===== ======= =====\n",
      "    Alcohol:                      11.0  14.8    13.0   0.8\n",
      "    Malic Acid:                   0.74  5.80    2.34  1.12\n",
      "    Ash:                          1.36  3.23    2.36  0.27\n",
      "    Alcalinity of Ash:            10.6  30.0    19.5   3.3\n",
      "    Magnesium:                    70.0 162.0    99.7  14.3\n",
      "    Total Phenols:                0.98  3.88    2.29  0.63\n",
      "    Flavanoids:                   0.34  5.08    2.03  1.00\n",
      "    Nonflavanoid Phenols:         0.13  0.66    0.36  0.12\n",
      "    Proanthocyanins:              0.41  3.58    1.59  0.57\n",
      "    Colour Intensity:              1.3  13.0     5.1   2.3\n",
      "    Hue:                          0.48  1.71    0.96  0.23\n",
      "    OD280/OD315 of diluted wines: 1.27  4.00    2.61  0.71\n",
      "    Proline:                       278  1680     746   315\n",
      "    ============================= ==== ===== ======= =====\n",
      "\n",
      "    :Missing Attribute Values: None\n",
      "    :Class Distribution: class_0 (59), class_1 (71), class_2 (48)\n",
      "    :Creator: R.A. Fisher\n",
      "    :Donor: Michael Marshall (MARSHALL%PLU@io.arc.nasa.gov)\n",
      "    :Date: July, 1988\n",
      "\n",
      "This is a copy of UCI ML Wine recognition datasets.\n",
      "https://archive.ics.uci.edu/ml/machine-learning-databases/wine/wine.data\n",
      "\n",
      "The data is the results of a chemical analysis of wines grown in the same\n",
      "region in Italy by three different cultivators. There are thirteen different\n",
      "measurements taken for different constituents found in the three types of\n",
      "wine.\n",
      "\n",
      "Original Owners: \n",
      "\n",
      "Forina, M. et al, PARVUS - \n",
      "An Extendible Package for Data Exploration, Classification and Correlation. \n",
      "Institute of Pharmaceutical and Food Analysis and Technologies,\n",
      "Via Brigata Salerno, 16147 Genoa, Italy.\n",
      "\n",
      "Citation:\n",
      "\n",
      "Lichman, M. (2013). UCI Machine Learning Repository\n",
      "[https://archive.ics.uci.edu/ml]. Irvine, CA: University of California,\n",
      "School of Information and Computer Science. \n",
      "\n",
      ".. topic:: References\n",
      "\n",
      "  (1) S. Aeberhard, D. Coomans and O. de Vel, \n",
      "  Comparison of Classifiers in High Dimensional Settings, \n",
      "  Tech. Rep. no. 92-02, (1992), Dept. of Computer Science and Dept. of  \n",
      "  Mathematics and Statistics, James Cook University of North Queensland. \n",
      "  (Also submitted to Technometrics). \n",
      "\n",
      "  The data was used with many others for comparing various \n",
      "  classifiers. The classes are separable, though only RDA \n",
      "  has achieved 100% correct classification. \n",
      "  (RDA : 100%, QDA 99.4%, LDA 98.9%, 1NN 96.1% (z-transformed data)) \n",
      "  (All results using the leave-one-out technique) \n",
      "\n",
      "  (2) S. Aeberhard, D. Coomans and O. de Vel, \n",
      "  \"THE CLASSIFICATION PERFORMANCE OF RDA\" \n",
      "  Tech. Rep. no. 92-01, (1992), Dept. of Computer Science and Dept. of \n",
      "  Mathematics and Statistics, James Cook University of North Queensland. \n",
      "  (Also submitted to Journal of Chemometrics).\n",
      "\n"
     ]
    }
   ],
   "source": [
    "target_names = wine[\"target_names\"]\n",
    "feature_names = wine[\"feature_names\"]\n",
    "desc = wine[\"DESCR\"]\n",
    "\n",
    "print(f\"종속변수 카테고리 종류 : {target_names}\")\n",
    "print(f\"독립변수 : {feature_names}\")\n",
    "print(\"\\n\")\n",
    "print(desc)"
   ]
  },
  {
   "cell_type": "code",
   "execution_count": 25,
   "metadata": {
    "colab": {
     "base_uri": "https://localhost:8080/",
     "height": 295
    },
    "id": "_SnGWEhL6-bO",
    "outputId": "54d2aa1c-41f0-4c39-9eab-ce5c3aebf544"
   },
   "outputs": [
    {
     "data": {
      "image/png": "[encoded data removed]",
      "text/plain": [
       "<Figure size 432x288 with 1 Axes>"
      ]
     },
     "metadata": {
      "needs_background": "light"
     },
     "output_type": "display_data"
    }
   ],
   "source": [
    "wine_class, wine_counts = np.unique(y_wine, return_counts=True)\n",
    "plt.bar(wine_class, wine_counts)\n",
    "plt.xticks(wine_class)\n",
    "plt.title(\"Number of Class in wine dataset\")\n",
    "plt.ylabel(\"Counts\")\n",
    "plt.xlabel(\"Class\")\n",
    "plt.show()"
   ]
  },
  {
   "cell_type": "code",
   "execution_count": 24,
   "metadata": {},
   "outputs": [],
   "source": [
    "x_wine, y_wine = load_wine(return_X_y=True)"
   ]
  },
  {
   "cell_type": "code",
   "execution_count": 26,
   "metadata": {
    "colab": {
     "base_uri": "https://localhost:8080/"
    },
    "id": "KOWxr0XF9mvn",
    "outputId": "3628a63e-5a94-4d43-bd55-f111deac75ce"
   },
   "outputs": [
    {
     "data": {
      "text/plain": [
       "(178, 13)"
      ]
     },
     "execution_count": 26,
     "metadata": {},
     "output_type": "execute_result"
    }
   ],
   "source": [
    "x_wine.shape"
   ]
  },
  {
   "cell_type": "code",
   "execution_count": 27,
   "metadata": {
    "colab": {
     "base_uri": "https://localhost:8080/"
    },
    "id": "rSXntR429m1h",
    "outputId": "7f4ac7c9-4be1-4beb-ae22-767c6c6215ea"
   },
   "outputs": [
    {
     "data": {
      "text/plain": [
       "array([1.423e+01, 1.710e+00, 2.430e+00, 1.560e+01, 1.270e+02, 2.800e+00,\n",
       "       3.060e+00, 2.800e-01, 2.290e+00, 5.640e+00, 1.040e+00, 3.920e+00,\n",
       "       1.065e+03])"
      ]
     },
     "execution_count": 27,
     "metadata": {},
     "output_type": "execute_result"
    }
   ],
   "source": [
    "x_wine[0]"
   ]
  },
  {
   "cell_type": "markdown",
   "metadata": {},
   "source": [
    "## 4. train, test 데이터 분리"
   ]
  },
  {
   "cell_type": "code",
   "execution_count": 28,
   "metadata": {
    "id": "xmOIp1_BUnzF"
   },
   "outputs": [],
   "source": [
    "x_train_wn, x_test_wn, y_train_wn, y_test_wn = train_test_split(x_wine, \n",
    "                                                                y_wine,\n",
    "                                                                test_size = 0.2,\n",
    "                                                                random_state = 2)"
   ]
  },
  {
   "cell_type": "markdown",
   "metadata": {},
   "source": [
    "## 5. 다양한 모델로 학습시켜보기"
   ]
  },
  {
   "cell_type": "code",
   "execution_count": 29,
   "metadata": {
    "colab": {
     "base_uri": "https://localhost:8080/"
    },
    "id": "GFp1Z2SKUn5t",
    "outputId": "8ed06a00-dae2-48ed-abad-d533bb2917d1"
   },
   "outputs": [
    {
     "data": {
      "text/plain": [
       "GridSearchCV(estimator=Pipeline(steps=[('transformer', MinMaxScaler()),\n",
       "                                       ('model', 'passthrough')]),\n",
       "             param_grid=[{'model': (LogisticRegression(),),\n",
       "                          'model__max_iter': (300, 400)},\n",
       "                         {'model': (RandomForestClassifier(),),\n",
       "                          'model__n_estimators': (150, 200)},\n",
       "                         {'model': (GradientBoostingClassifier(),),\n",
       "                          'model__n_estimators': (150, 200)},\n",
       "                         {'model': (DecisionTreeClassifier(),)},\n",
       "                         {'model': (SGDClassifier(),)}, {'model': (SVC(),)},\n",
       "                         {'model': (KNeighborsClassifier(),)},\n",
       "                         {'model': (MultinomialNB(),)}],\n",
       "             return_train_score=True, scoring='accuracy')"
      ]
     },
     "execution_count": 29,
     "metadata": {},
     "output_type": "execute_result"
    }
   ],
   "source": [
    "wine_model = GridSearchCV(pipeline, params, scoring='accuracy', \n",
    "                     return_train_score=True)\n",
    "wine_model.fit(x_train_wn, y_train_wn)"
   ]
  },
  {
   "cell_type": "code",
   "execution_count": 32,
   "metadata": {
    "colab": {
     "base_uri": "https://localhost:8080/"
    },
    "id": "BVRXxvZTUn8L",
    "outputId": "1756b8de-9d84-4eda-9da9-f630afe9b5c4"
   },
   "outputs": [
    {
     "data": {
      "text/plain": [
       "Pipeline(steps=[('transformer', MinMaxScaler()), ('model', SVC())])"
      ]
     },
     "execution_count": 32,
     "metadata": {},
     "output_type": "execute_result"
    }
   ],
   "source": [
    "wine_model.best_estimator_"
   ]
  },
  {
   "cell_type": "code",
   "execution_count": 33,
   "metadata": {
    "colab": {
     "base_uri": "https://localhost:8080/"
    },
    "id": "9IuOADoNUn-Q",
    "outputId": "488dacb8-30a2-4a54-fd10-6058c628a946"
   },
   "outputs": [
    {
     "data": {
      "text/plain": [
       "0.9928571428571429"
      ]
     },
     "execution_count": 33,
     "metadata": {},
     "output_type": "execute_result"
    }
   ],
   "source": [
    "wine_model.best_score_"
   ]
  },
  {
   "cell_type": "code",
   "execution_count": 34,
   "metadata": {
    "colab": {
     "base_uri": "https://localhost:8080/"
    },
    "id": "pN6p7dzmelBv",
    "outputId": "7574e15b-ff9e-4f49-c49e-c66f7d15967e"
   },
   "outputs": [
    {
     "data": {
      "text/plain": [
       "0.9722222222222222"
      ]
     },
     "execution_count": 34,
     "metadata": {},
     "output_type": "execute_result"
    }
   ],
   "source": [
    "wine_model.score(x_test_wn, y_test_wn)"
   ]
  },
  {
   "cell_type": "markdown",
   "metadata": {},
   "source": [
    "## 6. 결론"
   ]
  },
  {
   "cell_type": "markdown",
   "metadata": {
    "id": "uABlbPogfXmm"
   },
   "source": [
    "wine dataset의 경우 parameter를 모두 default로 둔 기준으로 SVC모델이 가장 accuracy가 높게 나왔습니다.\n",
    "\n",
    "SVC모델을 기준으로 testset을 분류한 accuracy는 약 97%가 나왔습니다."
   ]
  },
  {
   "cell_type": "markdown",
   "metadata": {
    "id": "aQaCDG0eUZai"
   },
   "source": [
    "# Cancer dataset"
   ]
  },
  {
   "cell_type": "markdown",
   "metadata": {},
   "source": [
    "## 2. 데이터 준비"
   ]
  },
  {
   "cell_type": "code",
   "execution_count": 44,
   "metadata": {},
   "outputs": [],
   "source": [
    "cancer = load_breast_cancer()"
   ]
  },
  {
   "cell_type": "markdown",
   "metadata": {},
   "source": [
    "## 3. 데이터 이해하기"
   ]
  },
  {
   "cell_type": "code",
   "execution_count": 45,
   "metadata": {
    "scrolled": false
   },
   "outputs": [
    {
     "name": "stdout",
     "output_type": "stream",
     "text": [
      "종속변수 카테고리 종류 : ['malignant' 'benign']\n",
      "독립변수 : ['mean radius' 'mean texture' 'mean perimeter' 'mean area'\n",
      " 'mean smoothness' 'mean compactness' 'mean concavity'\n",
      " 'mean concave points' 'mean symmetry' 'mean fractal dimension'\n",
      " 'radius error' 'texture error' 'perimeter error' 'area error'\n",
      " 'smoothness error' 'compactness error' 'concavity error'\n",
      " 'concave points error' 'symmetry error' 'fractal dimension error'\n",
      " 'worst radius' 'worst texture' 'worst perimeter' 'worst area'\n",
      " 'worst smoothness' 'worst compactness' 'worst concavity'\n",
      " 'worst concave points' 'worst symmetry' 'worst fractal dimension']\n",
      "\n",
      "\n",
      ".. _breast_cancer_dataset:\n",
      "\n",
      "Breast cancer wisconsin (diagnostic) dataset\n",
      "--------------------------------------------\n",
      "\n",
      "**Data Set Characteristics:**\n",
      "\n",
      "    :Number of Instances: 569\n",
      "\n",
      "    :Number of Attributes: 30 numeric, predictive attributes and the class\n",
      "\n",
      "    :Attribute Information:\n",
      "        - radius (mean of distances from center to points on the perimeter)\n",
      "        - texture (standard deviation of gray-scale values)\n",
      "        - perimeter\n",
      "        - area\n",
      "        - smoothness (local variation in radius lengths)\n",
      "        - compactness (perimeter^2 / area - 1.0)\n",
      "        - concavity (severity of concave portions of the contour)\n",
      "        - concave points (number of concave portions of the contour)\n",
      "        - symmetry\n",
      "        - fractal dimension (\"coastline approximation\" - 1)\n",
      "\n",
      "        The mean, standard error, and \"worst\" or largest (mean of the three\n",
      "        worst/largest values) of these features were computed for each image,\n",
      "        resulting in 30 features.  For instance, field 0 is Mean Radius, field\n",
      "        10 is Radius SE, field 20 is Worst Radius.\n",
      "\n",
      "        - class:\n",
      "                - WDBC-Malignant\n",
      "                - WDBC-Benign\n",
      "\n",
      "    :Summary Statistics:\n",
      "\n",
      "    ===================================== ====== ======\n",
      "                                           Min    Max\n",
      "    ===================================== ====== ======\n",
      "    radius (mean):                        6.981  28.11\n",
      "    texture (mean):                       9.71   39.28\n",
      "    perimeter (mean):                     43.79  188.5\n",
      "    area (mean):                          143.5  2501.0\n",
      "    smoothness (mean):                    0.053  0.163\n",
      "    compactness (mean):                   0.019  0.345\n",
      "    concavity (mean):                     0.0    0.427\n",
      "    concave points (mean):                0.0    0.201\n",
      "    symmetry (mean):                      0.106  0.304\n",
      "    fractal dimension (mean):             0.05   0.097\n",
      "    radius (standard error):              0.112  2.873\n",
      "    texture (standard error):             0.36   4.885\n",
      "    perimeter (standard error):           0.757  21.98\n",
      "    area (standard error):                6.802  542.2\n",
      "    smoothness (standard error):          0.002  0.031\n",
      "    compactness (standard error):         0.002  0.135\n",
      "    concavity (standard error):           0.0    0.396\n",
      "    concave points (standard error):      0.0    0.053\n",
      "    symmetry (standard error):            0.008  0.079\n",
      "    fractal dimension (standard error):   0.001  0.03\n",
      "    radius (worst):                       7.93   36.04\n",
      "    texture (worst):                      12.02  49.54\n",
      "    perimeter (worst):                    50.41  251.2\n",
      "    area (worst):                         185.2  4254.0\n",
      "    smoothness (worst):                   0.071  0.223\n",
      "    compactness (worst):                  0.027  1.058\n",
      "    concavity (worst):                    0.0    1.252\n",
      "    concave points (worst):               0.0    0.291\n",
      "    symmetry (worst):                     0.156  0.664\n",
      "    fractal dimension (worst):            0.055  0.208\n",
      "    ===================================== ====== ======\n",
      "\n",
      "    :Missing Attribute Values: None\n",
      "\n",
      "    :Class Distribution: 212 - Malignant, 357 - Benign\n",
      "\n",
      "    :Creator:  Dr. William H. Wolberg, W. Nick Street, Olvi L. Mangasarian\n",
      "\n",
      "    :Donor: Nick Street\n",
      "\n",
      "    :Date: November, 1995\n",
      "\n",
      "This is a copy of UCI ML Breast Cancer Wisconsin (Diagnostic) datasets.\n",
      "https://goo.gl/U2Uwz2\n",
      "\n",
      "Features are computed from a digitized image of a fine needle\n",
      "aspirate (FNA) of a breast mass.  They describe\n",
      "characteristics of the cell nuclei present in the image.\n",
      "\n",
      "Separating plane described above was obtained using\n",
      "Multisurface Method-Tree (MSM-T) [K. P. Bennett, \"Decision Tree\n",
      "Construction Via Linear Programming.\" Proceedings of the 4th\n",
      "Midwest Artificial Intelligence and Cognitive Science Society,\n",
      "pp. 97-101, 1992], a classification method which uses linear\n",
      "programming to construct a decision tree.  Relevant features\n",
      "were selected using an exhaustive search in the space of 1-4\n",
      "features and 1-3 separating planes.\n",
      "\n",
      "The actual linear program used to obtain the separating plane\n",
      "in the 3-dimensional space is that described in:\n",
      "[K. P. Bennett and O. L. Mangasarian: \"Robust Linear\n",
      "Programming Discrimination of Two Linearly Inseparable Sets\",\n",
      "Optimization Methods and Software 1, 1992, 23-34].\n",
      "\n",
      "This database is also available through the UW CS ftp server:\n",
      "\n",
      "ftp ftp.cs.wisc.edu\n",
      "cd math-prog/cpo-dataset/machine-learn/WDBC/\n",
      "\n",
      ".. topic:: References\n",
      "\n",
      "   - W.N. Street, W.H. Wolberg and O.L. Mangasarian. Nuclear feature extraction \n",
      "     for breast tumor diagnosis. IS&T/SPIE 1993 International Symposium on \n",
      "     Electronic Imaging: Science and Technology, volume 1905, pages 861-870,\n",
      "     San Jose, CA, 1993.\n",
      "   - O.L. Mangasarian, W.N. Street and W.H. Wolberg. Breast cancer diagnosis and \n",
      "     prognosis via linear programming. Operations Research, 43(4), pages 570-577, \n",
      "     July-August 1995.\n",
      "   - W.H. Wolberg, W.N. Street, and O.L. Mangasarian. Machine learning techniques\n",
      "     to diagnose breast cancer from fine-needle aspirates. Cancer Letters 77 (1994) \n",
      "     163-171.\n"
     ]
    }
   ],
   "source": [
    "target_names = cancer[\"target_names\"]\n",
    "feature_names = cancer[\"feature_names\"]\n",
    "desc = cancer[\"DESCR\"]\n",
    "\n",
    "print(f\"종속변수 카테고리 종류 : {target_names}\")\n",
    "print(f\"독립변수 : {feature_names}\")\n",
    "print(\"\\n\")\n",
    "print(desc)"
   ]
  },
  {
   "cell_type": "code",
   "execution_count": 46,
   "metadata": {
    "colab": {
     "base_uri": "https://localhost:8080/",
     "height": 295
    },
    "id": "-_MRGRqU7Br3",
    "outputId": "d9d3c1a3-a95d-4dca-8dcf-82ebdad0f7a0"
   },
   "outputs": [
    {
     "name": "stdout",
     "output_type": "stream",
     "text": [
      "[212 357]\n"
     ]
    },
    {
     "data": {
      "image/png": "[encoded data removed]",
      "text/plain": [
       "<Figure size 432x288 with 1 Axes>"
      ]
     },
     "metadata": {
      "needs_background": "light"
     },
     "output_type": "display_data"
    }
   ],
   "source": [
    "cancer_class, cancer_counts = np.unique(y_cancer, return_counts=True)\n",
    "print(cancer_counts)\n",
    "plt.bar(cancer_class, cancer_counts)\n",
    "plt.xticks(cancer_class)\n",
    "plt.title(\"Number of Class in cancer dataset\")\n",
    "plt.ylabel(\"Counts\")\n",
    "plt.xlabel(\"Class\")\n",
    "plt.show()"
   ]
  },
  {
   "cell_type": "markdown",
   "metadata": {},
   "source": [
    "해당 데이터셋은 0인 카테고리가 212개이고, 1인 카테고리가 357개로 다른 데이터셋에 비하여 데이터 불균형 문제가 더 심각하게 보여지고 있습니다.  "
   ]
  },
  {
   "cell_type": "code",
   "execution_count": 47,
   "metadata": {},
   "outputs": [
    {
     "data": {
      "text/plain": [
       "(569, 30)"
      ]
     },
     "execution_count": 47,
     "metadata": {},
     "output_type": "execute_result"
    }
   ],
   "source": [
    "x_cancer, y_cancer = load_breast_cancer(return_X_y=True)\n",
    "x_cancer.shape"
   ]
  },
  {
   "cell_type": "markdown",
   "metadata": {},
   "source": [
    "## 4. train, test 데이터 분리"
   ]
  },
  {
   "cell_type": "code",
   "execution_count": 48,
   "metadata": {
    "id": "v6dNnpCyf2s1"
   },
   "outputs": [],
   "source": [
    "x_train_cc, x_test_cc, y_train_cc, y_test_cc = train_test_split(x_cancer, \n",
    "                                                                y_cancer,\n",
    "                                                                test_size = 0.2,\n",
    "                                                                random_state = 3)"
   ]
  },
  {
   "cell_type": "markdown",
   "metadata": {},
   "source": [
    "## 5. 다양한 모델로 학습시켜보기"
   ]
  },
  {
   "cell_type": "markdown",
   "metadata": {},
   "source": [
    "이전 데이터 이해하기에서 0과 1로 분류되는 데이터의 불균형 문제가 있다는 것을 발견하였습니다.\n",
    "\n",
    "데이터 불균형이 심한 데이터셋에서는 모델 평가 지표에 대한 고민이 더 필요합니다.   \n",
    "왜냐하면 예를 들어 정상데이터개 99개이고 비정상 데이터가 1개일 때의 모델은 단순히 모든 데이터를 정상 데이터라고 예측만 해도 모델의 accuracy는 99%로 굉장히 높아보이지만 실제로는 비정상 데이터 1개도 분류하지 못하는 좋지 못한 모델이라는 것 입니다.  \n",
    "\n",
    "데이터 불균형이 심한 데이터셋은 일반적인 지표인 accuracy를 사용하기 보다는 recall, precision, F1-score와 같은 지표를 사용하여 모델의 성능을 좀 더 신뢰성 있게 평가할 수 있습니다.\n",
    "\n",
    "3가지 지표중에서 F1-score는 recall과 precision의 조화 평균으로 모델이 어떻게 분류를 하든 객관적이고 신뢰성 있는 점수를 도출해주기에 해당 데이터셋에서의 모델들의 평가지표는 F1-score를 사용하겠습니다.\n",
    "\n",
    "지표에 대한 이해도를 높이기 위해서 기준 지표가 accuracy일때의 모델과 F1-score일 때의 모델을 비교해보겠습니다."
   ]
  },
  {
   "cell_type": "code",
   "execution_count": 49,
   "metadata": {
    "colab": {
     "base_uri": "https://localhost:8080/"
    },
    "id": "FsY_iQAof2tD",
    "outputId": "83a2c781-ebf3-44ba-a44e-a1c535d14819"
   },
   "outputs": [
    {
     "data": {
      "text/plain": [
       "GridSearchCV(estimator=Pipeline(steps=[('transformer', MinMaxScaler()),\n",
       "                                       ('model', 'passthrough')]),\n",
       "             param_grid=[{'model': (LogisticRegression(),),\n",
       "                          'model__max_iter': (300, 400)},\n",
       "                         {'model': (RandomForestClassifier(),),\n",
       "                          'model__n_estimators': (150, 200)},\n",
       "                         {'model': (GradientBoostingClassifier(),),\n",
       "                          'model__n_estimators': (150, 200)},\n",
       "                         {'model': (DecisionTreeClassifier(),)},\n",
       "                         {'model': (SGDClassifier(),)}, {'model': (SVC(),)},\n",
       "                         {'model': (KNeighborsClassifier(),)},\n",
       "                         {'model': (MultinomialNB(),)}],\n",
       "             return_train_score=True, scoring='accuracy')"
      ]
     },
     "execution_count": 49,
     "metadata": {},
     "output_type": "execute_result"
    }
   ],
   "source": [
    "acc_cancer_model = GridSearchCV(pipeline, params, scoring='accuracy', \n",
    "                     return_train_score=True)\n",
    "acc_cancer_model.fit(x_train_cc, y_train_cc)"
   ]
  },
  {
   "cell_type": "code",
   "execution_count": 50,
   "metadata": {},
   "outputs": [
    {
     "data": {
      "text/plain": [
       "GridSearchCV(estimator=Pipeline(steps=[('transformer', MinMaxScaler()),\n",
       "                                       ('model', 'passthrough')]),\n",
       "             param_grid=[{'model': (LogisticRegression(),),\n",
       "                          'model__max_iter': (300, 400)},\n",
       "                         {'model': (RandomForestClassifier(),),\n",
       "                          'model__n_estimators': (150, 200)},\n",
       "                         {'model': (GradientBoostingClassifier(),),\n",
       "                          'model__n_estimators': (150, 200)},\n",
       "                         {'model': (DecisionTreeClassifier(),)},\n",
       "                         {'model': (SGDClassifier(),)}, {'model': (SVC(),)},\n",
       "                         {'model': (KNeighborsClassifier(),)},\n",
       "                         {'model': (MultinomialNB(),)}],\n",
       "             return_train_score=True, scoring='f1')"
      ]
     },
     "execution_count": 50,
     "metadata": {},
     "output_type": "execute_result"
    }
   ],
   "source": [
    "f1_cancer_model = GridSearchCV(pipeline, params, scoring='f1', \n",
    "                     return_train_score=True)\n",
    "f1_cancer_model.fit(x_train_cc, y_train_cc)"
   ]
  },
  {
   "cell_type": "code",
   "execution_count": 64,
   "metadata": {
    "colab": {
     "base_uri": "https://localhost:8080/"
    },
    "id": "C6PcT5Ykf2tH",
    "outputId": "ae67dcc1-0e9f-46b7-f22a-0c04d9769d70"
   },
   "outputs": [
    {
     "name": "stdout",
     "output_type": "stream",
     "text": [
      "최적의 모델 조건 :Pipeline(steps=[('transformer', MinMaxScaler()), ('model', SVC())])\n",
      "검증셋 평균 점수 : 0.9758241758241759\n",
      "테스트셋 점수 : 0.9649122807017544\n"
     ]
    }
   ],
   "source": [
    "print(f\"최적의 모델 조건 :{acc_cancer_model.best_estimator_}\")\n",
    "\n",
    "print(f\"검증셋 평균 점수 : {acc_cancer_model.best_score_}\")\n",
    "\n",
    "print(f\"테스트셋 점수 : {acc_cancer_model.score(x_test_cc, y_test_cc)}\")"
   ]
  },
  {
   "cell_type": "code",
   "execution_count": 63,
   "metadata": {
    "colab": {
     "base_uri": "https://localhost:8080/"
    },
    "id": "C6PcT5Ykf2tH",
    "outputId": "ae67dcc1-0e9f-46b7-f22a-0c04d9769d70"
   },
   "outputs": [
    {
     "name": "stdout",
     "output_type": "stream",
     "text": [
      "최적의 모델 조건 :Pipeline(steps=[('transformer', MinMaxScaler()), ('model', SGDClassifier())])\n",
      "검증셋 평균 점수 : 0.9811473813596343\n",
      "테스트셋 점수 : 0.9589041095890412\n"
     ]
    }
   ],
   "source": [
    "print(f\"최적의 모델 조건 :{f1_cancer_model.best_estimator_}\")\n",
    "\n",
    "print(f\"검증셋 평균 점수 : {f1_cancer_model.best_score_}\")\n",
    "\n",
    "print(f\"테스트셋 점수 : {f1_cancer_model.score(x_test_cc, y_test_cc)}\")"
   ]
  },
  {
   "cell_type": "markdown",
   "metadata": {},
   "source": [
    "## 6. 결론"
   ]
  },
  {
   "cell_type": "markdown",
   "metadata": {},
   "source": [
    "모델의 성능 지표를 바꾸기만 하였는데도 최적의 모델로 선택된 모델은 서로 다르게 나왔습니다. \n",
    "accuracy인 경우 SVC가 최적의 모델로 나왔으며 f1의 경우 SGDClassifier가 최적의 모델로 선택되어졌습니다.\n",
    "\n",
    "모델의 성능 지표를 accuracy로 하였을 경우 SVC가 최적의 모델로 검증셋의 점수는 약 0.97로 f1일 때보다 낮았지만 테스트셋에서의 점수는 0.96으로 f1일때의 0.95보다 더 높게 나왔습니다.\n",
    "\n",
    "비록 현재의 모델에서는 테스트셋의 점수가 accuracy일때가 더 높게 나왔지만 해당 점수가 정말로 모델의 성능을 증명해준다고 생각하기에는 데이터 불균형 문제로 인한 의심을 받게 됩니다.\n",
    "\n",
    "이러한 의심과 걱정을 계속하느니 해당 방법에서 벗어나 좀 더 객관적이고 신뢰성 있는 지표인 F1-score를 사용하는 것이 좋다고 생각합니다.\n"
   ]
  },
  {
   "cell_type": "markdown",
   "metadata": {},
   "source": [
    "## 7. 참고사이트\n",
    "- https://www.python2.net/questions-688254.htm  \n",
    "- https://stackoverflow.com/questions/34848266/typeerror-if-no-scoring-is-specified-the-estimator-passed-should-have-a-score\n",
    "- https://scikit-learn.org/stable/modules/model_evaluation.html#scoring-parameter\n",
    "- https://scikit-learn.org/stable/modules/generated/sklearn.model_selection.GridSearchCV.html?highlight=gridsearchcv#sklearn.model_selection.GridSearchCV.score\n",
    "- https://datascienceschool.net/03%20machine%20learning/14.01%20%EB%AA%A8%ED%98%95%20%EC%B5%9C%EC%A0%81%ED%99%94.html\n",
    "- https://scikit-learn.org/stable/modules/compose.html#pipeline"
   ]
  }
 ],
 "metadata": {
  "colab": {
   "collapsed_sections": [],
   "name": "3_ML_mini_project.ipynb",
   "provenance": []
  },
  "kernelspec": {
   "display_name": "Python 3",
   "language": "python",
   "name": "python3"
  },
  "language_info": {
   "codemirror_mode": {
    "name": "ipython",
    "version": 3
   },
   "file_extension": ".py",
   "mimetype": "text/x-python",
   "name": "python",
   "nbconvert_exporter": "python",
   "pygments_lexer": "ipython3",
   "version": "3.7.9"
  }
 },
 "nbformat": 4,
 "nbformat_minor": 1
}
