{
 "cells": [
  {
   "cell_type": "markdown",
   "id": "narrative-rapid",
   "metadata": {},
   "source": [
    "## 1. 패키지 불러오기"
   ]
  },
  {
   "cell_type": "code",
   "execution_count": 32,
   "id": "hindu-circle",
   "metadata": {},
   "outputs": [],
   "source": [
    "import re\n",
    "import glob\n",
    "import numpy as np\n",
    "import tensorflow as tf\n",
    "import matplotlib.pyplot as plt\n",
    "from sklearn.model_selection import train_test_split\n",
    "from collections import Counter, defaultdict\n",
    "from tqdm import tqdm"
   ]
  },
  {
   "cell_type": "markdown",
   "id": "foreign-azerbaijan",
   "metadata": {},
   "source": [
    "## 2. 데이터 불러오기"
   ]
  },
  {
   "cell_type": "code",
   "execution_count": 33,
   "id": "imported-religion",
   "metadata": {},
   "outputs": [
    {
     "name": "stdout",
     "output_type": "stream",
     "text": [
      "데이터 크기 : 187088\n"
     ]
    }
   ],
   "source": [
    "txt_list = glob.glob(\"./data/lyrics/*\")\n",
    "\n",
    "raw_corpus = []\n",
    "\n",
    "for file in txt_list:\n",
    "    with open(file, \"r\") as f:\n",
    "        raw = f.read().splitlines()\n",
    "        raw_corpus.extend(raw)\n",
    "        \n",
    "print(f\"데이터 크기 : {len(raw_corpus)}\")"
   ]
  },
  {
   "cell_type": "markdown",
   "id": "determined-business",
   "metadata": {},
   "source": [
    "## 3. 텍스트 전처리 - 소문자화, 불용어 제거"
   ]
  },
  {
   "cell_type": "code",
   "execution_count": 34,
   "id": "stylish-livestock",
   "metadata": {},
   "outputs": [
    {
     "data": {
      "text/plain": [
       "175986"
      ]
     },
     "execution_count": 34,
     "metadata": {},
     "output_type": "execute_result"
    }
   ],
   "source": [
    "# 빈칸 제거\n",
    "raw_corpus = [i for i in raw_corpus if len(i) != 0]\n",
    "len(raw_corpus)"
   ]
  },
  {
   "cell_type": "code",
   "execution_count": 35,
   "id": "interracial-fisher",
   "metadata": {},
   "outputs": [],
   "source": [
    "# https://www.kdnuggets.com/2019/04/text-preprocessing-nlp-machine-learning.html\n",
    "def text_preprocessing(corpus):\n",
    "    \"\"\"\n",
    "    desc: \n",
    "        -소문자화, 특수문제제거, 불용어제거, Stemming 기법들 적용하여 전처리 실시\n",
    "    args:\n",
    "        - list()\n",
    "    return:\n",
    "        - list()\n",
    "    \"\"\"\n",
    "    corpus = corpus.lower()\n",
    "    corpus = re.sub('[^a-z?\\'!.,¿]+', ' ', corpus)\n",
    "    \n",
    "    # 혼자 있는 따옴표 제거\n",
    "    corpus = re.sub(' \\' ', ' ', corpus)\n",
    "\n",
    "    \n",
    "    # 혼자있는 자음 제거\n",
    "    tmp = None\n",
    "    while tmp != corpus:\n",
    "        tmp = corpus\n",
    "        corpus = re.sub(\" [xobgnerclfpkyvjhwzqstmd] \", ' ', corpus)\n",
    "    \n",
    "    corpus = re.sub(\"^[u] \", \"you\", corpus)\n",
    "    corpus = re.sub(\" [u]$\", \"you\", corpus)\n",
    "    corpus = re.sub(\"[ ]+\", ' ', corpus)\n",
    "    corpus = corpus.strip()\n",
    "    \n",
    "    \n",
    "    # u를 you로 전환\n",
    "    # corpus = re.sub(\"^<start> u \", '<start> you ', corpus)\n",
    "    # corpus = re.sub(\" u <end>$\", ' you <end>', corpus)\n",
    "    corpus = '<start> ' + corpus + ' <end>'\n",
    "    corpus = corpus.strip()\n",
    "    return corpus\n",
    "\n",
    "# 전처리 적용\n",
    "tmp = list(map(text_preprocessing, raw_corpus))\n",
    "# 전처리 적용 후 단어가 없는 경우 제거\n",
    "clean_corpus = []\n",
    "for i in tmp:\n",
    "    if len(i.split(\" \")) > 2:\n",
    "        clean_corpus += [i]"
   ]
  },
  {
   "cell_type": "code",
   "execution_count": 5,
   "id": "neutral-subdivision",
   "metadata": {
    "scrolled": false
   },
   "outputs": [
    {
     "name": "stdout",
     "output_type": "stream",
     "text": [
      "데이터 크기 : 175986\n"
     ]
    }
   ],
   "source": [
    "print(f\"데이터 크기 : {len(clean_corpus)}\")"
   ]
  },
  {
   "cell_type": "markdown",
   "id": "outer-delivery",
   "metadata": {},
   "source": [
    "## 4. 텍스트 전처리 - 토큰화, 벡터화"
   ]
  },
  {
   "cell_type": "code",
   "execution_count": 6,
   "id": "prospective-librarian",
   "metadata": {},
   "outputs": [],
   "source": [
    "def count_vocabulary(clean_corpus):\n",
    "    split_corpus = list(map(lambda x : x.split(),clean_corpus))\n",
    "\n",
    "    tmp = defaultdict()\n",
    "    for corpus in split_corpus:\n",
    "        for word in corpus:\n",
    "            if word not in tmp:\n",
    "                tmp[word] = corpus.count(word)\n",
    "            else:\n",
    "                tmp[word] += corpus.count(word)\n",
    "\n",
    "    tmp = dict(tmp)\n",
    "    word_count = sorted(tmp.items(), key = lambda x : x[1], reverse = True)\n",
    "    return split_corpus, word_count\n",
    "\n",
    "split_corpus, word_count = count_vocabulary(clean_corpus)"
   ]
  },
  {
   "cell_type": "code",
   "execution_count": 7,
   "id": "hearing-lightning",
   "metadata": {},
   "outputs": [
    {
     "name": "stderr",
     "output_type": "stream",
     "text": [
      "100%|██████████| 175986/175986 [00:00<00:00, 205176.08it/s]\n"
     ]
    }
   ],
   "source": [
    "def vocab(word_count, num=7000):\n",
    "    \"\"\"\n",
    "    단어장 생성\n",
    "    \"\"\"\n",
    "    word_index = dict()\n",
    "    index_word = dict()\n",
    "    for ind, i in enumerate(word_count):\n",
    "        word_index[i[0]] = ind + 2\n",
    "        index_word[ind + 2] = i[0]\n",
    "    # padding 토큰\n",
    "    word_index[\"<pad>\"] = 0\n",
    "    index_word[0] = \"<pad>\"\n",
    "    # unknown 토큰\n",
    "    word_index[\"<unk>\"] = 1\n",
    "    index_word[1] = \"<unk>\"\n",
    "\n",
    "    vocab = dict(word_count[:num]) # 사용할 단어의 개수\n",
    "    return vocab, word_index, index_word\n",
    "\n",
    "vocab, word_index, index_word = vocab(word_count, num = 14000)\n",
    "\n",
    "def vectorization(split_corpus, vocab, maxlen = None):\n",
    "    \"\"\"\n",
    "    텍스트 말뭉치에서 벡터 말뭉치로 전환시키며 없는 단어는 <unk> 부여\n",
    "    \"\"\"\n",
    "    vector_corpus = []\n",
    "    for corpus in tqdm(split_corpus):\n",
    "        tmp = []\n",
    "        if len(corpus) < 15:\n",
    "            for word in corpus:\n",
    "                if word in vocab:\n",
    "                    tmp += [word_index[word]]\n",
    "                else:\n",
    "                    tmp += [1]\n",
    "            vector_corpus += [tmp]\n",
    "\n",
    "\n",
    "    vector_corpus = tf.keras.preprocessing.sequence.pad_sequences(vector_corpus, maxlen, padding=\"pre\")\n",
    "    return vector_corpus\n",
    "\n",
    "vector_corpus = vectorization(split_corpus, vocab)"
   ]
  },
  {
   "cell_type": "code",
   "execution_count": 8,
   "id": "roman-castle",
   "metadata": {},
   "outputs": [
    {
     "data": {
      "text/plain": [
       "(158835, 14)"
      ]
     },
     "execution_count": 8,
     "metadata": {},
     "output_type": "execute_result"
    }
   ],
   "source": [
    "vector_corpus.shape"
   ]
  },
  {
   "cell_type": "code",
   "execution_count": 9,
   "id": "collected-percentage",
   "metadata": {},
   "outputs": [
    {
     "data": {
      "text/plain": [
       "array([[    0,     0,     0, ...,    51,    61,     3],\n",
       "       [    0,     0,     0, ...,    17,    17,     3],\n",
       "       [    0,     0,     0, ...,   101, 12040,     3],\n",
       "       ...,\n",
       "       [    0,     0,     0, ...,    30,   114,     3],\n",
       "       [    0,     0,     0, ...,    10,   163,     3],\n",
       "       [    2,     7,    40, ...,   325,   325,     3]], dtype=int32)"
      ]
     },
     "execution_count": 9,
     "metadata": {},
     "output_type": "execute_result"
    }
   ],
   "source": [
    "vector_corpus"
   ]
  },
  {
   "cell_type": "code",
   "execution_count": null,
   "id": "alone-patrol",
   "metadata": {
    "scrolled": false
   },
   "outputs": [],
   "source": [
    "# for i, j in word_count:\n",
    "#     if len(i) == 1:\n",
    "#         print(i, j)"
   ]
  },
  {
   "cell_type": "code",
   "execution_count": null,
   "id": "hidden-integration",
   "metadata": {
    "scrolled": true
   },
   "outputs": [],
   "source": [
    "# # u, x 만 있는 단어 찾기\n",
    "# tmp = list(map(lambda x : len(re.findall(\" q \", x)), clean_corpus))\n",
    "# for i in range(len(clean_corpus)):\n",
    "#     if tmp[i] != 0:\n",
    "#         print(i, clean_corpus[i])"
   ]
  },
  {
   "cell_type": "code",
   "execution_count": null,
   "id": "mechanical-spice",
   "metadata": {},
   "outputs": [],
   "source": [
    "# split_corpus\n",
    "\n",
    "# from gensim.models import Word2Vec\n",
    "# word2vec_model = Word2Vec(vector_size = 300, window=5, min_count = 1, workers = 2)\n",
    "# word2vec_model.build_vocab(split_corpus)\n",
    "# word2vec_model.intersect_word2vec_format('./word2vec/GoogleNews-vectors-negative300.bin', lockf=1.0, binary=True)\n",
    "\n",
    "# word2vev = Word2Vec(split_corpus)\n",
    "\n",
    "# word2vev.wv\n",
    "\n",
    "# tmp = []\n",
    "# for corpus in split_corpus[:10]:\n",
    "#     tmp += [list(map(lambda x: word2vev.wv[x], corpus))]"
   ]
  },
  {
   "cell_type": "code",
   "execution_count": 10,
   "id": "under-silver",
   "metadata": {
    "scrolled": true
   },
   "outputs": [
    {
     "name": "stdout",
     "output_type": "stream",
     "text": [
      "문장 갯수 : 158835\n",
      "문장 길이 : 14\n",
      "텍스트에서 변환된 시퀀스 가장 큰 인덱스값 : 14001\n"
     ]
    }
   ],
   "source": [
    "print(f\"문장 갯수 : {vector_corpus.shape[0]}\\n문장 길이 : {vector_corpus.shape[1]}\")\n",
    "print(f\"텍스트에서 변환된 시퀀스 가장 큰 인덱스값 : {np.max(vector_corpus)}\")"
   ]
  },
  {
   "cell_type": "markdown",
   "id": "international-blind",
   "metadata": {},
   "source": [
    "## 5. 학습데이터셋, 테스트데이터셋 분리 및 구축"
   ]
  },
  {
   "cell_type": "code",
   "execution_count": 11,
   "id": "oriental-colony",
   "metadata": {},
   "outputs": [],
   "source": [
    "seed = 1\n",
    "np.random.seed(seed)\n",
    "random_index = np.random.choice(range(len(vector_corpus)), 20000, replace=False)\n",
    "mini_vector_corpus = vector_corpus[random_index]"
   ]
  },
  {
   "cell_type": "code",
   "execution_count": 24,
   "id": "scheduled-discrimination",
   "metadata": {},
   "outputs": [],
   "source": [
    "src_input = vector_corpus[:, :-1]\n",
    "tgt_input = vector_corpus[:, 1:]\n",
    "\n",
    "tr_src_input,te_src_input,tr_tgt_input,te_tgt_input = train_test_split(src_input,\n",
    "                                                                      tgt_input,\n",
    "                                                                      test_size = 0.2,\n",
    "                                                                      random_state = seed) "
   ]
  },
  {
   "cell_type": "code",
   "execution_count": 25,
   "id": "extensive-license",
   "metadata": {},
   "outputs": [
    {
     "name": "stdout",
     "output_type": "stream",
     "text": [
      "(127068, 13) (127068, 13)\n",
      "(31767, 13) (31767, 13)\n"
     ]
    }
   ],
   "source": [
    "print(tr_src_input.shape, tr_tgt_input.shape)\n",
    "print(te_src_input.shape, te_tgt_input.shape)"
   ]
  },
  {
   "cell_type": "code",
   "execution_count": 26,
   "id": "later-ticket",
   "metadata": {},
   "outputs": [
    {
     "data": {
      "text/plain": [
       "<BatchDataset shapes: ((64, 13), (64, 13)), types: (tf.int32, tf.int32)>"
      ]
     },
     "execution_count": 26,
     "metadata": {},
     "output_type": "execute_result"
    }
   ],
   "source": [
    "buffer_size = len(tr_src_input)\n",
    "batch_size = 64\n",
    "steps_per_epoch = len(tr_src_input) // batch_size\n",
    "\n",
    "vocab_size = len(word_count)\n",
    "dataset = tf.data.Dataset.from_tensor_slices((tr_src_input, tr_tgt_input))\n",
    "dataset = dataset.shuffle(buffer_size)\n",
    "dataset = dataset.batch(batch_size, drop_remainder=True)\n",
    "dataset"
   ]
  },
  {
   "cell_type": "markdown",
   "id": "protecting-ecology",
   "metadata": {},
   "source": [
    "## 6. 모델 구조 구축"
   ]
  },
  {
   "cell_type": "code",
   "execution_count": 44,
   "id": "continuous-governor",
   "metadata": {},
   "outputs": [],
   "source": [
    "def create_model():\n",
    "    embedding_size = 256\n",
    "    hidden_size = 1024\n",
    "\n",
    "    inputs = tf.keras.layers.Input(shape=(tr_src_input.shape[1]))\n",
    "    layer = tf.keras.layers.Embedding(vocab_size, embedding_size)(inputs)\n",
    "#   layer = tf.keras.layers.BatchNormalization()(layer) \n",
    "    layer = tf.keras.layers.LSTM(hidden_size, return_sequences=True)(layer)\n",
    "#   layer = tf.keras.layers.LSTM(hidden_size, return_sequences=True, dropout=0.2)(layer)\n",
    "    layer = tf.keras.layers.Dropout(0.2)(layer)\n",
    "\n",
    "#   layer = tf.keras.layers.BatchNormalization()(layer) \n",
    "    layer = tf.keras.layers.LSTM(hidden_size, return_sequences=True)(layer)\n",
    "#   layer = tf.keras.layers.LSTM(hidden_size, return_sequences=True, dropout=0.2)(layer)\n",
    "    layer = tf.keras.layers.Dropout(0.2)(layer)\n",
    "\n",
    "#   layer = tf.keras.layers.BatchNormalization()(layer)\n",
    "    outputs = tf.keras.layers.Dense(vocab_size, kernel_initializer=\"he_normal\")(layer)\n",
    "#   outputs = tf.keras.layers.Dense(vocab_size)(layer)\n",
    "\n",
    "    model = tf.keras.Model(inputs, outputs)\n",
    "    return model"
   ]
  },
  {
   "cell_type": "markdown",
   "id": "pregnant-emerald",
   "metadata": {},
   "source": [
    "## 7. 모델 학습"
   ]
  },
  {
   "cell_type": "code",
   "execution_count": 45,
   "id": "framed-niagara",
   "metadata": {
    "scrolled": false
   },
   "outputs": [
    {
     "name": "stdout",
     "output_type": "stream",
     "text": [
      "Epoch 1/10\n",
      "1985/1985 [==============================] - 489s 245ms/step - loss: 3.7693 - val_loss: 3.1054\n",
      "Epoch 2/10\n",
      "1985/1985 [==============================] - 486s 245ms/step - loss: 3.0089 - val_loss: 2.8580\n",
      "Epoch 3/10\n",
      "1985/1985 [==============================] - 486s 245ms/step - loss: 2.7026 - val_loss: 2.7032\n",
      "Epoch 4/10\n",
      "1985/1985 [==============================] - 485s 244ms/step - loss: 2.4324 - val_loss: 2.6010\n",
      "Epoch 5/10\n",
      "1985/1985 [==============================] - 485s 244ms/step - loss: 2.2169 - val_loss: 2.5302\n",
      "Epoch 6/10\n",
      "1985/1985 [==============================] - 485s 244ms/step - loss: 2.0353 - val_loss: 2.4892\n",
      "Epoch 7/10\n",
      "1985/1985 [==============================] - 486s 245ms/step - loss: 1.8900 - val_loss: 2.4620\n",
      "Epoch 8/10\n",
      "1985/1985 [==============================] - 485s 244ms/step - loss: 1.7681 - val_loss: 2.4491\n",
      "Epoch 9/10\n",
      "1985/1985 [==============================] - 486s 245ms/step - loss: 1.6716 - val_loss: 2.4380\n",
      "Epoch 10/10\n",
      "1985/1985 [==============================] - 486s 245ms/step - loss: 1.5951 - val_loss: 2.4389\n"
     ]
    },
    {
     "data": {
      "image/png": "[encoded data removed]",
      "text/plain": [
       "<Figure size 432x288 with 1 Axes>"
      ]
     },
     "metadata": {
      "needs_background": "light"
     },
     "output_type": "display_data"
    }
   ],
   "source": [
    "# Adam은 적응적 학습률 알고리즘이기에 학습률 파라미터의 튜닝의 필요성이 적습니다. - 핸즈온 머신러닝 441p\n",
    "optimizer = tf.keras.optimizers.Adam()\n",
    "loss = tf.keras.losses.SparseCategoricalCrossentropy(\n",
    "    from_logits=True,\n",
    "    reduction='none'\n",
    ")\n",
    "\n",
    "\n",
    "es = tf.keras.callbacks.EarlyStopping(monitor=\"val_loss\", patience=1)\n",
    "#reduce_lr = tf.keras.callbacks.ReduceLROnPlateau(monitor='val_loss', factor=0.1, patience=1, min_lr=1e-5, min_delta=0.05)\n",
    "\n",
    "\n",
    "\n",
    "model = create_model()\n",
    "model.compile(loss=loss, optimizer=optimizer)\n",
    "history = model.fit(dataset, \n",
    "                    validation_data = (te_src_input, te_tgt_input),\n",
    "                    callbacks=[es],\n",
    "                    epochs=10)\n",
    "\n",
    "plt.plot(history.history[\"loss\"])\n",
    "plt.plot(history.history[\"val_loss\"])\n",
    "plt.legend(['train', 'test'], loc='upper right')\n",
    "plt.show()"
   ]
  },
  {
   "cell_type": "code",
   "execution_count": 47,
   "id": "excessive-bunny",
   "metadata": {},
   "outputs": [],
   "source": [
    "model.save(\"./model/saved_model_dropout0_2.h5\")"
   ]
  },
  {
   "cell_type": "markdown",
   "id": "expressed-absence",
   "metadata": {},
   "source": [
    "## 8. 학습된 모델 확인"
   ]
  },
  {
   "cell_type": "code",
   "execution_count": 49,
   "id": "acoustic-nicholas",
   "metadata": {},
   "outputs": [
    {
     "name": "stderr",
     "output_type": "stream",
     "text": [
      "100%|██████████| 1/1 [00:00<00:00, 7639.90it/s]\n"
     ]
    },
    {
     "data": {
      "text/plain": [
       "'<start> i love <end>'"
      ]
     },
     "execution_count": 49,
     "metadata": {},
     "output_type": "execute_result"
    }
   ],
   "source": [
    "def generate_setence(init_setence, max_len = 20):\n",
    "    init_sentence = [init_setence.split()]\n",
    "    test_tensor = vectorization(init_sentence, vocab, te_src_input.shape[1])\n",
    "\n",
    "    while True:\n",
    "        # 1\n",
    "        predict = model.predict(test_tensor)\n",
    "        # 2\n",
    "        predict_word = tf.argmax(tf.nn.softmax(predict, axis=-1), axis=-1)[:, -1] \n",
    "        # 3 \n",
    "        test_tensor = tf.concat([test_tensor, tf.expand_dims(predict_word, axis=0)], axis=-1)\n",
    "        # 4\n",
    "        if predict_word.numpy()[0] == word_index[\"<end>\"]: break\n",
    "        if test_tensor.shape[1] >= max_len: break\n",
    "\n",
    "    pred_sentence = test_tensor.numpy()[0]\n",
    "    for ind, i in enumerate(pred_sentence):\n",
    "        if i != 0:\n",
    "            tmp = pred_sentence[ind:]\n",
    "            break\n",
    "\n",
    "    return \" \".join([index_word[index] for index in tmp])\n",
    "\n",
    "generate_setence(\"<start> i love\")"
   ]
  },
  {
   "cell_type": "markdown",
   "id": "owned-philosophy",
   "metadata": {},
   "source": [
    "## 모델 성능 개선을 위한 노력\n",
    "- 하이퍼 파라미터 조절\n",
    "    1. vocab 사이즈 조절\n",
    "    2. embedding 사이즈 조절\n",
    "    3. hidden state 크기 조절\n",
    "- 텍스트 데이터 전처리\n",
    "- 외부 모델 불러오기"
   ]
  },
  {
   "cell_type": "markdown",
   "id": "dense-little",
   "metadata": {},
   "source": [
    "## 하이퍼 파라미터 조절"
   ]
  },
  {
   "cell_type": "markdown",
   "id": "infinite-merit",
   "metadata": {},
   "source": [
    "vocab size를 20,000 embedding size를 256 hidden state 크기를 1024로 하여 단순히 하이퍼 파라미터를 크게 한다고 좋은게 아니라고 느꼈습니다."
   ]
  },
  {
   "cell_type": "markdown",
   "id": "expensive-colleague",
   "metadata": {},
   "source": [
    "sentence: 10000  \n",
    "vocab_size: 31973 embedding_size: 256 hidden_size: 1024 dropout_rate: 0.2 loss: 3.5306 - val_loss: 3.8973  \n",
    "\n",
    "vocab_size: 31973 embedding_size: 256 hidden_size: 1024 dropout_rate: 0.05 loss: 3.5625 - val_loss: 3.9262  \n",
    "\n",
    "vocab_size: 31973 embedding_size: 256 hidden_size: 1024 dropout_rate: 0.5 loss: 3.6373 - val_loss: 3.8414  \n",
    "\n",
    "vocab_size: 31973 embedding_size: 256 hidden_size: 1024 dropout_rate: 0.8 loss: 3.8938 - val_loss: 3.8881 다시 val_loss가 상승함  \n",
    "\n",
    "vocab_size: 31973 embedding_size: 256 hidden_size: 1024 dropout_rate: 0.5 loss: 3.3754 - val_loss: 4.2197 batchnormalization  \n",
    "\n",
    "vocab_size: 31973 embedding_size: 256 hidden_size: 1024 dropout_rate: 0.5 loss: 3.5693 - val_loss: 3.8093 ReduceLROnPlateau  \n",
    "\n",
    "vocab_size: 31973 embedding_size: 256 hidden_size: 1024 dropout_rate: 0.5 loss: 3.5812 - val_loss: 3.8101 ReduceLROnPlateau batchnormalization 1개 epoch 9   \n",
    "\n",
    "vocab_size: 31973 embedding_size: 256 hidden_size: 1024 dropout_rate: 0.5 loss: 3.6421 - val_loss: 3.8326 ReduceLROnPlateau batchnormalization 2개   \n",
    "\n",
    "\n",
    "sentence: full  \n",
    "vocab_size: 31973 embedding_size: 256 hidden_size: 1024 dropout_rate: 0.5 loss: 3.5812 - val_loss: 3.8101 ReduceLROnPlateau batchnormalization 2개 \n",
    "\n",
    "sentence: 20000  \n",
    "vocab_size: 31973 embedding_size: 256 hidden_size: 1024 dropout_rate: 0.5 loss: 3.5812 - val_loss: 3.8101 ReduceLROnPlateau batchnormalization 2개 batch_size: 64\n",
    "\n",
    "vocab_size: 31973 embedding_size: 256 hidden_size: 1024 dropout_rate: 0.5 loss: 3.5812 - val_loss: 3.8101 ReduceLROnPlateau batchnormalization 1개 batch_size: 64"
   ]
  },
  {
   "cell_type": "markdown",
   "id": "controlling-shooting",
   "metadata": {},
   "source": [
    "loss: 1.9850 - val_loss: 3.2193"
   ]
  },
  {
   "cell_type": "markdown",
   "id": "adjacent-mercury",
   "metadata": {},
   "source": [
    "## 텍스트 데이터 전처리"
   ]
  },
  {
   "cell_type": "markdown",
   "id": "loved-rapid",
   "metadata": {},
   "source": [
    "관사 a, an, the를 제외한 길이가 1인 단어는 모두 제거하기\n",
    "\n",
    "중복되는 문장 제거하기는 오히려 성능의 저하가 발생하여 중복제거는 안하는 것이 좋다는 것을 알았습니다.  \n",
    "중복 제거 전 : loss: 3.5905 - val_loss: 3.8269  \n",
    "중복 제거 후 : loss: 3.9458 - val_loss: 4.1933\n",
    "\n",
    "배치사이즈를 적절하게 줄여야지 모델의 학습이 제대로 이루어져서 loss값이 감소하는 것을 알았습니다.\n",
    "- why? 배치사이즈를 줄임으로써 그래디언트가 갱신되는 횟수가 증가하여 수렴지점으로 더 쉽게 지나가기 때문이지 않을까?\n",
    "\n",
    "unknown 토큰을 추가하자 train loss값이 착실하게 감소하게 되었습니다.\n",
    "\n",
    "start 토큰과 end토큰을 제거하고 하는것이 더 학습이 잘됩니다."
   ]
  }
 ],
 "metadata": {
  "kernelspec": {
   "display_name": "Python 3",
   "language": "python",
   "name": "python3"
  },
  "language_info": {
   "codemirror_mode": {
    "name": "ipython",
    "version": 3
   },
   "file_extension": ".py",
   "mimetype": "text/x-python",
   "name": "python",
   "nbconvert_exporter": "python",
   "pygments_lexer": "ipython3",
   "version": "3.7.9"
  }
 },
 "nbformat": 4,
 "nbformat_minor": 5
}
